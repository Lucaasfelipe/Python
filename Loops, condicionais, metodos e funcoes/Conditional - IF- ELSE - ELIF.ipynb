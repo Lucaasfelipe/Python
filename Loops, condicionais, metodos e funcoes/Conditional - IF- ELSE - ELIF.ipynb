{
 "cells": [
  {
   "cell_type": "markdown",
   "metadata": {},
   "source": [
    "# Condicional IF "
   ]
  },
  {
   "cell_type": "code",
   "execution_count": 5,
   "metadata": {},
   "outputs": [
    {
     "name": "stdout",
     "output_type": "stream",
     "text": [
      "Python funciona!\n"
     ]
    }
   ],
   "source": [
    "# Se 5 for maior que 2 será imprimido a mensagem: \n",
    "if 5 > 2:\n",
    "    print('Python funciona!')"
   ]
  },
  {
   "cell_type": "code",
   "execution_count": 8,
   "metadata": {},
   "outputs": [
    {
     "name": "stdout",
     "output_type": "stream",
     "text": [
      "Python não funciona!\n"
     ]
    }
   ],
   "source": [
    "# # Se 5 for maior que 2 será imprimido a mensagem 'Python funciona!', se não 'Python não funciona!'.\n",
    "if 5 < 2:\n",
    "    print('Python funciona!')\n",
    "else:\n",
    "        print('Python não funciona!')"
   ]
  },
  {
   "cell_type": "code",
   "execution_count": 10,
   "metadata": {},
   "outputs": [
    {
     "data": {
      "text/plain": [
       "True"
      ]
     },
     "execution_count": 10,
     "metadata": {},
     "output_type": "execute_result"
    }
   ],
   "source": [
    "# 6 é maior que 3, se sim o resultado é true\n",
    "6 > 3 "
   ]
  },
  {
   "cell_type": "code",
   "execution_count": 11,
   "metadata": {},
   "outputs": [
    {
     "name": "stdout",
     "output_type": "stream",
     "text": [
      "testando\n"
     ]
    }
   ],
   "source": [
    "if 5 == 5:\n",
    "    print('testando')"
   ]
  },
  {
   "cell_type": "code",
   "execution_count": 13,
   "metadata": {},
   "outputs": [
    {
     "name": "stdout",
     "output_type": "stream",
     "text": [
      "OK\n"
     ]
    }
   ],
   "source": [
    "if True:\n",
    "    print('OK')"
   ]
  },
  {
   "cell_type": "markdown",
   "metadata": {},
   "source": [
    "# Condicional aninhado"
   ]
  },
  {
   "cell_type": "code",
   "execution_count": 15,
   "metadata": {},
   "outputs": [
    {
     "name": "stdout",
     "output_type": "stream",
     "text": [
      "Você pode dirigir!\n"
     ]
    }
   ],
   "source": [
    "idade = 18\n",
    "if idade > 17:\n",
    "    print('Você pode dirigir!')"
   ]
  },
  {
   "cell_type": "code",
   "execution_count": 16,
   "metadata": {},
   "outputs": [
    {
     "name": "stdout",
     "output_type": "stream",
     "text": [
      "Seu nome é Bob, você está autorizado a acessar!\n"
     ]
    }
   ],
   "source": [
    "Nome = 'Bob'\n",
    "if Nome == 'Bob':\n",
    "    print('Seu nome é Bob, você está autorizado a acessar!')\n",
    "else: \n",
    "    print('Seu nome não é Bob, você não está autorizado a acessar!')"
   ]
  },
  {
   "cell_type": "code",
   "execution_count": 17,
   "metadata": {},
   "outputs": [
    {
     "name": "stdout",
     "output_type": "stream",
     "text": [
      "Lucas, você está autorizado!\n"
     ]
    }
   ],
   "source": [
    "idade = 18\n",
    "nome = 'Lucas'\n",
    "\n",
    "if idade >= 18 and nome == 'Lucas':\n",
    "    print('Lucas, você está autorizado!')"
   ]
  },
  {
   "cell_type": "code",
   "execution_count": 25,
   "metadata": {},
   "outputs": [
    {
     "name": "stdout",
     "output_type": "stream",
     "text": [
      "Lucas, você está autorizado!\n"
     ]
    }
   ],
   "source": [
    "if idade > 18 or nome == 'Lucas':\n",
    "    print('Lucas, você está autorizado!')"
   ]
  },
  {
   "cell_type": "code",
   "execution_count": null,
   "metadata": {},
   "outputs": [],
   "source": []
  }
 ],
 "metadata": {
  "kernelspec": {
   "display_name": "Python 3",
   "language": "python",
   "name": "python3"
  },
  "language_info": {
   "codemirror_mode": {
    "name": "ipython",
    "version": 3
   },
   "file_extension": ".py",
   "mimetype": "text/x-python",
   "name": "python",
   "nbconvert_exporter": "python",
   "pygments_lexer": "ipython3",
   "version": "3.7.6"
  }
 },
 "nbformat": 4,
 "nbformat_minor": 4
}
