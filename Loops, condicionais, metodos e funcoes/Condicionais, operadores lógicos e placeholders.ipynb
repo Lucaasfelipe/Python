{
 "cells": [
  {
   "cell_type": "markdown",
   "metadata": {},
   "source": [
    "# Operadores Lógicos"
   ]
  },
  {
   "cell_type": "code",
   "execution_count": null,
   "metadata": {},
   "outputs": [],
   "source": [
    "# Utilização de input (o usuário digita alguma informação)\n",
    "disciplina = input('Digite a disciplina. ')\n",
    "nota_final = input('Digite a nota do aluno (entre 0 e 100): ')\n",
    "\n",
    "if nota_final >= '70':\n",
    "    print('Você foi aprovado! Na disciplina de ' + disciplina)\n",
    "else:\n",
    "    print('Você foi reprovado!')"
   ]
  },
  {
   "cell_type": "code",
   "execution_count": null,
   "metadata": {},
   "outputs": [],
   "source": [
    "# Placeholders: Utilizado para preenchimento automatico quando o python encontrar o {0}. Ex.: \n",
    "disciplina = input('Digite a disciplina: ')\n",
    "nota_final = input('Digite a nota: ')\n",
    "\n",
    "if disciplina == 'Linguas' and nota_final >= '70':\n",
    "    print('Você foi aprovado com a pontuação {1} na materia de {0}' .format(disciplina,nota_final))\n",
    "else: \n",
    "    print('Foi reprovado!')"
   ]
  },
  {
   "cell_type": "code",
   "execution_count": null,
   "metadata": {},
   "outputs": [],
   "source": []
  },
  {
   "cell_type": "code",
   "execution_count": null,
   "metadata": {},
   "outputs": [],
   "source": []
  }
 ],
 "metadata": {
  "kernelspec": {
   "display_name": "Python 3",
   "language": "python",
   "name": "python3"
  },
  "language_info": {
   "codemirror_mode": {
    "name": "ipython",
    "version": 3
   },
   "file_extension": ".py",
   "mimetype": "text/x-python",
   "name": "python",
   "nbconvert_exporter": "python",
   "pygments_lexer": "ipython3",
   "version": "3.7.6"
  }
 },
 "nbformat": 4,
 "nbformat_minor": 4
}
