{
 "cells": [
  {
   "cell_type": "markdown",
   "metadata": {},
   "source": [
    "# While "
   ]
  },
  {
   "cell_type": "code",
   "execution_count": null,
   "metadata": {},
   "outputs": [],
   "source": [
    "# While para conta de 0 a 9\n",
    "contar = 0 \n",
    "while contar < 10:\n",
    "    print(contar)\n",
    "    contar = contar + 1"
   ]
  },
  {
   "cell_type": "code",
   "execution_count": null,
   "metadata": {},
   "outputs": [],
   "source": [
    "# while verificar o valor \n",
    "\n",
    "x = 0 \n",
    "\n",
    "while x < 10:\n",
    "    if x  < 10:\n",
    "        print ('O valor de x é menor que 10')\n",
    "        print ('O valor de x é:' ,x)\n",
    "        x += 1\n",
    "        \n",
    "else:\n",
    "    print ('Loop concluido!')"
   ]
  },
  {
   "cell_type": "markdown",
   "metadata": {},
   "source": [
    "# PASS, BREAK, CONTINUE"
   ]
  },
  {
   "cell_type": "code",
   "execution_count": null,
   "metadata": {},
   "outputs": [],
   "source": [
    "# Se o COUNTER for igual a 4 vai colocar o break e finalizar, caso for abaixo de 4 entra na regra else e pass (passa) para próx.\n",
    "counter = 0 \n",
    "while counter < 100:\n",
    "    if counter == 4:\n",
    "        break\n",
    "    else: \n",
    "        pass\n",
    "    print(counter)\n",
    "    counter +=1"
   ]
  },
  {
   "cell_type": "code",
   "execution_count": null,
   "metadata": {},
   "outputs": [],
   "source": [
    "for verif in 'Python':\n",
    "    if verif == 'h':\n",
    "        continue\n",
    "    print(verif)"
   ]
  },
  {
   "cell_type": "markdown",
   "metadata": {},
   "source": [
    "# While e For "
   ]
  },
  {
   "cell_type": "code",
   "execution_count": null,
   "metadata": {},
   "outputs": [],
   "source": [
    "# Calculo para ter números primos\n",
    "\n",
    "for i in range(2,30):\n",
    "    j = 2\n",
    "    counter = 0 \n",
    "    while j < i:\n",
    "        if i % j == 0:\n",
    "            counter = 1 \n",
    "            j += 1\n",
    "        else: \n",
    "            j+= 1 \n",
    "    if counter == 0:\n",
    "        print (i, ' é um número primo.')\n",
    "        counter = 0\n",
    "    else: \n",
    "        counter = 0 "
   ]
  }
 ],
 "metadata": {
  "kernelspec": {
   "display_name": "Python 3",
   "language": "python",
   "name": "python3"
  },
  "language_info": {
   "codemirror_mode": {
    "name": "ipython",
    "version": 3
   },
   "file_extension": ".py",
   "mimetype": "text/x-python",
   "name": "python",
   "nbconvert_exporter": "python",
   "pygments_lexer": "ipython3",
   "version": "3.7.6"
  }
 },
 "nbformat": 4,
 "nbformat_minor": 4
}
