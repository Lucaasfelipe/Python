{
 "cells": [
  {
   "cell_type": "markdown",
   "metadata": {},
   "source": [
    "# Estrutura de dados - DICIONÁRIOS"
   ]
  },
  {
   "cell_type": "code",
   "execution_count": null,
   "metadata": {},
   "outputs": [],
   "source": [
    "# Diferença lista e dicionários\n",
    "\n",
    "Lista = ['Lucas', 'João', 'José']\n",
    "Dicionarios = {'Lucas':1, 'João':2, 'José':3}"
   ]
  },
  {
   "cell_type": "code",
   "execution_count": null,
   "metadata": {},
   "outputs": [],
   "source": [
    "Lista"
   ]
  },
  {
   "cell_type": "code",
   "execution_count": null,
   "metadata": {},
   "outputs": [],
   "source": [
    "Dicionarios"
   ]
  },
  {
   "cell_type": "code",
   "execution_count": null,
   "metadata": {},
   "outputs": [],
   "source": [
    "# Retorna o indice do registro cadastrado\n",
    "Dicionarios ['Lucas']"
   ]
  },
  {
   "cell_type": "code",
   "execution_count": null,
   "metadata": {},
   "outputs": [],
   "source": [
    "# Criar registro e informar a chave. \n",
    "Dicionarios ['Oliveira'] = 3"
   ]
  },
  {
   "cell_type": "code",
   "execution_count": null,
   "metadata": {},
   "outputs": [],
   "source": [
    "# Limpar o dicionário\n",
    "Dicionarios.clear()"
   ]
  },
  {
   "cell_type": "code",
   "execution_count": null,
   "metadata": {},
   "outputs": [],
   "source": [
    "# Deletar dicionário\n",
    "del Dicionarios"
   ]
  },
  {
   "cell_type": "code",
   "execution_count": null,
   "metadata": {},
   "outputs": [],
   "source": [
    "# verificar o tamanho do dicionário\n",
    "len(Dicionarios)"
   ]
  },
  {
   "cell_type": "code",
   "execution_count": null,
   "metadata": {},
   "outputs": [],
   "source": [
    "# Extrair apenas as chaves. Ex.: Lucas, João, Jose, Oliveira\n",
    "Dicionarios.keys()"
   ]
  },
  {
   "cell_type": "code",
   "execution_count": null,
   "metadata": {},
   "outputs": [],
   "source": [
    "# Extrair apenas os valores. Ex.: 1, 2, 3, 3. \n",
    "Dicionarios.values()"
   ]
  },
  {
   "cell_type": "code",
   "execution_count": null,
   "metadata": {},
   "outputs": [],
   "source": [
    "# Retonar somente as combinações de chaves e valores. Ex.: ('Lucas',1), ('José', 3), etc. \n",
    "Dicionarios.items()"
   ]
  },
  {
   "cell_type": "code",
   "execution_count": null,
   "metadata": {},
   "outputs": [],
   "source": [
    "# Realizar o update de um dicionário para outro\n",
    "Dicionarios2 = {'Felipe':4, 'Romario':6}\n",
    "Dicionarios.update(Dicionarios2)\n",
    "Dicionarios"
   ]
  },
  {
   "cell_type": "code",
   "execution_count": null,
   "metadata": {},
   "outputs": [],
   "source": [
    "# Criação de dicionário de listas\n",
    "Dic_list = {'key1':123, 'key2':['Pão', 'Leite', 'Café'], 'key3':['Padaria', 'Sacolão', 'Supermercado']}\n",
    "Dic_list"
   ]
  },
  {
   "cell_type": "code",
   "execution_count": null,
   "metadata": {},
   "outputs": [],
   "source": [
    "# consultar o valor da chave.\n",
    "Dic_list['key1']"
   ]
  },
  {
   "cell_type": "code",
   "execution_count": null,
   "metadata": {},
   "outputs": [],
   "source": [
    "# Buscar a Key2 e a primeira coluna = PÃO. Upper é utilizado para deixar a palavra em maiusculo.\n",
    "Dic_list['key2'][0].upper()"
   ]
  },
  {
   "cell_type": "code",
   "execution_count": null,
   "metadata": {},
   "outputs": [],
   "source": [
    "# Substrair o valor no dicionário\n",
    "a = Dic_list['key1'] - 2 \n",
    "a"
   ]
  },
  {
   "cell_type": "markdown",
   "metadata": {},
   "source": [
    "# Criar um dicionário aninhado\n"
   ]
  },
  {
   "cell_type": "code",
   "execution_count": null,
   "metadata": {},
   "outputs": [],
   "source": [
    "Dic_aninhado = {'key1':{'key2': {'key3':'Teste com python'}}}\n",
    "Dic_aninhado"
   ]
  },
  {
   "cell_type": "code",
   "execution_count": null,
   "metadata": {},
   "outputs": [],
   "source": [
    "Dic_aninhado['key1']['key2']['key3']"
   ]
  }
 ],
 "metadata": {
  "kernelspec": {
   "display_name": "Python 3",
   "language": "python",
   "name": "python3"
  },
  "language_info": {
   "codemirror_mode": {
    "name": "ipython",
    "version": 3
   },
   "file_extension": ".py",
   "mimetype": "text/x-python",
   "name": "python",
   "nbconvert_exporter": "python",
   "pygments_lexer": "ipython3",
   "version": "3.7.6"
  }
 },
 "nbformat": 4,
 "nbformat_minor": 4
}
