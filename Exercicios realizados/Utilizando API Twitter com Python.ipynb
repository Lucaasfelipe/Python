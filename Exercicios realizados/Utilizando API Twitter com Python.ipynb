{
 "cells": [
  {
   "cell_type": "code",
   "execution_count": 54,
   "metadata": {},
   "outputs": [],
   "source": [
    "# Importando a biblioteca do twitter. Utilizar o tw para referenciar ao tweepy\n",
    "import tweepy as tw"
   ]
  },
  {
   "cell_type": "code",
   "execution_count": 55,
   "metadata": {},
   "outputs": [],
   "source": [
    "# Informações da API, deve criar uma conta no TT developes. \n",
    "Consumo_chave = ''\n",
    "consumo_chaveSecreta = ''\n",
    "Token_Acesso = ''\n",
    "Token_Acesso_secreto = ''"
   ]
  },
  {
   "cell_type": "code",
   "execution_count": 56,
   "metadata": {},
   "outputs": [
    {
     "name": "stdout",
     "output_type": "stream",
     "text": [
      "2021-01-20 00:18:06\n",
      "Bolsonaro é o melhor Presidente que o Brasil já teve #QueroBolsonaroAte2026 \n",
      "\n",
      "2021-01-20 00:18:05\n",
      "@thicico Já pensei a mesma coisa, \"é o fim de Bolsonaro\", várias vezes... Algumas foi pura torcida, outras foi anál… https://t.co/Fyo6UKmOIY \n",
      "\n",
      "2021-01-20 00:18:05\n",
      "RT @MagnoLMendes: Eu sou Bolsonaro até o 2026 !\n",
      "\n",
      "Quem vem comigo ?\n",
      " #QueroBolsonaroAte2026 \n",
      "\n",
      "2021-01-20 00:18:05\n",
      "@KingsGoku1 @celio_begalli @Denilsonx14 @obru_goncalves @arthurmoledoval @marcelvanhattem Fazer o q, cara. A realid… https://t.co/rjx7l4CD78 \n",
      "\n",
      "2021-01-20 00:18:05\n",
      "Flávio Bolsonaro afirma que não tomará vacina da Covid-19 agora\n",
      "Em sua redes sociais, parlamentar afirmou que irá \"… https://t.co/dJEc4ZX2EG \n",
      "\n",
      "2021-01-20 00:18:05\n",
      "RT @UOLNoticias: Auxiliares de Bolsonaro bombardeiam Ernesto por impasses com China e Índia https://t.co/vjgx4o9yvX \n",
      "\n",
      "2021-01-20 00:18:05\n",
      "@ReinaldoCarrera @lemos_ronaldo Quem te disse isto? Mr. Fake News, pra sua info. A China está substituindo as impor… https://t.co/ASWtxNVqxd \n",
      "\n",
      "2021-01-20 00:18:05\n",
      "RT @erikakokay: A Índia disse hoje que a falta da vacina é culpa do Brasil e dos países ricos. Por puro servilismo ao Trump e sonho pueril… \n",
      "\n",
      "2021-01-20 00:18:05\n",
      "RT @sos_impeachment: 🚨 PLACAR DO IMPEACHMENT DE JAIR BOLSONARO 19/01/2021 às 8h:\n",
      "\n",
      "🔵 110 deputados &gt; A FAVOR do impeachment de Bolsonaro (+2… \n",
      "\n",
      "2021-01-20 00:18:04\n",
      "RT @IzabelleFores: \"Quem decide se um povo vai viver democracia ou ditadura são as Forças Armadas\"\n",
      "Jair Messias Bolsonaro\n",
      "\n",
      "Ele ainda afirmo… \n",
      "\n",
      "2021-01-20 00:18:04\n",
      "#BolsonaroAte2026 . 613.000. Somos todos Bolsonaro \n",
      "\n",
      "2021-01-20 00:18:04\n",
      "RT @reinaldoazevedo: Bolsonaro e seus gênios compraram brigas estúpidas com a China. E o Brasil ñ tem o IFA (Ingrediente Farmacêutico Ativo… \n",
      "\n",
      "2021-01-20 00:18:04\n",
      "RT @Damadeferroofic: Votei em Bolsonaro apenas para livrar o país do PT. Em 2022 votarei por convicção! \n",
      "\n",
      "2021-01-20 00:18:04\n",
      "RT @IzabelleFores: Você quer o impeachment do presidente bolsonaro? \n",
      "\n",
      "2021-01-20 00:18:04\n",
      "RT @BenjaminNorton: When I made this point with @RaniaKhalek, soft-imperialist fake \"leftists\" attacked us, but Pompeo's gloating shows we… \n",
      "\n"
     ]
    }
   ],
   "source": [
    "Autorizacao = tw.OAuthHandler(Consumo_chave, consumo_chaveSecreta)\n",
    "Autorizacao.set_access_token(Token_Acesso, Token_Acesso_secreto)\n",
    "\n",
    "#Utilizar api.search busca informações especificas no TT, q='Busca' utilizado para buscar algo em espefico no TT. \n",
    "Pesquisa = api.search(q='Bolsonaro' or 'Jair' or 'Politica')\n",
    "\n",
    "public_tweets = api.home_timeline(wait_on_rate_limit=True, wait_on_rate_limit_notify=True)\n",
    "for tw in Pesquisa:\n",
    "    \n",
    "    print(tw.created_at)\n",
    "    print(tw.text, '\\n')\n",
    "    "
   ]
  },
  {
   "cell_type": "code",
   "execution_count": null,
   "metadata": {},
   "outputs": [],
   "source": []
  }
 ],
 "metadata": {
  "kernelspec": {
   "display_name": "Python 3",
   "language": "python",
   "name": "python3"
  },
  "language_info": {
   "codemirror_mode": {
    "name": "ipython",
    "version": 3
   },
   "file_extension": ".py",
   "mimetype": "text/x-python",
   "name": "python",
   "nbconvert_exporter": "python",
   "pygments_lexer": "ipython3",
   "version": "3.7.6"
  }
 },
 "nbformat": 4,
 "nbformat_minor": 4
}
