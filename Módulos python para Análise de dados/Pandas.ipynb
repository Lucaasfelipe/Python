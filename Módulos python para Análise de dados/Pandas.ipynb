{
 "cells": [
  {
   "cell_type": "markdown",
   "metadata": {},
   "source": [
    "# Biblioteca Pandas"
   ]
  },
  {
   "cell_type": "code",
   "execution_count": 5,
   "metadata": {},
   "outputs": [],
   "source": [
    "# Importa somente a função que vou utilizar\n",
    "from pandas import Series\n",
    "from pandas import DataFrame"
   ]
  },
  {
   "cell_type": "code",
   "execution_count": 6,
   "metadata": {},
   "outputs": [],
   "source": [
    "# importar a biblioteca inteira\n",
    "import pandas as pd"
   ]
  },
  {
   "cell_type": "code",
   "execution_count": 7,
   "metadata": {},
   "outputs": [
    {
     "data": {
      "text/plain": [
       "'1.0.1'"
      ]
     },
     "execution_count": 7,
     "metadata": {},
     "output_type": "execute_result"
    }
   ],
   "source": [
    "# Verificar a versão \n",
    "pd.__version__"
   ]
  },
  {
   "cell_type": "markdown",
   "metadata": {},
   "source": [
    "## Manipulando Series"
   ]
  },
  {
   "cell_type": "code",
   "execution_count": 8,
   "metadata": {},
   "outputs": [
    {
     "data": {
      "text/plain": [
       "0    67\n",
       "1    78\n",
       "2   -56\n",
       "3    13\n",
       "dtype: int64"
      ]
     },
     "execution_count": 8,
     "metadata": {},
     "output_type": "execute_result"
    }
   ],
   "source": [
    "# Criar uma serie sem especificar os indices \n",
    "Obj = Series ([67, 78, -56, 13])\n",
    "Obj"
   ]
  },
  {
   "cell_type": "code",
   "execution_count": 9,
   "metadata": {},
   "outputs": [
    {
     "data": {
      "text/plain": [
       "pandas.core.series.Series"
      ]
     },
     "execution_count": 9,
     "metadata": {},
     "output_type": "execute_result"
    }
   ],
   "source": [
    "type(Obj)"
   ]
  },
  {
   "cell_type": "code",
   "execution_count": 10,
   "metadata": {},
   "outputs": [
    {
     "data": {
      "text/plain": [
       "array([ 67,  78, -56,  13], dtype=int64)"
      ]
     },
     "execution_count": 10,
     "metadata": {},
     "output_type": "execute_result"
    }
   ],
   "source": [
    "Obj.values"
   ]
  },
  {
   "cell_type": "code",
   "execution_count": 11,
   "metadata": {},
   "outputs": [
    {
     "data": {
      "text/plain": [
       "RangeIndex(start=0, stop=4, step=1)"
      ]
     },
     "execution_count": 11,
     "metadata": {},
     "output_type": "execute_result"
    }
   ],
   "source": [
    "Obj.index"
   ]
  },
  {
   "cell_type": "code",
   "execution_count": 12,
   "metadata": {},
   "outputs": [
    {
     "data": {
      "text/plain": [
       "a    67\n",
       "b    78\n",
       "c   -56\n",
       "d    13\n",
       "dtype: int64"
      ]
     },
     "execution_count": 12,
     "metadata": {},
     "output_type": "execute_result"
    }
   ],
   "source": [
    "# Criando serie com indices especificos\n",
    "Obj2 = Series ([ 67,  78, -56,  13], index = ['a', 'b', 'c', 'd'])\n",
    "Obj2"
   ]
  },
  {
   "cell_type": "code",
   "execution_count": 13,
   "metadata": {},
   "outputs": [
    {
     "data": {
      "text/plain": [
       "array([ 67,  78, -56,  13], dtype=int64)"
      ]
     },
     "execution_count": 13,
     "metadata": {},
     "output_type": "execute_result"
    }
   ],
   "source": [
    "Obj2.values"
   ]
  },
  {
   "cell_type": "code",
   "execution_count": 14,
   "metadata": {},
   "outputs": [
    {
     "data": {
      "text/plain": [
       "Index(['a', 'b', 'c', 'd'], dtype='object')"
      ]
     },
     "execution_count": 14,
     "metadata": {},
     "output_type": "execute_result"
    }
   ],
   "source": [
    "Obj2.index"
   ]
  },
  {
   "cell_type": "code",
   "execution_count": 15,
   "metadata": {},
   "outputs": [
    {
     "data": {
      "text/plain": [
       "a    67\n",
       "b    78\n",
       "d    13\n",
       "dtype: int64"
      ]
     },
     "execution_count": 15,
     "metadata": {},
     "output_type": "execute_result"
    }
   ],
   "source": [
    "# Retornar tudo que for maior que 3\n",
    "Obj2[Obj2 > 3]"
   ]
  },
  {
   "cell_type": "code",
   "execution_count": 16,
   "metadata": {},
   "outputs": [
    {
     "data": {
      "text/plain": [
       "78"
      ]
     },
     "execution_count": 16,
     "metadata": {},
     "output_type": "execute_result"
    }
   ],
   "source": [
    "# Utilização do index para trazer o valor. \n",
    "Obj2['b']"
   ]
  },
  {
   "cell_type": "code",
   "execution_count": 17,
   "metadata": {},
   "outputs": [
    {
     "data": {
      "text/plain": [
       "True"
      ]
     },
     "execution_count": 17,
     "metadata": {},
     "output_type": "execute_result"
    }
   ],
   "source": [
    "# Verificar se um dos indices se encontra no Obj2\n",
    "'d' in Obj2"
   ]
  },
  {
   "cell_type": "code",
   "execution_count": 18,
   "metadata": {},
   "outputs": [],
   "source": [
    "# Criando uma série de dados passando um dicionário como parâmetro. \n",
    "dict = {'Futebol':5200, 'Tênis':120, 'Natação':698, 'Volleyball':1550}"
   ]
  },
  {
   "cell_type": "code",
   "execution_count": 19,
   "metadata": {},
   "outputs": [
    {
     "data": {
      "text/plain": [
       "Futebol       5200\n",
       "Tênis          120\n",
       "Natação        698\n",
       "Volleyball    1550\n",
       "dtype: int64"
      ]
     },
     "execution_count": 19,
     "metadata": {},
     "output_type": "execute_result"
    }
   ],
   "source": [
    "# Criando uma série apartir do dicionário\n",
    "Obj3 = Series(dict)\n",
    "Obj3"
   ]
  },
  {
   "cell_type": "code",
   "execution_count": 20,
   "metadata": {},
   "outputs": [
    {
     "data": {
      "text/plain": [
       "pandas.core.series.Series"
      ]
     },
     "execution_count": 20,
     "metadata": {},
     "output_type": "execute_result"
    }
   ],
   "source": [
    "type(Obj3)"
   ]
  },
  {
   "cell_type": "code",
   "execution_count": 21,
   "metadata": {},
   "outputs": [],
   "source": [
    "# Criando uma lista \n",
    "esportes = ['Futebol', 'Tênis', 'Natação', 'Basketball']"
   ]
  },
  {
   "cell_type": "code",
   "execution_count": 22,
   "metadata": {},
   "outputs": [
    {
     "data": {
      "text/plain": [
       "Futebol       5200.0\n",
       "Tênis          120.0\n",
       "Natação        698.0\n",
       "Basketball       NaN\n",
       "dtype: float64"
      ]
     },
     "execution_count": 22,
     "metadata": {},
     "output_type": "execute_result"
    }
   ],
   "source": [
    "# Criando um serie e usando uma lista como indices\n",
    "# O Pandas entende que se não existe no dicionário, ele acrescenta 'NaN'\n",
    "Obj4 = Series (dict, index = esportes)\n",
    "Obj4"
   ]
  },
  {
   "cell_type": "code",
   "execution_count": 23,
   "metadata": {},
   "outputs": [
    {
     "data": {
      "text/plain": [
       "Futebol       False\n",
       "Tênis         False\n",
       "Natação       False\n",
       "Basketball     True\n",
       "dtype: bool"
      ]
     },
     "execution_count": 23,
     "metadata": {},
     "output_type": "execute_result"
    }
   ],
   "source": [
    "# Informa os elementos que estão 'NULO'\n",
    "pd.isnull(Obj4)"
   ]
  },
  {
   "cell_type": "code",
   "execution_count": 24,
   "metadata": {},
   "outputs": [
    {
     "data": {
      "text/plain": [
       "Futebol        True\n",
       "Tênis          True\n",
       "Natação        True\n",
       "Basketball    False\n",
       "dtype: bool"
      ]
     },
     "execution_count": 24,
     "metadata": {},
     "output_type": "execute_result"
    }
   ],
   "source": [
    "# Informa os elementos que estão 'NÃO NULO'\n",
    "pd.notnull(Obj4)"
   ]
  },
  {
   "cell_type": "code",
   "execution_count": 25,
   "metadata": {},
   "outputs": [
    {
     "data": {
      "text/plain": [
       "Basketball        NaN\n",
       "Futebol       10400.0\n",
       "Natação        1396.0\n",
       "Tênis           240.0\n",
       "Volleyball        NaN\n",
       "dtype: float64"
      ]
     },
     "execution_count": 25,
     "metadata": {},
     "output_type": "execute_result"
    }
   ],
   "source": [
    "# Concatenar Series\n",
    "Obj3 + Obj4"
   ]
  },
  {
   "cell_type": "code",
   "execution_count": 26,
   "metadata": {},
   "outputs": [
    {
     "data": {
      "text/plain": [
       "Futebol       5200.0\n",
       "Tênis          120.0\n",
       "Natação        698.0\n",
       "Basketball       NaN\n",
       "Name: População, dtype: float64"
      ]
     },
     "execution_count": 26,
     "metadata": {},
     "output_type": "execute_result"
    }
   ],
   "source": [
    "# Acrescentar um nome\n",
    "Obj4.name = 'População'\n",
    "Obj4"
   ]
  },
  {
   "cell_type": "code",
   "execution_count": 27,
   "metadata": {},
   "outputs": [
    {
     "data": {
      "text/plain": [
       "esporte\n",
       "Futebol       5200.0\n",
       "Tênis          120.0\n",
       "Natação        698.0\n",
       "Basketball       NaN\n",
       "Name: População, dtype: float64"
      ]
     },
     "execution_count": 27,
     "metadata": {},
     "output_type": "execute_result"
    }
   ],
   "source": [
    "# Acrescentar nome no indice. \n",
    "Obj4.index.name = 'esporte'\n",
    "Obj4"
   ]
  },
  {
   "cell_type": "markdown",
   "metadata": {},
   "source": [
    "## Criando DataFrame"
   ]
  },
  {
   "cell_type": "code",
   "execution_count": 28,
   "metadata": {},
   "outputs": [
    {
     "data": {
      "text/plain": [
       "{'Estado': ['Santa Catarina', 'Paraná', 'Goiás', 'Bahia', 'Minas gerais'],\n",
       " 'Ano': ['2002', '2003', '2004', '2005', '2006'],\n",
       " 'População': [1.5, 1.7, 3.6, 2.4, 2.9]}"
      ]
     },
     "execution_count": 28,
     "metadata": {},
     "output_type": "execute_result"
    }
   ],
   "source": [
    "# Criando um dicionário\n",
    "data = {'Estado':['Santa Catarina', 'Paraná', 'Goiás', 'Bahia', 'Minas gerais'],\n",
    "        'Ano':['2002', '2003', '2004', '2005', '2006'],\n",
    "        'População': [1.5, 1.7, 3.6, 2.4, 2.9] }\n",
    "data"
   ]
  },
  {
   "cell_type": "code",
   "execution_count": 29,
   "metadata": {},
   "outputs": [],
   "source": [
    "# Utilizado o DataFrame para criação de uma planilha \n",
    "df = DataFrame(data)"
   ]
  },
  {
   "cell_type": "code",
   "execution_count": 30,
   "metadata": {},
   "outputs": [
    {
     "data": {
      "text/html": [
       "<div>\n",
       "<style scoped>\n",
       "    .dataframe tbody tr th:only-of-type {\n",
       "        vertical-align: middle;\n",
       "    }\n",
       "\n",
       "    .dataframe tbody tr th {\n",
       "        vertical-align: top;\n",
       "    }\n",
       "\n",
       "    .dataframe thead th {\n",
       "        text-align: right;\n",
       "    }\n",
       "</style>\n",
       "<table border=\"1\" class=\"dataframe\">\n",
       "  <thead>\n",
       "    <tr style=\"text-align: right;\">\n",
       "      <th></th>\n",
       "      <th>Estado</th>\n",
       "      <th>Ano</th>\n",
       "      <th>População</th>\n",
       "    </tr>\n",
       "  </thead>\n",
       "  <tbody>\n",
       "    <tr>\n",
       "      <th>0</th>\n",
       "      <td>Santa Catarina</td>\n",
       "      <td>2002</td>\n",
       "      <td>1.5</td>\n",
       "    </tr>\n",
       "    <tr>\n",
       "      <th>1</th>\n",
       "      <td>Paraná</td>\n",
       "      <td>2003</td>\n",
       "      <td>1.7</td>\n",
       "    </tr>\n",
       "    <tr>\n",
       "      <th>2</th>\n",
       "      <td>Goiás</td>\n",
       "      <td>2004</td>\n",
       "      <td>3.6</td>\n",
       "    </tr>\n",
       "    <tr>\n",
       "      <th>3</th>\n",
       "      <td>Bahia</td>\n",
       "      <td>2005</td>\n",
       "      <td>2.4</td>\n",
       "    </tr>\n",
       "    <tr>\n",
       "      <th>4</th>\n",
       "      <td>Minas gerais</td>\n",
       "      <td>2006</td>\n",
       "      <td>2.9</td>\n",
       "    </tr>\n",
       "  </tbody>\n",
       "</table>\n",
       "</div>"
      ],
      "text/plain": [
       "           Estado   Ano  População\n",
       "0  Santa Catarina  2002        1.5\n",
       "1          Paraná  2003        1.7\n",
       "2           Goiás  2004        3.6\n",
       "3           Bahia  2005        2.4\n",
       "4    Minas gerais  2006        2.9"
      ]
     },
     "execution_count": 30,
     "metadata": {},
     "output_type": "execute_result"
    }
   ],
   "source": [
    "df"
   ]
  },
  {
   "cell_type": "code",
   "execution_count": 31,
   "metadata": {},
   "outputs": [
    {
     "ename": "NameError",
     "evalue": "name 'frame' is not defined",
     "output_type": "error",
     "traceback": [
      "\u001b[1;31m---------------------------------------------------------------------------\u001b[0m",
      "\u001b[1;31mNameError\u001b[0m                                 Traceback (most recent call last)",
      "\u001b[1;32m<ipython-input-31-49ef4a6d430a>\u001b[0m in \u001b[0;36m<module>\u001b[1;34m\u001b[0m\n\u001b[1;32m----> 1\u001b[1;33m \u001b[0mtype\u001b[0m\u001b[1;33m(\u001b[0m\u001b[0mframe\u001b[0m\u001b[1;33m)\u001b[0m\u001b[1;33m\u001b[0m\u001b[1;33m\u001b[0m\u001b[0m\n\u001b[0m",
      "\u001b[1;31mNameError\u001b[0m: name 'frame' is not defined"
     ]
    }
   ],
   "source": [
    "type(frame)"
   ]
  },
  {
   "cell_type": "code",
   "execution_count": 32,
   "metadata": {},
   "outputs": [
    {
     "data": {
      "text/html": [
       "<div>\n",
       "<style scoped>\n",
       "    .dataframe tbody tr th:only-of-type {\n",
       "        vertical-align: middle;\n",
       "    }\n",
       "\n",
       "    .dataframe tbody tr th {\n",
       "        vertical-align: top;\n",
       "    }\n",
       "\n",
       "    .dataframe thead th {\n",
       "        text-align: right;\n",
       "    }\n",
       "</style>\n",
       "<table border=\"1\" class=\"dataframe\">\n",
       "  <thead>\n",
       "    <tr style=\"text-align: right;\">\n",
       "      <th></th>\n",
       "      <th>Ano</th>\n",
       "      <th>Estado</th>\n",
       "      <th>População</th>\n",
       "    </tr>\n",
       "  </thead>\n",
       "  <tbody>\n",
       "    <tr>\n",
       "      <th>0</th>\n",
       "      <td>2002</td>\n",
       "      <td>Santa Catarina</td>\n",
       "      <td>1.5</td>\n",
       "    </tr>\n",
       "    <tr>\n",
       "      <th>1</th>\n",
       "      <td>2003</td>\n",
       "      <td>Paraná</td>\n",
       "      <td>1.7</td>\n",
       "    </tr>\n",
       "    <tr>\n",
       "      <th>2</th>\n",
       "      <td>2004</td>\n",
       "      <td>Goiás</td>\n",
       "      <td>3.6</td>\n",
       "    </tr>\n",
       "    <tr>\n",
       "      <th>3</th>\n",
       "      <td>2005</td>\n",
       "      <td>Bahia</td>\n",
       "      <td>2.4</td>\n",
       "    </tr>\n",
       "    <tr>\n",
       "      <th>4</th>\n",
       "      <td>2006</td>\n",
       "      <td>Minas gerais</td>\n",
       "      <td>2.9</td>\n",
       "    </tr>\n",
       "  </tbody>\n",
       "</table>\n",
       "</div>"
      ],
      "text/plain": [
       "    Ano          Estado  População\n",
       "0  2002  Santa Catarina        1.5\n",
       "1  2003          Paraná        1.7\n",
       "2  2004           Goiás        3.6\n",
       "3  2005           Bahia        2.4\n",
       "4  2006    Minas gerais        2.9"
      ]
     },
     "execution_count": 32,
     "metadata": {},
     "output_type": "execute_result"
    }
   ],
   "source": [
    "# Comando utilizado para renomear as colunas, utilizado também para alterar a ordem das colunas\n",
    "DataFrame(data, columns = ['Ano', 'Estado', 'População'])"
   ]
  },
  {
   "cell_type": "code",
   "execution_count": 33,
   "metadata": {},
   "outputs": [
    {
     "data": {
      "text/html": [
       "<div>\n",
       "<style scoped>\n",
       "    .dataframe tbody tr th:only-of-type {\n",
       "        vertical-align: middle;\n",
       "    }\n",
       "\n",
       "    .dataframe tbody tr th {\n",
       "        vertical-align: top;\n",
       "    }\n",
       "\n",
       "    .dataframe thead th {\n",
       "        text-align: right;\n",
       "    }\n",
       "</style>\n",
       "<table border=\"1\" class=\"dataframe\">\n",
       "  <thead>\n",
       "    <tr style=\"text-align: right;\">\n",
       "      <th></th>\n",
       "      <th>Ano</th>\n",
       "      <th>Estado</th>\n",
       "      <th>População</th>\n",
       "      <th>Débito</th>\n",
       "    </tr>\n",
       "  </thead>\n",
       "  <tbody>\n",
       "    <tr>\n",
       "      <th>um</th>\n",
       "      <td>2002</td>\n",
       "      <td>Santa Catarina</td>\n",
       "      <td>1.5</td>\n",
       "      <td>NaN</td>\n",
       "    </tr>\n",
       "    <tr>\n",
       "      <th>dois</th>\n",
       "      <td>2003</td>\n",
       "      <td>Paraná</td>\n",
       "      <td>1.7</td>\n",
       "      <td>NaN</td>\n",
       "    </tr>\n",
       "    <tr>\n",
       "      <th>tres</th>\n",
       "      <td>2004</td>\n",
       "      <td>Goiás</td>\n",
       "      <td>3.6</td>\n",
       "      <td>NaN</td>\n",
       "    </tr>\n",
       "    <tr>\n",
       "      <th>quatro</th>\n",
       "      <td>2005</td>\n",
       "      <td>Bahia</td>\n",
       "      <td>2.4</td>\n",
       "      <td>NaN</td>\n",
       "    </tr>\n",
       "    <tr>\n",
       "      <th>cinco</th>\n",
       "      <td>2006</td>\n",
       "      <td>Minas gerais</td>\n",
       "      <td>2.9</td>\n",
       "      <td>NaN</td>\n",
       "    </tr>\n",
       "  </tbody>\n",
       "</table>\n",
       "</div>"
      ],
      "text/plain": [
       "         Ano          Estado  População Débito\n",
       "um      2002  Santa Catarina        1.5    NaN\n",
       "dois    2003          Paraná        1.7    NaN\n",
       "tres    2004           Goiás        3.6    NaN\n",
       "quatro  2005           Bahia        2.4    NaN\n",
       "cinco   2006    Minas gerais        2.9    NaN"
      ]
     },
     "execution_count": 33,
     "metadata": {},
     "output_type": "execute_result"
    }
   ],
   "source": [
    "# Criando outro DataFrame com os mesmo dados anteriores, mas alterando o index e acrescentando uma coluna\n",
    "frame2 = DataFrame(data, columns=['Ano', 'Estado', 'População', 'Débito'], index =['um', 'dois', 'tres', 'quatro', 'cinco'])\n",
    "frame2"
   ]
  },
  {
   "cell_type": "code",
   "execution_count": 34,
   "metadata": {},
   "outputs": [
    {
     "data": {
      "text/plain": [
       "um        Santa Catarina\n",
       "dois              Paraná\n",
       "tres               Goiás\n",
       "quatro             Bahia\n",
       "cinco       Minas gerais\n",
       "Name: Estado, dtype: object"
      ]
     },
     "execution_count": 34,
     "metadata": {},
     "output_type": "execute_result"
    }
   ],
   "source": [
    "# Imprimir somente uma coluna\n",
    "frame2['Estado']"
   ]
  },
  {
   "cell_type": "code",
   "execution_count": 35,
   "metadata": {},
   "outputs": [
    {
     "data": {
      "text/plain": [
       "um        2002\n",
       "dois      2003\n",
       "tres      2004\n",
       "quatro    2005\n",
       "cinco     2006\n",
       "Name: Ano, dtype: object"
      ]
     },
     "execution_count": 35,
     "metadata": {},
     "output_type": "execute_result"
    }
   ],
   "source": [
    "# Busca somente uma coluna\n",
    "frame2.Ano"
   ]
  },
  {
   "cell_type": "code",
   "execution_count": 36,
   "metadata": {},
   "outputs": [
    {
     "data": {
      "text/plain": [
       "pandas.core.frame.DataFrame"
      ]
     },
     "execution_count": 36,
     "metadata": {},
     "output_type": "execute_result"
    }
   ],
   "source": [
    "type(frame2)"
   ]
  },
  {
   "cell_type": "code",
   "execution_count": 37,
   "metadata": {},
   "outputs": [
    {
     "data": {
      "text/plain": [
       "Index(['um', 'dois', 'tres', 'quatro', 'cinco'], dtype='object')"
      ]
     },
     "execution_count": 37,
     "metadata": {},
     "output_type": "execute_result"
    }
   ],
   "source": [
    "# Busca somente os indices\n",
    "frame2.index"
   ]
  },
  {
   "cell_type": "code",
   "execution_count": 38,
   "metadata": {},
   "outputs": [
    {
     "data": {
      "text/plain": [
       "Index(['Ano', 'Estado', 'População', 'Débito'], dtype='object')"
      ]
     },
     "execution_count": 38,
     "metadata": {},
     "output_type": "execute_result"
    }
   ],
   "source": [
    "# Busca somente as colunas\n",
    "frame2.columns"
   ]
  },
  {
   "cell_type": "code",
   "execution_count": 39,
   "metadata": {},
   "outputs": [
    {
     "data": {
      "text/plain": [
       "array([['2002', 'Santa Catarina', 1.5, nan],\n",
       "       ['2003', 'Paraná', 1.7, nan],\n",
       "       ['2004', 'Goiás', 3.6, nan],\n",
       "       ['2005', 'Bahia', 2.4, nan],\n",
       "       ['2006', 'Minas gerais', 2.9, nan]], dtype=object)"
      ]
     },
     "execution_count": 39,
     "metadata": {},
     "output_type": "execute_result"
    }
   ],
   "source": [
    "# Busca somente os valores \n",
    "frame2.values"
   ]
  },
  {
   "cell_type": "code",
   "execution_count": 40,
   "metadata": {},
   "outputs": [
    {
     "data": {
      "text/plain": [
       "Ano           object\n",
       "Estado        object\n",
       "População    float64\n",
       "Débito        object\n",
       "dtype: object"
      ]
     },
     "execution_count": 40,
     "metadata": {},
     "output_type": "execute_result"
    }
   ],
   "source": [
    "# Verificar o tipo de cada coluna\n",
    "frame2.dtypes"
   ]
  },
  {
   "cell_type": "code",
   "execution_count": 41,
   "metadata": {},
   "outputs": [
    {
     "data": {
      "text/html": [
       "<div>\n",
       "<style scoped>\n",
       "    .dataframe tbody tr th:only-of-type {\n",
       "        vertical-align: middle;\n",
       "    }\n",
       "\n",
       "    .dataframe tbody tr th {\n",
       "        vertical-align: top;\n",
       "    }\n",
       "\n",
       "    .dataframe thead th {\n",
       "        text-align: right;\n",
       "    }\n",
       "</style>\n",
       "<table border=\"1\" class=\"dataframe\">\n",
       "  <thead>\n",
       "    <tr style=\"text-align: right;\">\n",
       "      <th></th>\n",
       "      <th>Ano</th>\n",
       "      <th>Estado</th>\n",
       "      <th>População</th>\n",
       "      <th>Débito</th>\n",
       "    </tr>\n",
       "  </thead>\n",
       "  <tbody>\n",
       "    <tr>\n",
       "      <th>um</th>\n",
       "      <td>2002</td>\n",
       "      <td>Santa Catarina</td>\n",
       "      <td>1.5</td>\n",
       "      <td>NaN</td>\n",
       "    </tr>\n",
       "    <tr>\n",
       "      <th>dois</th>\n",
       "      <td>2003</td>\n",
       "      <td>Paraná</td>\n",
       "      <td>1.7</td>\n",
       "      <td>NaN</td>\n",
       "    </tr>\n",
       "  </tbody>\n",
       "</table>\n",
       "</div>"
      ],
      "text/plain": [
       "       Ano          Estado  População Débito\n",
       "um    2002  Santa Catarina        1.5    NaN\n",
       "dois  2003          Paraná        1.7    NaN"
      ]
     },
     "execution_count": 41,
     "metadata": {},
     "output_type": "execute_result"
    }
   ],
   "source": [
    "# Busca somente as linhas 0 e 1 \n",
    "frame2[:2]"
   ]
  },
  {
   "cell_type": "markdown",
   "metadata": {},
   "source": [
    "## DataFrame com NumPy"
   ]
  },
  {
   "cell_type": "code",
   "execution_count": 42,
   "metadata": {},
   "outputs": [],
   "source": [
    "# Importando biblioteca Numpy\n",
    "import numpy as np"
   ]
  },
  {
   "cell_type": "code",
   "execution_count": 51,
   "metadata": {},
   "outputs": [
    {
     "data": {
      "text/html": [
       "<div>\n",
       "<style scoped>\n",
       "    .dataframe tbody tr th:only-of-type {\n",
       "        vertical-align: middle;\n",
       "    }\n",
       "\n",
       "    .dataframe tbody tr th {\n",
       "        vertical-align: top;\n",
       "    }\n",
       "\n",
       "    .dataframe thead th {\n",
       "        text-align: right;\n",
       "    }\n",
       "</style>\n",
       "<table border=\"1\" class=\"dataframe\">\n",
       "  <thead>\n",
       "    <tr style=\"text-align: right;\">\n",
       "      <th></th>\n",
       "      <th>Ano</th>\n",
       "      <th>Estado</th>\n",
       "      <th>População</th>\n",
       "      <th>Débito</th>\n",
       "    </tr>\n",
       "  </thead>\n",
       "  <tbody>\n",
       "    <tr>\n",
       "      <th>um</th>\n",
       "      <td>2002</td>\n",
       "      <td>Santa Catarina</td>\n",
       "      <td>1.5</td>\n",
       "      <td>0.0</td>\n",
       "    </tr>\n",
       "    <tr>\n",
       "      <th>dois</th>\n",
       "      <td>2003</td>\n",
       "      <td>Paraná</td>\n",
       "      <td>1.7</td>\n",
       "      <td>1.0</td>\n",
       "    </tr>\n",
       "    <tr>\n",
       "      <th>tres</th>\n",
       "      <td>2004</td>\n",
       "      <td>Goiás</td>\n",
       "      <td>3.6</td>\n",
       "      <td>2.0</td>\n",
       "    </tr>\n",
       "    <tr>\n",
       "      <th>quatro</th>\n",
       "      <td>2005</td>\n",
       "      <td>Bahia</td>\n",
       "      <td>2.4</td>\n",
       "      <td>3.0</td>\n",
       "    </tr>\n",
       "    <tr>\n",
       "      <th>cinco</th>\n",
       "      <td>2006</td>\n",
       "      <td>Minas gerais</td>\n",
       "      <td>2.9</td>\n",
       "      <td>4.0</td>\n",
       "    </tr>\n",
       "  </tbody>\n",
       "</table>\n",
       "</div>"
      ],
      "text/plain": [
       "         Ano          Estado  População  Débito\n",
       "um      2002  Santa Catarina        1.5     0.0\n",
       "dois    2003          Paraná        1.7     1.0\n",
       "tres    2004           Goiás        3.6     2.0\n",
       "quatro  2005           Bahia        2.4     3.0\n",
       "cinco   2006    Minas gerais        2.9     4.0"
      ]
     },
     "execution_count": 51,
     "metadata": {},
     "output_type": "execute_result"
    }
   ],
   "source": [
    "# Usando o numpy para preencher a coluna Débito. \n",
    "frame2['Débito'] = np.arange(5.)\n",
    "frame2"
   ]
  },
  {
   "cell_type": "code",
   "execution_count": 47,
   "metadata": {},
   "outputs": [
    {
     "data": {
      "text/plain": [
       "array([['2002', 'Santa Catarina', 1.5, 0.0],\n",
       "       ['2003', 'Paraná', 1.7, 1.0],\n",
       "       ['2004', 'Goiás', 3.6, 2.0],\n",
       "       ['2005', 'Bahia', 2.4, 3.0],\n",
       "       ['2006', 'Minas gerais', 2.9, 4.0]], dtype=object)"
      ]
     },
     "execution_count": 47,
     "metadata": {},
     "output_type": "execute_result"
    }
   ],
   "source": [
    "frame2.values"
   ]
  },
  {
   "cell_type": "code",
   "execution_count": 49,
   "metadata": {},
   "outputs": [
    {
     "data": {
      "text/html": [
       "<div>\n",
       "<style scoped>\n",
       "    .dataframe tbody tr th:only-of-type {\n",
       "        vertical-align: middle;\n",
       "    }\n",
       "\n",
       "    .dataframe tbody tr th {\n",
       "        vertical-align: top;\n",
       "    }\n",
       "\n",
       "    .dataframe thead th {\n",
       "        text-align: right;\n",
       "    }\n",
       "</style>\n",
       "<table border=\"1\" class=\"dataframe\">\n",
       "  <thead>\n",
       "    <tr style=\"text-align: right;\">\n",
       "      <th></th>\n",
       "      <th>População</th>\n",
       "      <th>Débito</th>\n",
       "    </tr>\n",
       "  </thead>\n",
       "  <tbody>\n",
       "    <tr>\n",
       "      <th>count</th>\n",
       "      <td>5.000000</td>\n",
       "      <td>5.000000</td>\n",
       "    </tr>\n",
       "    <tr>\n",
       "      <th>mean</th>\n",
       "      <td>2.420000</td>\n",
       "      <td>2.000000</td>\n",
       "    </tr>\n",
       "    <tr>\n",
       "      <th>std</th>\n",
       "      <td>0.864292</td>\n",
       "      <td>1.581139</td>\n",
       "    </tr>\n",
       "    <tr>\n",
       "      <th>min</th>\n",
       "      <td>1.500000</td>\n",
       "      <td>0.000000</td>\n",
       "    </tr>\n",
       "    <tr>\n",
       "      <th>25%</th>\n",
       "      <td>1.700000</td>\n",
       "      <td>1.000000</td>\n",
       "    </tr>\n",
       "    <tr>\n",
       "      <th>50%</th>\n",
       "      <td>2.400000</td>\n",
       "      <td>2.000000</td>\n",
       "    </tr>\n",
       "    <tr>\n",
       "      <th>75%</th>\n",
       "      <td>2.900000</td>\n",
       "      <td>3.000000</td>\n",
       "    </tr>\n",
       "    <tr>\n",
       "      <th>max</th>\n",
       "      <td>3.600000</td>\n",
       "      <td>4.000000</td>\n",
       "    </tr>\n",
       "  </tbody>\n",
       "</table>\n",
       "</div>"
      ],
      "text/plain": [
       "       População    Débito\n",
       "count   5.000000  5.000000\n",
       "mean    2.420000  2.000000\n",
       "std     0.864292  1.581139\n",
       "min     1.500000  0.000000\n",
       "25%     1.700000  1.000000\n",
       "50%     2.400000  2.000000\n",
       "75%     2.900000  3.000000\n",
       "max     3.600000  4.000000"
      ]
     },
     "execution_count": 49,
     "metadata": {},
     "output_type": "execute_result"
    }
   ],
   "source": [
    "# Resumo do DataFrame\n",
    "frame2.describe()"
   ]
  },
  {
   "cell_type": "code",
   "execution_count": 52,
   "metadata": {},
   "outputs": [
    {
     "data": {
      "text/html": [
       "<div>\n",
       "<style scoped>\n",
       "    .dataframe tbody tr th:only-of-type {\n",
       "        vertical-align: middle;\n",
       "    }\n",
       "\n",
       "    .dataframe tbody tr th {\n",
       "        vertical-align: top;\n",
       "    }\n",
       "\n",
       "    .dataframe thead th {\n",
       "        text-align: right;\n",
       "    }\n",
       "</style>\n",
       "<table border=\"1\" class=\"dataframe\">\n",
       "  <thead>\n",
       "    <tr style=\"text-align: right;\">\n",
       "      <th></th>\n",
       "      <th>Ano</th>\n",
       "      <th>Estado</th>\n",
       "      <th>População</th>\n",
       "      <th>Débito</th>\n",
       "    </tr>\n",
       "  </thead>\n",
       "  <tbody>\n",
       "    <tr>\n",
       "      <th>dois</th>\n",
       "      <td>2003</td>\n",
       "      <td>Paraná</td>\n",
       "      <td>1.7</td>\n",
       "      <td>1.0</td>\n",
       "    </tr>\n",
       "    <tr>\n",
       "      <th>tres</th>\n",
       "      <td>2004</td>\n",
       "      <td>Goiás</td>\n",
       "      <td>3.6</td>\n",
       "      <td>2.0</td>\n",
       "    </tr>\n",
       "    <tr>\n",
       "      <th>quatro</th>\n",
       "      <td>2005</td>\n",
       "      <td>Bahia</td>\n",
       "      <td>2.4</td>\n",
       "      <td>3.0</td>\n",
       "    </tr>\n",
       "  </tbody>\n",
       "</table>\n",
       "</div>"
      ],
      "text/plain": [
       "         Ano  Estado  População  Débito\n",
       "dois    2003  Paraná        1.7     1.0\n",
       "tres    2004   Goiás        3.6     2.0\n",
       "quatro  2005   Bahia        2.4     3.0"
      ]
     },
     "execution_count": 52,
     "metadata": {},
     "output_type": "execute_result"
    }
   ],
   "source": [
    "frame2['dois':'quatro']"
   ]
  },
  {
   "cell_type": "markdown",
   "metadata": {},
   "source": [
    "## Localizando registros dentro do DataFrame"
   ]
  },
  {
   "cell_type": "code",
   "execution_count": 55,
   "metadata": {},
   "outputs": [
    {
     "data": {
      "text/plain": [
       "Ano           2005\n",
       "Estado       Bahia\n",
       "População      2.4\n",
       "Débito           3\n",
       "Name: quatro, dtype: object"
      ]
     },
     "execution_count": 55,
     "metadata": {},
     "output_type": "execute_result"
    }
   ],
   "source": [
    "frame2.loc['quatro']"
   ]
  },
  {
   "cell_type": "code",
   "execution_count": 56,
   "metadata": {},
   "outputs": [
    {
     "data": {
      "text/plain": [
       "Ano           2004\n",
       "Estado       Goiás\n",
       "População      3.6\n",
       "Débito           2\n",
       "Name: tres, dtype: object"
      ]
     },
     "execution_count": 56,
     "metadata": {},
     "output_type": "execute_result"
    }
   ],
   "source": [
    "frame2.iloc[2]"
   ]
  },
  {
   "cell_type": "markdown",
   "metadata": {},
   "source": [
    "## Invertendo as colunas e índices "
   ]
  },
  {
   "cell_type": "code",
   "execution_count": 57,
   "metadata": {},
   "outputs": [],
   "source": [
    "# Criando um dicionário\n",
    "web_stats = {'Dias':[1, 2, 3, 4, 5, 6, 7],\n",
    "            'Visitantes':[45, 23, 67, 78, 23, 12, 14],\n",
    "            'Taxas': [11, 22, 33, 44, 55, 66, 77]}"
   ]
  },
  {
   "cell_type": "code",
   "execution_count": 62,
   "metadata": {},
   "outputs": [
    {
     "data": {
      "text/html": [
       "<div>\n",
       "<style scoped>\n",
       "    .dataframe tbody tr th:only-of-type {\n",
       "        vertical-align: middle;\n",
       "    }\n",
       "\n",
       "    .dataframe tbody tr th {\n",
       "        vertical-align: top;\n",
       "    }\n",
       "\n",
       "    .dataframe thead th {\n",
       "        text-align: right;\n",
       "    }\n",
       "</style>\n",
       "<table border=\"1\" class=\"dataframe\">\n",
       "  <thead>\n",
       "    <tr style=\"text-align: right;\">\n",
       "      <th></th>\n",
       "      <th>Dias</th>\n",
       "      <th>Visitantes</th>\n",
       "      <th>Taxas</th>\n",
       "    </tr>\n",
       "  </thead>\n",
       "  <tbody>\n",
       "    <tr>\n",
       "      <th>0</th>\n",
       "      <td>1</td>\n",
       "      <td>45</td>\n",
       "      <td>11</td>\n",
       "    </tr>\n",
       "    <tr>\n",
       "      <th>1</th>\n",
       "      <td>2</td>\n",
       "      <td>23</td>\n",
       "      <td>22</td>\n",
       "    </tr>\n",
       "    <tr>\n",
       "      <th>2</th>\n",
       "      <td>3</td>\n",
       "      <td>67</td>\n",
       "      <td>33</td>\n",
       "    </tr>\n",
       "    <tr>\n",
       "      <th>3</th>\n",
       "      <td>4</td>\n",
       "      <td>78</td>\n",
       "      <td>44</td>\n",
       "    </tr>\n",
       "    <tr>\n",
       "      <th>4</th>\n",
       "      <td>5</td>\n",
       "      <td>23</td>\n",
       "      <td>55</td>\n",
       "    </tr>\n",
       "    <tr>\n",
       "      <th>5</th>\n",
       "      <td>6</td>\n",
       "      <td>12</td>\n",
       "      <td>66</td>\n",
       "    </tr>\n",
       "    <tr>\n",
       "      <th>6</th>\n",
       "      <td>7</td>\n",
       "      <td>14</td>\n",
       "      <td>77</td>\n",
       "    </tr>\n",
       "  </tbody>\n",
       "</table>\n",
       "</div>"
      ],
      "text/plain": [
       "   Dias  Visitantes  Taxas\n",
       "0     1          45     11\n",
       "1     2          23     22\n",
       "2     3          67     33\n",
       "3     4          78     44\n",
       "4     5          23     55\n",
       "5     6          12     66\n",
       "6     7          14     77"
      ]
     },
     "execution_count": 62,
     "metadata": {},
     "output_type": "execute_result"
    }
   ],
   "source": [
    "# Utilizado para criar uma planilha igual ao excel. \n",
    "df = pd.DataFrame(web_stats)\n",
    "df"
   ]
  },
  {
   "cell_type": "code",
   "execution_count": 64,
   "metadata": {},
   "outputs": [
    {
     "name": "stdout",
     "output_type": "stream",
     "text": [
      "      Visitantes  Taxas\n",
      "Dias                   \n",
      "1             45     11\n",
      "2             23     22\n",
      "3             67     33\n",
      "4             78     44\n",
      "5             23     55\n",
      "6             12     66\n",
      "7             14     77\n"
     ]
    }
   ],
   "source": [
    "# Transformando a colunas 'Dias' como um index.\n",
    "print(df.set_index('Dias'))"
   ]
  },
  {
   "cell_type": "code",
   "execution_count": 65,
   "metadata": {},
   "outputs": [
    {
     "name": "stdout",
     "output_type": "stream",
     "text": [
      "   Dias  Visitantes  Taxas\n",
      "0     1          45     11\n",
      "1     2          23     22\n",
      "2     3          67     33\n",
      "3     4          78     44\n",
      "4     5          23     55\n"
     ]
    }
   ],
   "source": [
    "print(df.head())"
   ]
  },
  {
   "cell_type": "code",
   "execution_count": 66,
   "metadata": {},
   "outputs": [
    {
     "name": "stdout",
     "output_type": "stream",
     "text": [
      "0    45\n",
      "1    23\n",
      "2    67\n",
      "3    78\n",
      "4    23\n",
      "5    12\n",
      "6    14\n",
      "Name: Visitantes, dtype: int64\n"
     ]
    }
   ],
   "source": [
    "print(df['Visitantes'])"
   ]
  },
  {
   "cell_type": "code",
   "execution_count": 68,
   "metadata": {},
   "outputs": [
    {
     "name": "stdout",
     "output_type": "stream",
     "text": [
      "   Visitantes  Taxas\n",
      "0          45     11\n",
      "1          23     22\n",
      "2          67     33\n",
      "3          78     44\n",
      "4          23     55\n",
      "5          12     66\n",
      "6          14     77\n"
     ]
    }
   ],
   "source": [
    "print(df[['Visitantes', 'Taxas']])"
   ]
  },
  {
   "cell_type": "markdown",
   "metadata": {},
   "source": [
    "## DataFrame com Arquivos CSV"
   ]
  },
  {
   "cell_type": "code",
   "execution_count": 76,
   "metadata": {},
   "outputs": [
    {
     "data": {
      "text/html": [
       "<div>\n",
       "<style scoped>\n",
       "    .dataframe tbody tr th:only-of-type {\n",
       "        vertical-align: middle;\n",
       "    }\n",
       "\n",
       "    .dataframe tbody tr th {\n",
       "        vertical-align: top;\n",
       "    }\n",
       "\n",
       "    .dataframe thead th {\n",
       "        text-align: right;\n",
       "    }\n",
       "</style>\n",
       "<table border=\"1\" class=\"dataframe\">\n",
       "  <thead>\n",
       "    <tr style=\"text-align: right;\">\n",
       "      <th></th>\n",
       "      <th>A</th>\n",
       "      <th>B</th>\n",
       "      <th>C</th>\n",
       "      <th>D</th>\n",
       "    </tr>\n",
       "  </thead>\n",
       "  <tbody>\n",
       "    <tr>\n",
       "      <th>2021-03-04</th>\n",
       "      <td>1.191672</td>\n",
       "      <td>0.219969</td>\n",
       "      <td>-1.817526</td>\n",
       "      <td>1.509045</td>\n",
       "    </tr>\n",
       "    <tr>\n",
       "      <th>2021-03-05</th>\n",
       "      <td>0.666791</td>\n",
       "      <td>-1.051497</td>\n",
       "      <td>2.143150</td>\n",
       "      <td>1.235742</td>\n",
       "    </tr>\n",
       "    <tr>\n",
       "      <th>2021-03-06</th>\n",
       "      <td>0.073923</td>\n",
       "      <td>0.031641</td>\n",
       "      <td>1.068317</td>\n",
       "      <td>1.433921</td>\n",
       "    </tr>\n",
       "    <tr>\n",
       "      <th>2021-03-07</th>\n",
       "      <td>-0.098176</td>\n",
       "      <td>0.914957</td>\n",
       "      <td>0.489023</td>\n",
       "      <td>0.791378</td>\n",
       "    </tr>\n",
       "    <tr>\n",
       "      <th>2021-03-08</th>\n",
       "      <td>-0.287260</td>\n",
       "      <td>0.208106</td>\n",
       "      <td>0.500569</td>\n",
       "      <td>-1.623304</td>\n",
       "    </tr>\n",
       "    <tr>\n",
       "      <th>2021-03-09</th>\n",
       "      <td>-0.130086</td>\n",
       "      <td>0.769657</td>\n",
       "      <td>0.766037</td>\n",
       "      <td>1.636817</td>\n",
       "    </tr>\n",
       "    <tr>\n",
       "      <th>2021-03-10</th>\n",
       "      <td>0.635952</td>\n",
       "      <td>-0.643273</td>\n",
       "      <td>0.296106</td>\n",
       "      <td>0.080790</td>\n",
       "    </tr>\n",
       "    <tr>\n",
       "      <th>2021-03-11</th>\n",
       "      <td>1.670155</td>\n",
       "      <td>1.961811</td>\n",
       "      <td>0.157823</td>\n",
       "      <td>-1.339573</td>\n",
       "    </tr>\n",
       "    <tr>\n",
       "      <th>2021-03-12</th>\n",
       "      <td>-1.391977</td>\n",
       "      <td>0.022345</td>\n",
       "      <td>0.069192</td>\n",
       "      <td>0.078253</td>\n",
       "    </tr>\n",
       "    <tr>\n",
       "      <th>2021-03-13</th>\n",
       "      <td>-1.121768</td>\n",
       "      <td>-1.096158</td>\n",
       "      <td>0.590018</td>\n",
       "      <td>2.177109</td>\n",
       "    </tr>\n",
       "  </tbody>\n",
       "</table>\n",
       "</div>"
      ],
      "text/plain": [
       "                   A         B         C         D\n",
       "2021-03-04  1.191672  0.219969 -1.817526  1.509045\n",
       "2021-03-05  0.666791 -1.051497  2.143150  1.235742\n",
       "2021-03-06  0.073923  0.031641  1.068317  1.433921\n",
       "2021-03-07 -0.098176  0.914957  0.489023  0.791378\n",
       "2021-03-08 -0.287260  0.208106  0.500569 -1.623304\n",
       "2021-03-09 -0.130086  0.769657  0.766037  1.636817\n",
       "2021-03-10  0.635952 -0.643273  0.296106  0.080790\n",
       "2021-03-11  1.670155  1.961811  0.157823 -1.339573\n",
       "2021-03-12 -1.391977  0.022345  0.069192  0.078253\n",
       "2021-03-13 -1.121768 -1.096158  0.590018  2.177109"
      ]
     },
     "execution_count": 76,
     "metadata": {},
     "output_type": "execute_result"
    }
   ],
   "source": [
    "# Criando um DataFrame\n",
    "\n",
    "dates = pd.date_range('20210304', periods = 10)\n",
    "df = pd.DataFrame(np.random.randn(10, 4), index = dates, columns = list ('ABCD'))\n",
    "df"
   ]
  },
  {
   "cell_type": "code",
   "execution_count": 78,
   "metadata": {},
   "outputs": [
    {
     "data": {
      "text/html": [
       "<div>\n",
       "<style scoped>\n",
       "    .dataframe tbody tr th:only-of-type {\n",
       "        vertical-align: middle;\n",
       "    }\n",
       "\n",
       "    .dataframe tbody tr th {\n",
       "        vertical-align: top;\n",
       "    }\n",
       "\n",
       "    .dataframe thead th {\n",
       "        text-align: right;\n",
       "    }\n",
       "</style>\n",
       "<table border=\"1\" class=\"dataframe\">\n",
       "  <thead>\n",
       "    <tr style=\"text-align: right;\">\n",
       "      <th></th>\n",
       "      <th>A</th>\n",
       "      <th>B</th>\n",
       "      <th>C</th>\n",
       "      <th>D</th>\n",
       "    </tr>\n",
       "  </thead>\n",
       "  <tbody>\n",
       "    <tr>\n",
       "      <th>count</th>\n",
       "      <td>10.000000</td>\n",
       "      <td>10.000000</td>\n",
       "      <td>10.000000</td>\n",
       "      <td>10.000000</td>\n",
       "    </tr>\n",
       "    <tr>\n",
       "      <th>mean</th>\n",
       "      <td>0.120923</td>\n",
       "      <td>0.133756</td>\n",
       "      <td>0.426271</td>\n",
       "      <td>0.598018</td>\n",
       "    </tr>\n",
       "    <tr>\n",
       "      <th>std</th>\n",
       "      <td>0.955849</td>\n",
       "      <td>0.937699</td>\n",
       "      <td>0.986731</td>\n",
       "      <td>1.281129</td>\n",
       "    </tr>\n",
       "    <tr>\n",
       "      <th>min</th>\n",
       "      <td>-1.391977</td>\n",
       "      <td>-1.096158</td>\n",
       "      <td>-1.817526</td>\n",
       "      <td>-1.623304</td>\n",
       "    </tr>\n",
       "    <tr>\n",
       "      <th>25%</th>\n",
       "      <td>-0.247967</td>\n",
       "      <td>-0.476869</td>\n",
       "      <td>0.192394</td>\n",
       "      <td>0.078887</td>\n",
       "    </tr>\n",
       "    <tr>\n",
       "      <th>50%</th>\n",
       "      <td>-0.012127</td>\n",
       "      <td>0.119873</td>\n",
       "      <td>0.494796</td>\n",
       "      <td>1.013560</td>\n",
       "    </tr>\n",
       "    <tr>\n",
       "      <th>75%</th>\n",
       "      <td>0.659081</td>\n",
       "      <td>0.632235</td>\n",
       "      <td>0.722032</td>\n",
       "      <td>1.490264</td>\n",
       "    </tr>\n",
       "    <tr>\n",
       "      <th>max</th>\n",
       "      <td>1.670155</td>\n",
       "      <td>1.961811</td>\n",
       "      <td>2.143150</td>\n",
       "      <td>2.177109</td>\n",
       "    </tr>\n",
       "  </tbody>\n",
       "</table>\n",
       "</div>"
      ],
      "text/plain": [
       "               A          B          C          D\n",
       "count  10.000000  10.000000  10.000000  10.000000\n",
       "mean    0.120923   0.133756   0.426271   0.598018\n",
       "std     0.955849   0.937699   0.986731   1.281129\n",
       "min    -1.391977  -1.096158  -1.817526  -1.623304\n",
       "25%    -0.247967  -0.476869   0.192394   0.078887\n",
       "50%    -0.012127   0.119873   0.494796   1.013560\n",
       "75%     0.659081   0.632235   0.722032   1.490264\n",
       "max     1.670155   1.961811   2.143150   2.177109"
      ]
     },
     "execution_count": 78,
     "metadata": {},
     "output_type": "execute_result"
    }
   ],
   "source": [
    "# Verificar estatisticas \n",
    "df.describe()"
   ]
  },
  {
   "cell_type": "code",
   "execution_count": 79,
   "metadata": {},
   "outputs": [
    {
     "data": {
      "text/plain": [
       "A    0.120923\n",
       "B    0.133756\n",
       "C    0.426271\n",
       "D    0.598018\n",
       "dtype: float64"
      ]
     },
     "execution_count": 79,
     "metadata": {},
     "output_type": "execute_result"
    }
   ],
   "source": [
    "# Calcular a média \n",
    "df.mean()"
   ]
  },
  {
   "cell_type": "code",
   "execution_count": 80,
   "metadata": {},
   "outputs": [
    {
     "data": {
      "text/plain": [
       "2021-03-04    0.275790\n",
       "2021-03-05    0.748546\n",
       "2021-03-06    0.651951\n",
       "2021-03-07    0.524295\n",
       "2021-03-08   -0.300472\n",
       "2021-03-09    0.760606\n",
       "2021-03-10    0.092394\n",
       "2021-03-11    0.612554\n",
       "2021-03-12   -0.305547\n",
       "2021-03-13    0.137300\n",
       "Freq: D, dtype: float64"
      ]
     },
     "execution_count": 80,
     "metadata": {},
     "output_type": "execute_result"
    }
   ],
   "source": [
    "# Pivot e cálculo da média \n",
    "df.mean(1) # Calcular por linha. "
   ]
  },
  {
   "cell_type": "code",
   "execution_count": 83,
   "metadata": {},
   "outputs": [
    {
     "data": {
      "text/html": [
       "<div>\n",
       "<style scoped>\n",
       "    .dataframe tbody tr th:only-of-type {\n",
       "        vertical-align: middle;\n",
       "    }\n",
       "\n",
       "    .dataframe tbody tr th {\n",
       "        vertical-align: top;\n",
       "    }\n",
       "\n",
       "    .dataframe thead th {\n",
       "        text-align: right;\n",
       "    }\n",
       "</style>\n",
       "<table border=\"1\" class=\"dataframe\">\n",
       "  <thead>\n",
       "    <tr style=\"text-align: right;\">\n",
       "      <th></th>\n",
       "      <th>A</th>\n",
       "      <th>B</th>\n",
       "      <th>C</th>\n",
       "      <th>D</th>\n",
       "    </tr>\n",
       "  </thead>\n",
       "  <tbody>\n",
       "    <tr>\n",
       "      <th>2021-03-04</th>\n",
       "      <td>1.191672</td>\n",
       "      <td>0.219969</td>\n",
       "      <td>-1.817526</td>\n",
       "      <td>1.509045</td>\n",
       "    </tr>\n",
       "    <tr>\n",
       "      <th>2021-03-05</th>\n",
       "      <td>1.858463</td>\n",
       "      <td>-0.831528</td>\n",
       "      <td>0.325624</td>\n",
       "      <td>2.744787</td>\n",
       "    </tr>\n",
       "    <tr>\n",
       "      <th>2021-03-06</th>\n",
       "      <td>1.932386</td>\n",
       "      <td>-0.799887</td>\n",
       "      <td>1.393941</td>\n",
       "      <td>4.178708</td>\n",
       "    </tr>\n",
       "    <tr>\n",
       "      <th>2021-03-07</th>\n",
       "      <td>1.834209</td>\n",
       "      <td>0.115070</td>\n",
       "      <td>1.882964</td>\n",
       "      <td>4.970086</td>\n",
       "    </tr>\n",
       "    <tr>\n",
       "      <th>2021-03-08</th>\n",
       "      <td>1.546949</td>\n",
       "      <td>0.323175</td>\n",
       "      <td>2.383533</td>\n",
       "      <td>3.346782</td>\n",
       "    </tr>\n",
       "    <tr>\n",
       "      <th>2021-03-09</th>\n",
       "      <td>1.416863</td>\n",
       "      <td>1.092833</td>\n",
       "      <td>3.149570</td>\n",
       "      <td>4.983599</td>\n",
       "    </tr>\n",
       "    <tr>\n",
       "      <th>2021-03-10</th>\n",
       "      <td>2.052816</td>\n",
       "      <td>0.449559</td>\n",
       "      <td>3.445676</td>\n",
       "      <td>5.064389</td>\n",
       "    </tr>\n",
       "    <tr>\n",
       "      <th>2021-03-11</th>\n",
       "      <td>3.722971</td>\n",
       "      <td>2.411370</td>\n",
       "      <td>3.603499</td>\n",
       "      <td>3.724816</td>\n",
       "    </tr>\n",
       "    <tr>\n",
       "      <th>2021-03-12</th>\n",
       "      <td>2.330994</td>\n",
       "      <td>2.433715</td>\n",
       "      <td>3.672691</td>\n",
       "      <td>3.803069</td>\n",
       "    </tr>\n",
       "    <tr>\n",
       "      <th>2021-03-13</th>\n",
       "      <td>1.209226</td>\n",
       "      <td>1.337558</td>\n",
       "      <td>4.262709</td>\n",
       "      <td>5.980178</td>\n",
       "    </tr>\n",
       "  </tbody>\n",
       "</table>\n",
       "</div>"
      ],
      "text/plain": [
       "                   A         B         C         D\n",
       "2021-03-04  1.191672  0.219969 -1.817526  1.509045\n",
       "2021-03-05  1.858463 -0.831528  0.325624  2.744787\n",
       "2021-03-06  1.932386 -0.799887  1.393941  4.178708\n",
       "2021-03-07  1.834209  0.115070  1.882964  4.970086\n",
       "2021-03-08  1.546949  0.323175  2.383533  3.346782\n",
       "2021-03-09  1.416863  1.092833  3.149570  4.983599\n",
       "2021-03-10  2.052816  0.449559  3.445676  5.064389\n",
       "2021-03-11  3.722971  2.411370  3.603499  3.724816\n",
       "2021-03-12  2.330994  2.433715  3.672691  3.803069\n",
       "2021-03-13  1.209226  1.337558  4.262709  5.980178"
      ]
     },
     "execution_count": 83,
     "metadata": {},
     "output_type": "execute_result"
    }
   ],
   "source": [
    "# Usando métodos com a soma acumulada\n",
    "df.apply(np.cumsum)"
   ]
  },
  {
   "cell_type": "code",
   "execution_count": 86,
   "metadata": {},
   "outputs": [
    {
     "data": {
      "text/html": [
       "<div>\n",
       "<style scoped>\n",
       "    .dataframe tbody tr th:only-of-type {\n",
       "        vertical-align: middle;\n",
       "    }\n",
       "\n",
       "    .dataframe tbody tr th {\n",
       "        vertical-align: top;\n",
       "    }\n",
       "\n",
       "    .dataframe thead th {\n",
       "        text-align: right;\n",
       "    }\n",
       "</style>\n",
       "<table border=\"1\" class=\"dataframe\">\n",
       "  <thead>\n",
       "    <tr style=\"text-align: right;\">\n",
       "      <th></th>\n",
       "      <th>Chave</th>\n",
       "      <th>coluna1</th>\n",
       "      <th>coluna2</th>\n",
       "    </tr>\n",
       "  </thead>\n",
       "  <tbody>\n",
       "    <tr>\n",
       "      <th>0</th>\n",
       "      <td>Chave1</td>\n",
       "      <td>1</td>\n",
       "      <td>4</td>\n",
       "    </tr>\n",
       "    <tr>\n",
       "      <th>1</th>\n",
       "      <td>Chave2</td>\n",
       "      <td>2</td>\n",
       "      <td>5</td>\n",
       "    </tr>\n",
       "  </tbody>\n",
       "</table>\n",
       "</div>"
      ],
      "text/plain": [
       "    Chave  coluna1  coluna2\n",
       "0  Chave1        1        4\n",
       "1  Chave2        2        5"
      ]
     },
     "execution_count": 86,
     "metadata": {},
     "output_type": "execute_result"
    }
   ],
   "source": [
    "# Merge DataFrame, forma de concatenar 2 ou mais DataFrame\n",
    "left = pd.DataFrame({'Chave':['Chave1', 'Chave2'], 'coluna1': [1, 2]})\n",
    "right = pd.DataFrame({'Chave':['Chave1', 'Chave2'], 'coluna2': [4, 5]})\n",
    "pd.merge(left, right, on='Chave')"
   ]
  },
  {
   "cell_type": "code",
   "execution_count": 88,
   "metadata": {},
   "outputs": [
    {
     "data": {
      "text/html": [
       "<div>\n",
       "<style scoped>\n",
       "    .dataframe tbody tr th:only-of-type {\n",
       "        vertical-align: middle;\n",
       "    }\n",
       "\n",
       "    .dataframe tbody tr th {\n",
       "        vertical-align: top;\n",
       "    }\n",
       "\n",
       "    .dataframe thead th {\n",
       "        text-align: right;\n",
       "    }\n",
       "</style>\n",
       "<table border=\"1\" class=\"dataframe\">\n",
       "  <thead>\n",
       "    <tr style=\"text-align: right;\">\n",
       "      <th></th>\n",
       "      <th>A</th>\n",
       "      <th>B</th>\n",
       "      <th>C</th>\n",
       "      <th>D</th>\n",
       "    </tr>\n",
       "  </thead>\n",
       "  <tbody>\n",
       "    <tr>\n",
       "      <th>0</th>\n",
       "      <td>0.709180</td>\n",
       "      <td>-0.342789</td>\n",
       "      <td>-0.228245</td>\n",
       "      <td>-0.972955</td>\n",
       "    </tr>\n",
       "    <tr>\n",
       "      <th>1</th>\n",
       "      <td>0.080194</td>\n",
       "      <td>-1.228960</td>\n",
       "      <td>-1.433148</td>\n",
       "      <td>0.019790</td>\n",
       "    </tr>\n",
       "    <tr>\n",
       "      <th>2</th>\n",
       "      <td>0.869808</td>\n",
       "      <td>0.773814</td>\n",
       "      <td>-0.523970</td>\n",
       "      <td>-0.549666</td>\n",
       "    </tr>\n",
       "    <tr>\n",
       "      <th>3</th>\n",
       "      <td>-0.082984</td>\n",
       "      <td>-1.574120</td>\n",
       "      <td>0.477677</td>\n",
       "      <td>-0.617054</td>\n",
       "    </tr>\n",
       "    <tr>\n",
       "      <th>4</th>\n",
       "      <td>-0.223500</td>\n",
       "      <td>-0.282403</td>\n",
       "      <td>0.945999</td>\n",
       "      <td>-1.880305</td>\n",
       "    </tr>\n",
       "    <tr>\n",
       "      <th>5</th>\n",
       "      <td>-0.056900</td>\n",
       "      <td>-1.849530</td>\n",
       "      <td>-0.758088</td>\n",
       "      <td>-1.038217</td>\n",
       "    </tr>\n",
       "    <tr>\n",
       "      <th>6</th>\n",
       "      <td>-2.277971</td>\n",
       "      <td>1.048755</td>\n",
       "      <td>-1.462764</td>\n",
       "      <td>-1.655466</td>\n",
       "    </tr>\n",
       "    <tr>\n",
       "      <th>7</th>\n",
       "      <td>0.155311</td>\n",
       "      <td>2.380928</td>\n",
       "      <td>-0.576728</td>\n",
       "      <td>-0.062127</td>\n",
       "    </tr>\n",
       "  </tbody>\n",
       "</table>\n",
       "</div>"
      ],
      "text/plain": [
       "          A         B         C         D\n",
       "0  0.709180 -0.342789 -0.228245 -0.972955\n",
       "1  0.080194 -1.228960 -1.433148  0.019790\n",
       "2  0.869808  0.773814 -0.523970 -0.549666\n",
       "3 -0.082984 -1.574120  0.477677 -0.617054\n",
       "4 -0.223500 -0.282403  0.945999 -1.880305\n",
       "5 -0.056900 -1.849530 -0.758088 -1.038217\n",
       "6 -2.277971  1.048755 -1.462764 -1.655466\n",
       "7  0.155311  2.380928 -0.576728 -0.062127"
      ]
     },
     "execution_count": 88,
     "metadata": {},
     "output_type": "execute_result"
    }
   ],
   "source": [
    "# Adicionando um elemento ao DataFrame\n",
    "df = pd.DataFrame(np.random.randn (8, 4), columns = ['A', 'B', 'C', 'D'])\n",
    "df"
   ]
  },
  {
   "cell_type": "code",
   "execution_count": 90,
   "metadata": {},
   "outputs": [
    {
     "data": {
      "text/plain": [
       "A   -0.082984\n",
       "B   -1.574120\n",
       "C    0.477677\n",
       "D   -0.617054\n",
       "Name: 3, dtype: float64"
      ]
     },
     "execution_count": 90,
     "metadata": {},
     "output_type": "execute_result"
    }
   ],
   "source": [
    "s = df.iloc[3]\n",
    "s"
   ]
  },
  {
   "cell_type": "code",
   "execution_count": 91,
   "metadata": {},
   "outputs": [
    {
     "data": {
      "text/html": [
       "<div>\n",
       "<style scoped>\n",
       "    .dataframe tbody tr th:only-of-type {\n",
       "        vertical-align: middle;\n",
       "    }\n",
       "\n",
       "    .dataframe tbody tr th {\n",
       "        vertical-align: top;\n",
       "    }\n",
       "\n",
       "    .dataframe thead th {\n",
       "        text-align: right;\n",
       "    }\n",
       "</style>\n",
       "<table border=\"1\" class=\"dataframe\">\n",
       "  <thead>\n",
       "    <tr style=\"text-align: right;\">\n",
       "      <th></th>\n",
       "      <th>A</th>\n",
       "      <th>B</th>\n",
       "      <th>C</th>\n",
       "      <th>D</th>\n",
       "    </tr>\n",
       "  </thead>\n",
       "  <tbody>\n",
       "    <tr>\n",
       "      <th>0</th>\n",
       "      <td>0.709180</td>\n",
       "      <td>-0.342789</td>\n",
       "      <td>-0.228245</td>\n",
       "      <td>-0.972955</td>\n",
       "    </tr>\n",
       "    <tr>\n",
       "      <th>1</th>\n",
       "      <td>0.080194</td>\n",
       "      <td>-1.228960</td>\n",
       "      <td>-1.433148</td>\n",
       "      <td>0.019790</td>\n",
       "    </tr>\n",
       "    <tr>\n",
       "      <th>2</th>\n",
       "      <td>0.869808</td>\n",
       "      <td>0.773814</td>\n",
       "      <td>-0.523970</td>\n",
       "      <td>-0.549666</td>\n",
       "    </tr>\n",
       "    <tr>\n",
       "      <th>3</th>\n",
       "      <td>-0.082984</td>\n",
       "      <td>-1.574120</td>\n",
       "      <td>0.477677</td>\n",
       "      <td>-0.617054</td>\n",
       "    </tr>\n",
       "    <tr>\n",
       "      <th>4</th>\n",
       "      <td>-0.223500</td>\n",
       "      <td>-0.282403</td>\n",
       "      <td>0.945999</td>\n",
       "      <td>-1.880305</td>\n",
       "    </tr>\n",
       "    <tr>\n",
       "      <th>5</th>\n",
       "      <td>-0.056900</td>\n",
       "      <td>-1.849530</td>\n",
       "      <td>-0.758088</td>\n",
       "      <td>-1.038217</td>\n",
       "    </tr>\n",
       "    <tr>\n",
       "      <th>6</th>\n",
       "      <td>-2.277971</td>\n",
       "      <td>1.048755</td>\n",
       "      <td>-1.462764</td>\n",
       "      <td>-1.655466</td>\n",
       "    </tr>\n",
       "    <tr>\n",
       "      <th>7</th>\n",
       "      <td>0.155311</td>\n",
       "      <td>2.380928</td>\n",
       "      <td>-0.576728</td>\n",
       "      <td>-0.062127</td>\n",
       "    </tr>\n",
       "    <tr>\n",
       "      <th>8</th>\n",
       "      <td>-0.082984</td>\n",
       "      <td>-1.574120</td>\n",
       "      <td>0.477677</td>\n",
       "      <td>-0.617054</td>\n",
       "    </tr>\n",
       "  </tbody>\n",
       "</table>\n",
       "</div>"
      ],
      "text/plain": [
       "          A         B         C         D\n",
       "0  0.709180 -0.342789 -0.228245 -0.972955\n",
       "1  0.080194 -1.228960 -1.433148  0.019790\n",
       "2  0.869808  0.773814 -0.523970 -0.549666\n",
       "3 -0.082984 -1.574120  0.477677 -0.617054\n",
       "4 -0.223500 -0.282403  0.945999 -1.880305\n",
       "5 -0.056900 -1.849530 -0.758088 -1.038217\n",
       "6 -2.277971  1.048755 -1.462764 -1.655466\n",
       "7  0.155311  2.380928 -0.576728 -0.062127\n",
       "8 -0.082984 -1.574120  0.477677 -0.617054"
      ]
     },
     "execution_count": 91,
     "metadata": {},
     "output_type": "execute_result"
    }
   ],
   "source": [
    "# Adicionando um elemento ao DataFrame\n",
    "df.append(s, ignore_index=True)"
   ]
  },
  {
   "cell_type": "markdown",
   "metadata": {},
   "source": [
    "## Time Series "
   ]
  },
  {
   "cell_type": "code",
   "execution_count": 106,
   "metadata": {},
   "outputs": [],
   "source": [
    "# Criando um range de datas com frequencia de segundos, a 'freq=M' é utilizado quando você necessita da informação por mês\n",
    "rng = pd.date_range('20210304', periods=50, freq='M')"
   ]
  },
  {
   "cell_type": "code",
   "execution_count": 108,
   "metadata": {},
   "outputs": [
    {
     "data": {
      "text/plain": [
       "2021-03-31    367\n",
       "2021-04-30    368\n",
       "2021-05-31     59\n",
       "2021-06-30    461\n",
       "2021-07-31    413\n",
       "Freq: M, dtype: int32"
      ]
     },
     "execution_count": 108,
     "metadata": {},
     "output_type": "execute_result"
    }
   ],
   "source": [
    "# Recebe o rng como index e cria uma sequência random, onde acresceta no 'rng'\n",
    "ts = pd.Series(np.random.randint(0, 500, len(rng)), index=rng)\n",
    "ts.head()"
   ]
  },
  {
   "cell_type": "markdown",
   "metadata": {},
   "source": [
    "## Plotting "
   ]
  },
  {
   "cell_type": "code",
   "execution_count": 113,
   "metadata": {},
   "outputs": [],
   "source": [
    "# importando a biblioteca\n",
    "import matplotlib.pyplot as plt\n",
    "from matplotlib import style \n",
    "%matplotlib inline"
   ]
  },
  {
   "cell_type": "code",
   "execution_count": 117,
   "metadata": {},
   "outputs": [
    {
     "data": {
      "text/plain": [
       "<matplotlib.axes._subplots.AxesSubplot at 0x198ba1d3a88>"
      ]
     },
     "execution_count": 117,
     "metadata": {},
     "output_type": "execute_result"
    },
    {
     "data": {
      "image/png": "[encoded data removed]",
      "text/plain": [
       "<Figure size 432x288 with 1 Axes>"
      ]
     },
     "metadata": {
      "needs_background": "light"
     },
     "output_type": "display_data"
    }
   ],
   "source": [
    "# Time Series Plot \n",
    "ts = pd.Series(np.random.randn(500), index=pd.date_range('20180304', periods=500))\n",
    "ts=ts.cumsum()\n",
    "ts.plot()"
   ]
  },
  {
   "cell_type": "code",
   "execution_count": 118,
   "metadata": {},
   "outputs": [
    {
     "data": {
      "text/plain": [
       "<matplotlib.legend.Legend at 0x198ba2c2f88>"
      ]
     },
     "execution_count": 118,
     "metadata": {},
     "output_type": "execute_result"
    },
    {
     "data": {
      "text/plain": [
       "<Figure size 432x288 with 0 Axes>"
      ]
     },
     "metadata": {},
     "output_type": "display_data"
    },
    {
     "data": {
      "image/png": "[encoded data removed]",
      "text/plain": [
       "<Figure size 432x288 with 1 Axes>"
      ]
     },
     "metadata": {
      "needs_background": "light"
     },
     "output_type": "display_data"
    }
   ],
   "source": [
    "# DataFrame plot \n",
    "df = pd. DataFrame(np.random.randn(500, 4), index = ts.index, columns = ['A','B','C','D'])\n",
    "df = df.cumsum()\n",
    "plt.figure(); df.plot(); plt.legend(loc='best')"
   ]
  },
  {
   "cell_type": "markdown",
   "metadata": {},
   "source": [
    "## Output"
   ]
  },
  {
   "cell_type": "code",
   "execution_count": 119,
   "metadata": {},
   "outputs": [],
   "source": [
    "import os"
   ]
  },
  {
   "cell_type": "code",
   "execution_count": 130,
   "metadata": {},
   "outputs": [
    {
     "name": "stderr",
     "output_type": "stream",
     "text": [
      "O sistema não pode encontrar o arquivo especificado.\n"
     ]
    }
   ],
   "source": [
    "# Verificar se existe o arquivo no windows \n",
    "!type teste-df-output.xlsx"
   ]
  },
  {
   "cell_type": "code",
   "execution_count": 131,
   "metadata": {},
   "outputs": [],
   "source": [
    "# Gerando um arquivo excel a partir de um DataFrame\n",
    "df.to_excel('teste-df-output.xlsx', sheet_name='Sheet1')"
   ]
  },
  {
   "cell_type": "code",
   "execution_count": 122,
   "metadata": {},
   "outputs": [
    {
     "name": "stdout",
     "output_type": "stream",
     "text": [
      "PK\u0003\u0004\u0014\u0000\u0000\u0000\b\u0000\u0000\u0000?\u0000a]I:O\u0001\u0000\u0000�\u0004\u0000\u0000\u0013\u0000\u0000\u0000[Content_Types].xml­”ËnÂ0\u0010E÷ýŠÈÛ*1tQU\u0015�E\u001fË\u0016©ô\u0003\\{B,\u001c",
      "Ûò\f",
      "\u0014þ¾“ðP[Q ‚M¬dîÜsÇŽ<\u0018-\u001b—- ¡\n",
      "¾\u0014ý¢'2ð:\u0018ë§¥xŸ<çw\"CRÞ(\u0017<”b\u0005(FÃ«Ád\u0015\u00013nöXŠš(ÞK‰º†Fa\u0011\"x®T!5Šø5MeTz¦¦ oz½[©ƒ'ð”Së!†ƒG¨ÔÜQö´äÏë \t\u001c",
      "Šìa-lY¥P1:«\u0015q].¼ùEÉ7„‚;;\n",
      "Ö6â5\u000b",
      "„ÜKh+\u00036}¯¼3É\u001aÈÆ*Ñ‹jX%MÐã\u0014\"JÖ\u0017‡]öÄ\f",
      "Ue5°Ç¼á–\u0002Ú@\u0006L\u001e",
      "Ù\u0012\u0012YØe>ÈÖ!ÁÿáÛ=j»O$.�DZ9À³GÅ˜@\u0019¬\u0001¨qÅÚô\b™ø‚õ³6¿³9\u0002ü\f",
      "iö\u0011ÂìÒÃ¶kÑ(ëOàwb”ÝrþÔ?ƒìü�\u001d",
      "y­\u0012˜7J|\n",
      "\\üä¿{osÈî>\u0019~\u0001PK\u0003\u0004\u0014\u0000\u0000\u0000\b\u0000\u0000\u0000?\u0000òŸIÚé\u0000\u0000\u0000K\u0002\u0000\u0000\u000b",
      "\u0000\u0000\u0000_rels/.rels­’ÁNÃ0\f",
      "@ï|EäûšnH\b¡¥» ¤Ý&4>À$n\u001bµ�£Äƒîï‰�@\f",
      "�i\u0007ŽqìçgËëÍ<�ê�Rö\u001c",
      "\f",
      ",«\u001a\u0014\u0005ËÎ‡ÎÀËþiq\u000f*\u000b",
      "\u0006‡#\u00072p¤\f",
      "›æfýL#J©É½�Y\u0015HÈ\u0006z‘ø u¶=M˜+Ž\u0014ÊOËiB)ÏÔéˆvÀŽôª®ïtúÉ€æ„©¶Î@Úº%¨ý1Ò5ln[oé‘ía¢ gZüÊ(dL\u001d",
      "‰�yÔïœ†Wæ¡*PÐç]V×»ü=§žHÐ¡ ¶œh\u0011S©NâËZ¿u\u001c",
      "Û]\tçÏŒKB·ÿ¹\u001c",
      "š…‚#wY\tcü2Ò'7Ð|\u0000PK\u0003\u0004\u0014\u0000\u0000\u0000\b\u0000\u0000\u0000?\u0000Du[ðè\u0000\u0000\u0000¹\u0002\u0000\u0000\u001a\u0000\u0000\u0000xl/_rels/workbook.xml.rels­’ÁjÃ0\u0010Dïý\n",
      "±÷Zv\u0012J)‘s)…\\Ûô\u0003„´¶LlIh·iý÷\u0011\tM\u001d",
      "\b¡\u0007ŸÄŒØ™\u0007»ëÍÏÐ‹\u0003&ê‚WP\u0015%\bô&ØÎ·\n",
      ">wo�Ï ˆµ·º\u000f\u001e",
      "\u0015ŒH°©\u001fÖïØkÎ3äºH\"‡xRà˜ã‹”d\u001c",
      "\u000ešŠ\u0010ÑçŸ&¤As–©•Q›½nQ.ÊòI¦i\u0006ÔW™bk\u0015¤­­@ìÆˆÿÉ\u000eMÓ\u0019|\n",
      "æk@Ï7*äwH{rˆœCuj‘\u0015\\,’§§*r*ÈÛ0‹9a8Ïâ\u001fÈIžÍ»\f",
      "Ë9\u0019ˆÇ>/ô\u0002qÖ÷êW³Ö;�Ð~pÊ×6¥˜Ú¿0òêâê#PK\u0003\u0004\u0014\u0000\u0000\u0000\b\u0000\u0000\u0000?\u0000Uq4×{\u0000\u0000°¹\u0001\u0000\u0018\u0000\u0000\u0000xl/worksheets/sheet1.xmlŒ½[Ót¹q¥wï_Áà=‹@&Ž\n",
      "J\u0013ªÃ„}çðØ¾ï![\u0012c(RÁæHö¿÷Zx\u000b",
      "Øï—Y©p“Ý”ºÑ»\n",
      "µqXyzòwÿåÿù×?ýêßþë/üËŸÿþ×ù–~ý«Ÿÿüû¿üá�þç¿ÿõÿõþ×ßŒ_ÿê—¿ýôç?üô§¿üùç¿ÿõÿûó/¿þ/ÿð¿üî?þò×ÿñË¿üüóß~…\u0007üù—¿ÿõ¿üíoÿöw¿ýí/¿ÿ—Ÿÿõ§_nù·ŸÿŒòOùë¿þô7ü¿ýçßþòoýù§?¬é_ÿô[I©ýö_úãŸýõ„¿ûëÿŸgüåŸþé�¿ÿùù—ßÿÏýùÏûzÈ_þÓOÃ×ÿå_þøo¿üú\u001f~÷‡?âŸq>¿úëÏÿô÷¿þÇüw¯šò¯û\u000f¿[ŸýÿñçÿøåÛÿý«¿ýôßÿÛÏúù÷ûù\u000fø\u0005~ý+Ní¿ÿå/ÿƒÿðÃßJüWëþÝÿº¾Öÿþ×_ýáçúéþéoÿÇ_þãýù�ÿü/ÃCêù´çOûé\u001f~÷×¿üÇ¯þº\u001e",
      "þË¿ýÄ_+ÿ]Å7ý=ÿæ�wý3ü›üþÿþ\u000féw¿ýw|äïß#\u001e",
      "~DþqÄÓ��\u001fG¼ü\b=#~‹ïw¾¤|ú’ÿ(ë_—õ/\u0016ÍM|üýëŸü&ßt\f",
      "I%©ôÚgšf&ïaéVR\u001fY»\u000e™#‹63Ÿ¯qrËEëh\u0018”G\u001a³˜9�\u000f\u0015)3é˜¹VÁ?OL?NLÍÄÌgÜõ|ãžzÍµ•>ðis˜™}�K·†oš;FÍ1kªf^_£ò­u­R´gL¯Wó+½®Ï,xÈlü¯dMùóÄÊÇ‰\u001531óUîe\b¾‰HN:kÏij7\u0013+ï¯¬ª\u0003oU[ÉeØ÷UÞ³\u001f=ãamà÷i£u»\bßŸ)7Ì=k©’\u0004?ççYÕ�³ªfVæ‹Üëû‹è(SÆè)•ÙK5oõ±‡5í©Öš\n",
      "þ¢ø«™V}Ï}$¬°ÄµŠ…8ìëªû—ì’e–Ù°²S+%X‡íãÄš™˜y\n",
      "÷¶?\u0004ËK\u001bö\u0005~`,5÷ºÚû+g\u0019­H�Ø�\u0018m'ÖÞû«µÖ{Æ«Êx¹fO¿ÚÙÓ\tçìL­6Õ4Êçiõ�ÓêfZfÛÜû^\u00118,\u0006\u0016V×.%‹�Uß³ªXT£\u0016m\n",
      "oÖž‚_£ôVðŽ°ÿðUñº¦�V?¿dî3ó Â¯PJ›Ÿç5>Îk˜y™5q\u001fg^CkÃ+«Òª;\u000f\u001e",
      "ã=¯Z‡æŽ·‰3\u0001kÌÌk¼ç…çäÊã's3ÚÓpœyá]\u0015Å>œ\u0018+½ž×ü8¯ùã¼º¹Šîs¯\t¬›‚‡ãØ�þ»<æÞ8‚¯œp~õ’ñ\u001b˜y}�*7-½¦T{i¢Øµf^ó½WSk\u0019\u000b",
      "\bWFÇÝ’kpåôqbëoŸ™ù‘ï\u0018ðžZÅñUZÇä\u0007~J;µ÷8\u001c",
      "Î‚Ã\u0003_½ã`îÃÞˆÏ÷¸rËyb‹á](/1;»ó8Í\u0013›«Ž‚m€ÑÁjÌ\u001f5Ä?ælf'vvy/ÈTùAÒóh’íÕóx�ÃNÃ»�Š“s´š†›\\~/É‰ƒ(ãõbÛâµØ%ù\u001e",
      "Æ%Y\u0007ž–1\u0004çè\f",
      "NÆüY{d#>º\u0015\u001fYöäp�á”ÂÊ„\f",
      "\u0019N}¼Ç¥\u001b\u001e",
      "Q•'t\u0012ü\u000b",
      "ö2{\u000fÓ\u001bž‘q=\u0017Ü\u000f³V;·ý0å´ðGS\\9øMƒ¹}–\u001fÙè\u000fû\u0013Þ³î¹áçk“ª\u0002¿xêVä--°‹ðBp^O¬7»™žïaz«Xâëæ+Z’SVùH\u0010,Ý.\u001d",
      "'$ä\u0001þ\u0013\u001c",
      "þù³\u0006ÉF„t+Bò¥\b\u0006Þ\u001a†`ñwˆC;»²�ö†Ã6ãwÖi\u000f�ç\u0019$8(q\u0015cn8à�ºÚŸ™!ép‰b5bPê)šÚg!’�\u0012éV‰äº§6pöãgLØ$Iì-ûx�+7ÈËÂó´á$Ä½e'÷5¬B\u00136�\u001e",
      "ìÜ¼É\u001d",
      "–ùˆ\u0011<¬e,\u0003ˆ€2°€ƒÙ}V#ÙÈ‘nåHn{v¥êÄ�=©\"Z¶“k{¹AÀâˆ‡ÚÅÿd{\u0011¼‡U¬Jˆ–‚w×ñ†³[•G\u0004µ‚{\u0010\u0017!¤&•t\u0015|Ö$Ùˆ\u0012»—î¹ï\u0015‚[\u0006ê1W~T÷WAË(|ë2a@sáêpÆY¿a\u001e",
      "\u0011�‡\u0005\u0002&g'#ó\u0011&xL‚‚„zÅïÐS\u000b",
      "f÷Y™d#Mº•&yìÙA\u0019Ï)\u0005o0á˜³Úä=\u000eëwLþcŠ\u0013¨D·0¿†5Øj•_6ã’†á×ììÆ¾\n",
      "æÐ¦´zp¼â\u0005\u0006“û,O²Ñ'Ãê“<�Y“\u0012Ö¤ÀDà{)îD™ï•™h\u001e",
      "\bEEªªÓÎîkXÇm�û\u0004ªc,£Â]\u0006çc\u00052\u0006G%N \b¿ïÏûÑÈþ,RÄˆ”aEŠ¤ý9™G\u001c",
      "T^Á\n",
      "5›ÕÕ�÷@^\u00078è\u000b",
      "¾qÂµŸíôÞÃ\u001aVpÇ}O]]š·pd‹”š¡w°Iq\u001d",
      "¶,5˜Üg�\"F£\f",
      "«Qdk�¶ìB¬#üeZKèñ\u001e",
      "&xÃx\u0006NËŠ+\u0003òÃN-¿§†Û\n",
      "+\u000e/Ž\u0006Ó°oî=Œ²\u0019FƒâÌlŠÃ,µà\u001e",
      "—À?b4ŠULw‘÷äp\u000e\u000eüzŠ-\u0002ÓÔÎm;>´–9p+á:Ä�á^ÛV(\u0015w‹Â‚K\u0002Ak­Ü—\u001c",
      "]Ô°R°n+¶&®ýà¦“Ï\u0012EŒD±÷î]ŽX ;ƒf\u000eÎBˆ•â\u0016åÖ(³áø›8æñbÜAø”­Q°‰ ›q'Â”q–îk,D\u0001ö®À4Â…\u000f=\u001aLî³B\u0011£Pìú¸Ëñ“à°�h¬\u0014*ØØÕÞãï�¸\f",
      "\u00065#µ<L>{î<ßÃ`ô,U¥xkx1nÃ•=7Åâ®P—83k“ÀW\"Ÿ5Š\u0018�bÝ6w9j!õ\u0006«\u0000zb6œ`#Ù‹\\¶J�ÞÇÔÒ:/›»ÈßÃ”ë—š\u001f+\u0001ï%ÛÙ\u001d",
      "iÔGÆ»ÅþLØq‘'H>k\u00141\u001aeX�\"í\\9‚u\u000fÅˆ)V+Ô\u001e",
      "²5J¢\u0013\u0004B\u0010§\u00004´½ÅeûLj›X¸ø\u001d",
      "pi\u0016T^\u001a\u0005?QÎRj…î\u001d",
      "Ñ-.Ÿ5Š\u0018�bíÆ»l—ˆ¤uÑMšûÉ¹%ßÃ ¬¤fú\u0016p^”âWåv�`\tÐy•¹ÎÅz5^ïaX.\tŸ'Ô 8Ê kF´ë>k\u00141\u001aÅþŠwÙÚ\u0003Ú\u0012[\n",
      "\"%ÑQj\u0005Ø{X�}©\n",
      "Cf\b6I±»é)ÛÍ’ �ñ8ŒÎTývvÇƒ‚\u001d",
      "PK‚Ý‡#\u001aæx`®Êg�\"F£L«Qd¾'—r�%—`ˆÃ\u001e",
      "Mb'·Ý#ƒG<\u000e\u0000¨«ÑíBxÊö�Àt¢ÝWò—\n",
      "a-\u00039\u0012…2\n",
      "‚]qÙáƒSä.ÿ,QÔH\u0014û+Þ5½g‡S\u0012\u0002\u0006‡œ¤.Å\u001e",
      "—º•\u00074\u0007\u0006¦B\u000f\u0011.\n",
      "3;=‚§ÐFëU°Þ;¤¸½ëôH”T �a@uº/R Àô³FQ£Q¦Õ(º\u001d",
      "\u001fôƒÓC„uÄÓÞÎ.¿e#\u000e\u0013©X˜´}‡•sO=â£â:ÄnRªÖä¬û×50ãy½.\u0005-xÓ�sO?«\u00145*ÅúFï*ïãB©\u00073\u000fï!Îq÷x\u000f\u001bP»0ì0œƒü��Þ\tÐÔ†·\u0002Áƒ[\u0006ªÆÍîøepñðä©]!FG Á4ˆä\u0018�bÍµ»ê{CA.\u000ežš°Š““`ïQPü\u0003«\u0012¿1.ü‰Wmçvü2¸\\*F6œQIÅêKÝšG ­±ï`?`wÎhY~V)jTÊ´*EËû½á»àÊ…Eœ  Õ\u001e",
      ")ïa\n",
      "çe‡I„Õ«x%â6ÝQ\u001fx¹¼ëa¼cºë@·äÉ:±å\n",
      "]÷8Ñ\u0002y©ŸEŠ\u001a‘b-Ç»né‘©< ˜`ø@\t¹÷Vßï�ž\u001fÅoŒSžòÊÎ­î5™\u0014\u0016+61\u000eMH\u0019·&·’¡\u0014È\u0005g\u000eìñ\u001e",
      "�•Ÿ\u0015Š\u001a…b×Ú]·ô\u0018\u001d",
      "jyâÞUiNz<ÞÃ`Êà\u0007†Nš£´–¬ûK¯\u0010Q—åm¦5“Ôo·£dxÁ)¬‡†gÎ@}ég�¢F Xåq×íõÀé\u0007)�ÉÓ\u0004±vÑã=¬s\u001b\n",
      "\u001e",
      "h\u0002m%ÖýÔ­<¤ÎŠ=\t¡Š½–œ´Ôí’\u0019¼Q\u0006oDÅ.Ž–ägy¢FžL+OtGd\n",
      "v\u0006¯f(*h ÷ÞÆû˜„HâÎ˜�üØýî(9\u000e\u0019ê)\u001a<\f",
      "ÉNqsÛ2\u0006æ)n\u001d",
      "\\q2g\u0018?ÕÏêDT'¸MíÜ¶ìÀŒ\u0012—å †µNò‡nÇ\b­\u0000ÜF8N›¸3÷©'`ÄÅ†›\"uœ©©ÚÈ°îˆÑ:»`BÑ©>{ +ËgmR’™›Õ&%ícRûr‹LºÙÄÆ\tÞÃ:�ß…ÿ\\ÆÊS0s+'bDWû�\u0004…R›õ±¼Ê‘0PßX–%á<…-9\u0002÷Iù,MJ6“³Ò¤ä-õ\u001bC6STgrÇdÙn\u0011¬ŸÎÇ\f",
      "zõ\\œà=\f",
      "W@†\u001c",
      ")x\u0015�¡¼ì\"ú—‚a(¹Á|ÀÞÄñ\u001b¬ÊòY˜\u00141“³Â¤la\u0002ë¤`ýciL|ŒÝqïaœ]â^b\u0010T“Ý¿Ïr\u001c",
      "#¸Ø\u0006Þ\u0004„@gJ†�Ý\u00110IK†�K\\.#\n",
      "=–ÏÂ¤¨™œ\u0015&E÷²¬¥×™µÁ\\íj­�÷°vÃµ¦x{•îtuª«\u001c",
      "e\u0002\u0015¥Âé·\u000f\u0006ík�Ë7Ü«uÀ~ÂŠ�y\u001c",
      "M.H3)fr.ÏdK\u0013˜ÁŒÉ5j¯f\u0003\n",
      "�3\f",
      "\u0007Zê³\u0016š^ÓYáå\u0004Œ°ájb¦\u0011ì‹l=d¯rÜ6}6\u0006\u001e",
      "q'Ò²•hvŸÅI©fvVœ”\u001d",
      "–ÉÒ\u000b",
      "Ô\u001d",
      "n\u0002Hy\u0017V-Ç}‚;iù\u0019q\u0006L+¨žïa¿a\bk%’ÌN\u0017’M‡x•�¿BŸ\u0017NUØqô[ÎÀÇP>Ë“ÒÌä¬<)[ž`+A1Â\n",
      "ÇožíYñ([žÀÊãÑ6™„ånúç{ØoÊmÙ\u000b",
      "JÙÌ �›ÜÑ1�g\n",
      "†*V\u000b",
      "Î•\u001e",
      "%2”Ï\u0002¥t3;+PÊöy@\u00016˜\u001b8UjÍÅ½º¾w\u001d",
      "\f",
      "/œ:0¾\u0006®_7»¾g×pwÁŠ™¸›aÎX;µl�ÂT*œ”ƒ\u0002¼–è¸ü,PÊ0s³\u0002¥lÇ\bŽ‘Œ+µc™äaÍ†GÙ\u0002…nŸÂÌ-ærøË`œ¹1îÈ\u0013�\u001e",
      "w\u0017\u0012/[ àŽƒ�ÂxÂ`¦A0·Ï\u0002¥\u0018�’­@)[ ¤¦8‘•Ik­Û\u001bãñ\u001e",
      "6n\u0014/8*\u0018–)Z¬°|\u000fÃÜp\u000b",
      "\f",
      "jÊe>X/á«l7KÇGá¼é0ž\u001b\u0017ÃçÉÕÏ\n",
      "¥\u001a…bÏ·{½¼'ØÕ�ŒŒ^‰MVyÔ­P*Þn*_Þ*q‘Ç÷0œ'8\u0004•_šš'5{ÏÕ\u001d",
      "-ÂþnÜ\n",
      "©Ñà‰æöY T#P¬V¸×\u001d",
      "ßY©‘\u0010•Ì³É.Jð\u001e",
      "6h1ãP…¸l‰~-;·¼_\u001c",
      "¶64*#XÒœåðª;\u0007…¯kÐÈ*tIE\u0002¥~\u0016(Õ\b”l\u0005JÝ>\f",
      "üÈ…ï\n",
      "\u0016Zg|ÚÎî\u001d",
      "\u0007J\u0014ÄP¡�þauÚò=ì7¸\u000fqJ\u0016\u0006Jp\u0013\u0014ë�zíqœ^Âv¨ô}Ñ:\b,ÕúY¢T#Qì±u¯ºM}hÀ‘+Î¶éLÐÇ{Ô¼á‹b!Q63¦`Ï“÷°ßô\u001b^¡•º\u0012©ìJxÕí;Á¾Íü\u0003J\u0006J%šÚg�R�@±\u001e",
      "�{Ý\u0011\u0019æµÂ¶„�‰3Ù…ÃßÃòú¥ñ[+söªó�¼‡ý†ËWy3ã+'º7íÜ¶ïD\u0019U\u001a8H`fÌ\u001a­Ê \u001bÖÈ\u0013ë>½×­;&v\u001bOµA)h\u0013¨\u001e",
      "ïa˜Û`\u0004\n",
      "w|\u0019P¡.\u001d",
      "¶î¹ÍÌ€ªÀŒb6’{o;oVhƒ0¨<2\u000e•è8ù¬NªQ'Ö\u0003w¯m¿7æï`O�ŠÓÒ9\u0018ÞÃ2ƒ\u0016\f",
      "Y\u0014ì6iv�?ëÎvÅ¸\t\u0003\u001c",
      "›¨%<Ñªæº�'\f",
      "\u0012Õ\f",
      "­ª•ž½`nŸµI5ÚÄþ‚÷ºµ\tÖO†}�õA—½;LúyoP\u001d",
      "…�IH]{6=k?s+91*)|+6dþª[›ÀJgj\u0018®\n",
      "Ü\u001a9Z“ŸµI5ÚÄÚÃ÷ºµ‰2B:p`¥¢¹Zƒà=lÂjÆ5\u000b",
      "\u0005ˆÁxËV2×qæ\u0006éÒ \u0006*þ\u001c",
      "Î”«Ûe“+Ãv+î˜ç\b\u0014sý¬MªÑ&bµIÝÚ\u0004\u001a\u0002[¤1¤!.Fòx\u000fË™�4¦V×‘\u0019{µs{k“yÃëŸŒ£0ƒJ\\FÛ~Ü�v#Ý'´C$\n",
      "ì´ÏÒ¤\u0019ibÝO÷¶¥\t#q8I\u0012LªiCÊ�÷(Lm¥i‹à2,â\u0013ÐÓym•\u0001R¾6l&çóÚ�»iY¹¨m@Ï~w¡ý8µÏÊ¤\u0019eb\u0017þ½meÂ¬Qì\u000fX9“á(;·÷0Ák£Û¸@(•äîî÷0Î­áŒLt×B\u000b",
      "¸ôúý¡°ª\u0012c—eb¯G¹±í³.iF—ˆÕ%íä�ÌAk±N\u0016§8ßÂ\u001e",
      "&7š“)uŒ…œpSÛ\u000e\u0011&€g-iÉNÿÖö‡VÆ‰a|ä†Á\u0012Mí³&iF“ˆÕ$íä�ÔÊ 6Ž\u0012è\bfôÚÉ½u\u0004Cü\\³4ˆzu&Ü~^f6*S=&žë]^íd±ÌÚ13\u001c",
      "•SU\u0003o^û¬JšQ%6ntoWÞI§ßtvØ\u001b°»ª›\\Ù\u001bŽ¹Y8o`ç$Ÿ±½Ÿ‡É\n",
      "\u0016Ý`O2ÁÊ¦ó½ÚÖ%etÜì\\2\u0003J.šÝg]ÒŒ.±*éÞvtEè¦¬ôý×žíÅõx\u000fÃw^Æ\u0016}8x%Öéÿl;¦£\u0010žƒ\u000e/N¯Ùßàµ\u001fwÃEÂ\u00143æ Ñ»\u0010Ì-(Ô1ºÄ:gîmë\u0012¨V\\ÜÌ¨ƒ�ãÌœ÷0|gÞ\u0013�îXúM­}ÚÚ™\u001b\u0005œÔ®´½]ÞIÛÉ.�%jL[H-Ktw·Ïº¤\u0019]b=\u0001÷v‚:8®y×&\u0016º¹ò�÷°\\p\u0000äòu°ÓCeçÖÏÜpMÀ8ë,lqfì«íàO¥¥_Ó`veúîeûqrŸ…I3ÂÄºýïíDu\u001a/c¼\u0015\u0016>ù£rì\u0017×é¾R\u001a²yØØÞ³�³á&ÎÉÔ™cÊº\u0012;¹�ê‚�†�¾Ò\u0019G�bßí³0iF˜¨\u0015&í¤»2/ž«\n",
      "\u001bÊ_psO­æ\n",
      "»­tÆZ�Vnó¼·\u0015üÆUA�o}+¯ý¸ÛÊ,Kt¿\u000e\u001d",
      "a\u0001Ùg]Ò�.±wÒ½o]ÂÌMÆ\u001e",
      "X¬g\n",
      "åÇ{\u0014§†\u000b",
      "‹æ\u0004ß²\n",
      "¢<ûÖ%•w|’ÎÜ}Í6’ôê'¨ƒÕXÒJÅP˜\u0002ßsgœÝgiÒ�4±!û{ß\t'\u0010\u001c",
      "8% ìÚ„aiOÊ÷°Ü 9°Î°�”¯ÙM/Ÿé\n",
      "ÅÑ›Kå5nSq_ý„u&\f",
      "8Á/\u0001ó\u0002�ÌÁ=Ð?«“nÔ‰-~¸÷�ÈšÓÊ\u0001Âº,R]áÎ{\u0018¾uÆÞX‰žÉûVŸ]Îì˜\u000e‹Ó”&Ìp>Ø~œ&X2\u0010C¸ÞFª?d¢þ8»Ï\u0002¥\u001b�bOŠ{ß‰¬Â¸~¦•£0aÜ»Ó}Ëõ•›'«žÊÝ\u0004}Ë\u0013XóŒ\u00121¿\u0003¿ƒ;PöãX¼€»›7¢àB\b,�þYŸt£Ol\n",
      "Ð½ïb\u001b\u0016­TüzXH­Úkéñ\u001e",
      "†¹áw†\u000e¤\u001aÄ5æÞ\\9o®³t·1ªƒ›ÅÍm\u0017\u001aÓ¡;ð;1\u001b ”\u0019œ–ý³<éFžXÁxï[ž0ZOƒªá8Lî\n",
      "\u000f›P‚©Uæbã­%›\u0019üìõL\u000e\u0007\u000e}\u0010ØÆÕ¥t¾úŽê¬”ÇÄª\f",
      "¾ßðÍ}Ö'Ýè\u0013›7}ï;ªƒýßðbyjMwÂ=ÞÃ&\u0016/t\u0017ƒÀƒ‘\u000f{‡÷vM®ê\u001a‰¿úZý¾õ\t]Ð¼ë…u¼¥D\u0007JPNl\u0004Š•¯÷¾]\u0018«\u0000CYQ\\tZŸßã=l½¹¡�yž…%|vrýÚre\u0014ê\u001d",
      "Ü\u0007Í\u0015·ô«t‡UÒ8-S£ï(ªnéŸ\u0015J7\n",
      "ÅF5ïýÔ\u000b",
      "7þÌ8·p\u0018\u0016\u0017²ÚÃV�jaÑ)6‰ø\u0003eœÙÁ8Ã\u0005Îl éSØúÉ‹¥c\u0005÷wƒD™‰énÁô>‹”nDJ±\"¥o½À$åU“�\u001b£[;í±‡Ñ¼î,—VªQ—zÒçµ215šr\u001d",
      "?©¿ëvd‡¾®•‘?júÁióc=øg™2ŒL±\"ö>Ž'£\n",
      "�8‡LI86í»\u001bÇBwn’UÂg½'ãR)ô‹ð¾\u0010¬9W\u0011ž¶ -y¬#µ2º\u001e",
      "Ø\u0004ã³B\u0019F¡X•w\u001fÛ�\u0001u\u000eã\u001b×)ów\\®ö8Î\u0013Üßu¥°a)Y_ÖsäkQ2\u000f€Ù‡«àÈÎmW\u0001Uf¾Ó\u001b�­ü=¹ÿÇ¹}Ö'Ãè\u0013ë£¹�K)Ð‰\u000fµP¡›ªK ¼\u0007âµÑÁ°jâ]¥Ü~\u0018e3Öë „ÉD¥Ø©mQ„‹§\u000fYií8¦\u00033u|\u0016'Ãˆ\u0013›0}\u001fÇ{2pu%�‘Ê`bwÊy\\ò\u0004¦\u001c",
      "³‚Gö€Šç~\u001e",
      "ÖdY6=Fáþ²þŠ×Ø‘$fïA„�LøH\tŒ‚ñYž\f",
      "#Oì\u000e¹�ã>\u0011žj�¦5=õ.•yœ°\u000eY\u0010\\Eƒ\u000ed{VŽK ÀîLÌ«éµ»¨Î8Õ=D¶(n:\u0018$³\u0005—Üø,O†‘'ÅÊ“qÊv¨”òÔ’\u0019Û˜\u000e›ñ\u001e",
      "˜y¢Ò_‰_š¥RîÕm�Òé\u0000¥;\u0012ê™åIvv;š4\u0012žU;®BmßS!~œÝg}2Œ>±¿á}œÒb\u001e",
      "&\u0019§6ËD�\u001fîñ\u001e",
      "‡ÉÍÚ¡ÐXÈË:?;¹-P\u001aå5~(&Ç‰[1¯qj�Y¯°œò“U\"Áä>ë“aô‰•Œ÷qJ‹\u0019=ƒ\u0006b\u0016ÈtÊò=ŒŽ\u0011œ�m%\f",
      "2ÛÀÎm?m°–„;\u0013Z‡ä\u0006;·“ê‚%‹[\u0010¿'¦X£Ã2@ž\u0018ubeÇ}œ<Vm“U²ô¯á|s[nlï\u0010“�a¡`'\n",
      "_µs\u001e",
      "7n„\u0002d\u0016p\u0015F\u001d",
      "íäNZlgu#+-è\u0007�Vågm2Œ6©V›Œ“ÈJò\u000eK®H™q¾‘Ç{\u001c",
      "&‡Ã\u000fßšfŠƒ*=ÏÓú�¹’8è±Ax#ï¹�¢�Ì*f\u001c",
      "ÀŠÕÂ¼¡Ï³›ŸÅÉ4âÄzPï3�=G\u0018\u0010ÏäÞ¸©ÌìÞã2ËvXÎQZ\"JÅNo?Ž¯Ž‡;/\u0016:\u000f¬\u0017åúXQº‡*Ô5\u000ek\n",
      "\u0002\u0005ó³B™F¡ØØß}\u001e",
      "o\u0006}>ÌÕfõ9‹‡íôÞ\u001a¥ã2èY° Vù’õ7ïça\u001c",
      "l\u001e",
      "\u001e",
      "MÌ#ö>ÙësGšË\u0011ÊL,¼¿@ZÎÏ*e\u001a•b\n",
      "Ìûü–¦Š3Né#¯ÉÁ–\u001e",
      "ïq™iCie\u0017./¹ÃòÈ™\u001e",
      "t>\tI�\u0007£Yék\u001e",
      "qÔY-Ä‹¥u\u0012œ\"âÐg¥2�R±Êñ>O¢jÊBeIqÕ§Ë>y�ÃâÌ+K¯�F¦¶–êy\u001e",
      "×Y(QÖ/€¿Ø\u0004²×<\u0002‰Ùí2éÃÅšÉ\u0011_n~–*ÓH\u0015›XrŸGªÐ7Ä\u001aÎDbÇpy3�÷H|ñÆT\u000eüÖy•âÛ\tn­Â\u001b�f(îGz¨ÝûÛÎ”\u0004ÛH8\u000eÛ\u001e",
      "¦O Vægµ2�Z±gØ}žŠ\u001b|\u0011†è°N°š¬™ùx�Ã·Æ^Á­Q\u0018ÒSç¡�—Xá\u0018F¨\u00069WvrWi³0FYq°\u0014\u0016V\u0004ÖÏü¬V¦Q+6Má>¯ª\u001b-�qa\\\u000ft¼¹£³í—W`a®ó~\u0014çvyîçñ%\u0017Æ…a–Ï2mðóµ\u001fG›|2Ý’žÜ1¢Ù}–+ÓÈ\u0015+žîó\"¡´\u0015Æ¡~dþ£�Ü[¯@‡ð~âOž˜¼g'wé•Ìß*a›â[»dË¹õ\n",
      "~oÜF´”pÂ\u0004Rl~–+ÓÈ\u0015kiÞç&’$†ÔX–Á‹¡\u0017—ùõ\u001e",
      "Èó‚¢�ˆ“ž\\ÂÊsŽóæ ¯pç‘g§Ùe¢ÌÃUÁýÉ´\\ì\u0007ÜÿÑ�\u001e",
      "pÚŒ^i\u000eÔ¶})„Å\u0011(#Œøú¹Í½épàà¶+8\u000b",
      "f·™àÏ¹õJ¹M:³W¦aéþÆÛ¥ÍÌÌÐ£i­Ë\b>”\"V›Ñ+V‡Ü9âí+eÊ2.2ž\u0018Ùñ�\u001e",
      "{ \u0015Ë`‚Å¢“V\u0017ŠÜã\u0018®k¸ª+u4³mÌ\u0004÷8af\u0016ÝJÌ\u001bo-ºò°¿ƒ\u0019\u001aÍb�swŽøz�\f",
      "Q@AV.ªl³Ø\u001fg\\½õIÿ\u00166(Á!\u000eŽ•ò™ ‘\f",
      "\n",
      "UÊà­£\u0010�Ï%ñH`,µ\u001c",
      "ëMüâÁüŒfqÀXŽøú!a™b}2£TX±íæwb?�üÈ‘yã9+à¹Ç15…HÇÁ\u0000\u0002ï57¿ý¹8Ïx}¦Áò\u0002\n",
      "\u000eN,«`‚Fµ8p,G¼÷y\u0016Ò(É×).9ï±Ç1t'|sø±q{x\u0000XÚº%\u0011µÄ¸\u0000”\u001e",
      "Åµ›áþ`l\n",
      "b©¾*(¢ù\u0005ä¶dd‹ãÇrÄ×!�\u000b",
      "½LÂä2\f",
      "u›\u000b",
      "ôØãVð.cX›ºô¤›ß•¡‚å‰õÀ›\u001d",
      "[Ð¯Ð�¤¥™’;.úðÃ\u0015\u001aðÛ’Ñ-\u000e%Ë\u0011ï\tâxaEÇ(?\"ðö\u0004ëž`\u001a«29SU:c}�ã\n",
      "]éÃä\u0005²&Ê¡²Þ\u0003\u0019Ñ.úåÚ„8‹rLs\n",
      "\u0018nÉh\u0017Ç”åˆ÷\u0012í_QBæcW›±ùØã0ÃFð^\u001d",
      "•Á7ëfxîqœ¡ÒÁÝéÃÎŽNõúöÁ+€Qð\u0012W.m4Ã\u0000ä–Œ~qxYŽøz‡%‘dˆ££×ärM÷0:�'™ÓÐ\\B8µ›`?k”1èÌ·(äo¹\tî8\u0014Þ2÷)¬•<t\u0006^N\u001c",
      "ëÁ\u0004�ˆqœYŽxßG°ÛK\u001a$Ø\u0014WDÿØã²2í–\u0006�|rñ=÷¸uŒ®¸\u0011\u0001DÃ«˜ëƒS'M€‚�HŠð\u001c",
      "\n",
      "€nÉ\b\u0019Gœåˆ¯\u000fR&Âer-qšºxå\u001e",
      "Ç„ªÉ·Ý+Ý‚.…q�[‹Têºì‹B\u001fù\u0019žp\u0014×ü¤û_°\u001d",
      "£E\u001a�g\n",
      "yÖ\u0015óÜs>å7�¤ 4\u0017ŠÛysÏ8½Ñ\n",
      "_˜èÆƒÉN0_R†ØÉF\u0010f¥‡ÉNð°g\u0017Ý�Ø*ÒÆ5ÊÓÌ!|Öˆ™\u000fôÙ]„Ã€^a\f",
      "51æj\u001d",
      "B�=�™|\u001d",
      "6\"Ñðô¢º³4_9¶J\u001e",
      "èh_˜,O =\bÚ^\u0006Î$¦Zâ+äð-\u0006‚Æ@hÅChó\u0016\u0016ô\u001d",
      "“¬Aè¯+Ï}ìqôí\u0012«‘È\u0017i.NòÜãVEB\u0016a\u0019(ë0m\u0004þ•\u000f‰\u0016j\u001bK‡…\t¬0�§\u0018H\u001aÃ¢uæÛ=ç­,Z[q’Ö„µIî°Éz½E¢AHmöEÿÏ=î7ã¦eùkVB±zQzñhó* ¦�I'BHþŒ€´†H+žH›\u000fË~�§Ì_¯JÚ¸›äImÁ\u00119%eÚ\u0017Žø¿‡1‰?“?ˆu1p29œÝõÁJct®´„\u001e",
      "¹\n",
      "s„¥5\\Zñ\\Ú¼³`™»�S­æÎü'gXìq™u¸\\£\"ò!cn�Ã\u0004\u0007C\u0014ÂÎ\u000fÐ5vàëúà\u0015õc½^ç½\u001f¾Â@Ö\u00186­x6m>à7Ü‡äÔ1)X=Ôn\u000fœ7–6³¾¬\n",
      "Œv‡\u000b",
      "Øã°NY\u0000‹ÓyÕÞ{àâ\u001e",
      "(7X…ìI‘è&¯\u0011\u00054G€ZC¨\u0015O¨½`±¬>š“ad˜ù\u001e",
      "K¸GÎ›°ø‹àt|)uu4ç‰óÆ¬\u0004Ö¯àxâ/çæxÈs³Ó£M©Ž\u0015\u001d",
      ".Ô@Ú\u0018N­xNí\u0005ªeÝuÂ�‘IjuH‹=p0§qvV¹2ußaô¯\u00072Åj*þ;)˜\u001c",
      "< \u001fôí¤·kTž6qÕIŽ`µ†V+žV›OT©óJÄÕ˜„™}~Šs¿E¦+B%°\n",
      "Ù\u0005õŸç�ÜŒy¡îˆ�qÈô×\u001e",
      "Xˆ\\æk¤\u0003X5¼3\u0002`m6ÄZqÄÚ,‡’¢LŸ`\u001f�Fo¥;oÞ\u0003ç�Yatêà\u000b",
      "a\u001bYWÔõ@œ”Z˜–GEïj\u001f_{`ÅfL\n",
      "‡\\_Z<Ê\u001aÏ\u0001¶6\u001bn­8nm–\u0003K!´9O\u0006aË§#u\u0013nY‹¨©NæÞÖæê¾Î\u0003'!UÔƒ}%\u0016ºðà\u001e",
      "X×‘:\u0019™\\M\u0014¢#5€×fC¯\u0015G¯Í\u0017J–nnúÛ¡,IÆqS<‰0S…çé\\w‡»\u0016÷\u0003û�—á`š.«1<‰^6Ò\u0005Z½iïøug\bBÍ\u0001Ã6\u001bˆ­8ˆm–ƒM)ü:¤ ãà®.L±\u0007²\u0004Š=\u0014H\"çåâ×éû�øæÂ°\u0007\u0003:<¾ü\f",
      "7×\u0005[‘Ü\u0004þY4JÓÊ\u0001É6\u001b”­8”m¾¨²Ø5«?\u000f£¼¾¤h\u000fäÕ�WÂ®J�q$w î\u0007¶…ô`±7Þcuàß×\u001e",
      "Xo„Äå%lpñG™#9àÙf\u0003´uÊóž/´,£\u0014�¬%Va{õ&Wi\u0011Ù\tue\bvë.|ž\u0007b‹áÆ'–GVa¿ŸâNŽ‘Ô©\u001c",
      "+ûžÔÐ¥\u0011@m³¡Ú:ÎÝ=oÂ,\u0013î„õn8ÀÉ\u000b",
      "rêFN…\u0011–\u0013©ÓìR0]\u001aèy`½)i:ƒÙÀìæáî\f",
      "Ù•MD×0§œ®�\u001c",
      "Õãç\u0000m›\n",
      "ÛÖÅ9ïYN[ ˆof¦2Ù ~x‰}¯S¼œ‰W�ß=ùD×ó¼Æê(Öµ\u0015æ–\u000eo-Ê¡³0×w2?\u001a—q�Ü6\u0001Þ6\u001b¾­Ë\f",
      "¸ç‹5+_éÐ\u0018\u0005é’>Ü\u0019ã\u001c",
      "7lj„›…mÃ¼¸ÙOì\u0018‡{\u000e&6î\u0017q›öu\u001e",
      "H…°Ê�\u000b",
      "\u0013TBC# Üfƒ¹\u0015‡¹Í‡L›`¢’ „S„(1ë*ì‘Ìè…¡Û2ó\u0011\u0019Etsœ[‡ãåàˆìTMÕµ‹zåƒØÍ\f",
      "ÄAìÀæš%ªïÈ\u0001ë6\u001bØ­C\u0006ßóÅ§eÎ;î\u0003X¹uüP¿õžã{$UK\u0019Òèã'‹ØÍq?±ã\u0002\u001d",
      "y5œës~ðlèÎîe¶^&tV¢‡¢9\u0006òÆ oÝ•~Ïº](™Ü\u000fVM5\u0016t9ºè\u001e",
      "ÈRTvÍXphù R7Í\u0016SÄ5ËÃ‹^FÇŸzí�…ÝÌ”¹î\u0018Ž_8|��¼1Ø[\u0007oºg=ò†)·Ì†\u001fdžZÙòØ\u0003éÿ¥ñÀóaðhuS<ò¦Iff\u0013IèØµÎ(~\u000fdû\u0017¶U¬«Ì]â·\u0018µ\u00112úÆÁoó\u0006Ö\u0012)¿â\u0014\f",
      ";7—¡øØ\u00033QG+eVW\u0013\n",
      "çìß\u000f¤©1 ¶aiã°.Ž]¼\u0007ê�œ\f",
      "¶\u001bÁ\u000eg¨!šb o\f",
      "\u0004W\u001c",
      "\u00047oníªÏ‡\u0010'Ó\u000e\u0017£ë ±\u0007ò¼™$ëwV8ð2î\u00072ä6ië’Ñ,®$ôµ\u0007–/ú´2g�HäHÂ\u0005(ÜlX¸âX¸yãk\u0013ËrÈ'©8\u001e",
      "X\u0011è_ã.Nê‹�‡¯•Fqãžç‰„ˆ°‘�\u00107\u000e£ÊÝþ‡Ã;\t�„‘ÑÈC\f",
      "Ýá\u0001\u00137\u001b(®8(nÖí¾I•‡MáåØ–ïÖÍqûo\n",
      "6ŽP¾-~™»\u001bõŠK1¿™A§�#ÕÑ”öÀzƒå\\+Ý¸•nÆp©\u0006\n",
      "ÇÀq\u001d",
      "¸åžõøoHÙ\u0016ž¦«pÂzw\u001f{ä\\×\u0001\u0006¬fŒ\u001f¼þú\u001d",
      "òB\f",
      "¡°,×ÞC¯|€»¬G\u001e",
      "�øn&ÓEñá\u0000‘›\n",
      "#W\u001c",
      "#7_X[\u0006‘XdPÙ»Ì%]î�ôÂ­S—¹µ\u0004´º\u0019^¡)\u001e",
      "¨ƒ¸Ùb³\u0017_{Xgt\u0007ÒJ”µ\n",
      "-ÌA\t8¹Ù€rÕ�róÅ¶U\u001c",
      "h<ApJBˆú\tnçÍª\tSÜÒ¼\f",
      "|ÿ²ó@\u0012xf\"ee’aïïÅ]ÍÝHž%ë\u001e",
      "‡N‹^a@ËÍ\u0006—«\u000e—›ËÉÏå=NÛM”­¾œ€+GÜL¶«]­ê¼wày\u001e",
      "H\u0014\u0007—\u001e",
      "£\u0015­øRÈ=Pé¨«øì•¸^s$Ä\u0003fn6Ð\\—MxÏ\u001b`Ë\u0002ÕJH\u001e",
      "+ëª«¥zì�Œ‹Â\u0000¤\u000f\u0002»K]Û¡ó@\u0006?JZb–¿‰kñ²\u0007\u0016þ¶ÊØ)\u0005\\ŽÚ�æ€œ›\n",
      ":×�’÷|Ñn;Í)Æ3øzl…Úc\u000fœ´IR]í¼”�žÜ\u0014å¬Óåt¦\n",
      "Ÿ,®pSÜâ†Þ~VUà½²;V4Å@Ü\u0018€®:€n.GÜ\u0010]Ö&¹þ³¸èÎc\u000fœ4u\tãfÓÑæ\u0012ÓŸç�yÑ ¾\u0012QGqˆï×\u001e",
      "XH…ãïšëW\u0014!šbÔ(±˜)úN‰ßZ\u0002±yÉWi\\÷\u0006c¹ÄM¥'KÙ\u0013¥û\u000b",
      "c?� \u000b",
      "6U]\u0011YÈ\u0017'nÊNôÁ\u0015\f",
      "CŽ?ì\u001c",
      "qP#@éfÃÒUÇÒÍå8o&®\u0001ú\u0005Itt\u0006Äc\u000f\\\u0014\"X±9å^qwû†�[Û\u0014\u0006ßVÒ\u001b\u000b",
      "*mþÇk\u000fTFÂ™oËÖ¶y„\u00197\u0001P7\u001b¢®:¢n.§¸©\u000föj!ö��5\u0017%.§ºiµ\u000f†@È©ú\u0016ºç�¹±…&ŒÐ%‚<¿t\u000f,Tá³/¸ÛÔ8¦\u0011Pu³Áêºî\u0002÷¼I¸J1¬\u0004)eR²¼Ãÿ=�\t‰ô\u000b",
      "tÁ_Xÿá¦¸•M…²aä\u0000r—8W¿\u0017O£E%\u0018»¬ØtŽJÌs\u0000×Í†®«Ž®›7\u0010÷«¯%ÓëHÒHÞ\u0005WŽó¦tú\u0019é�ñ<•ó<¦á¶Õ\u000f‰Ý�ÝýùÊ‡ë‹#\u000eWâ }ªåøZ\f",
      "´�aìªcìæ�Åe}m®‹â3jòVF9$»\u0005ª¦éÚ³«qxžç1\u000fwvvk‚Ñèj‰_{\u001c",
      "\tý«~>UÍD†T€ÙÍ†³«Ž³›ë‘6\u0004O\t3\u0013çrPÙ\u0019Ö#m`\u001e",
      "ñ?,¦vØÏó¼<VJr_fÆ\u000fMàß3¬;*…kŠ%803 7ÂÓ4€ífCÛu‰®÷\\�²aþn\u0011–ÃP‹8·M=Q)©8Û—{›À7Å«ì‰Apa[\u001c",
      "Áaê\u0014xÝ=\u0006ê$O™A7¢9£\u0019\u0006ÂÆ w]ÑÁ=oømf·�RYt8˜1êg¸…ÍL�6Ø‰ììÔ¼Ÿø<°\u0011€Ä¼0v£p™X¯=pÜ\u0018\u001e",
      "\u0019\n",
      "?-ÑkaÈ& îfƒÝu\u001d",
      "oï¹žÚ'²’\u001b\u001b�Oüá›\b\u001f§Mf®8L×ÜÚ‡Èây^#Jg%ÏÒ\u0019î\u001bš\u001e",
      "”¯ôÕ¤p\u0015¢Œ¨gE\u000eà»ÙÐw]?ž{®G×�\u0004Ì\u000eB«£¥»ó/þ.$ä Æ\u0000––ÇBŸç1a¼MB\u0016\u0018¤Ë®-Ç\u001e",
      "8n<d M1Ñ…Ü�f\u0018õ�6²Æ1xs½dMÍì©%X¥\u001fX9{à¸­ú Uø�«Ó_\u0017û�¼\u0010qí0iüS\u001f§×õ@rl:KiøäÐe\u0013�x³AñªCñæMÏ-7VWàÜ#\f",
      "Ç×£ïq¬mb/\n",
      "­_]Áœü>4^âôÙI“EË£8\f",
      "×\u001e",
      "8é\u0004g�Wec¤\u0014:Þ\u0002\u001e",
      "o6@^u@Þ¼\u0019º˜á\u0014a5™°’Äu~Û\u0003y\n",
      "°á\n",
      "�­¬Nñý¼/ø\u001d",
      "ëQÈ9™DÔû\u000b",
      "c;€V‡‚ÎD\u0014\b›(t\u001aPy³ÁòºVÀ÷\\/QÃ²ìJ\n",
      "LŠ¹\u00135õt\n",
      "È¬i`}Aw-ëžçy«Î›µNôÉb�û£æàjð:a>‘wÎîÆÑ\f",
      "\u0003Qcà¼êà¼¹\u001e",
      "QÓHxnÊÕ§\u000eàúØ\u0003\u0019f\"+®`ž¸÷}ˆ¿~CÌÀNYíÉÈ:t¾Óº=@d\u0013ãøj+’\u00127e\u000fd�aôªcôæÃÕ¥¯)5\u0002>ñ»7»ž\u001f{àd¶!ýŠ�}\u0007›w�¶\u000b",
      "5Ãz™Šc†ýÞ}¶MÛ-\t&ý4_MêÙÆ%šb k\f",
      "«×9Xîùàuéõe\u001bjFL`Ë¸ã´íF\u0002¥“%¶r/ØÝÚMñBÎ0+>áÂOÕ‘t_{\\§¬¡ôá’`¤2ša k\f",
      "²W\u001d",
      "²7\u001fÊîmÒJÄ÷ÖÊÊ.ÿ\u0012·®ášZ¾&æ\u001e",
      "ù”÷ó@]l–Õ†LùŽÜ\u0014·®aöâ—;*�°WB\u000eÈ½Ù {Õ¡{s»²mØš\bk¦\u0013ZèßáÑ5PZPvdað`u3¼ü5xÎXÌU\u0002†ü\f",
      "w²ÍêÅØq–2«ºGº&À÷fÃïuÐ¬{n'\u0018ÅòUöÊ�ëtó/ñä\u0011OB\u001e",
      "¨¿[s0ÁgþFðer\u000fÃÚ]’3E^{`ûBéá™ôriÔ\t5\u0007\f",
      "ßl ¾ê ¾¹\u001d",
      "a\u0003»¼³eÈ �×«Ó‹ã[ûÊÀ—9è\u0015uS¬ç-²Àvu±$<Û]\u0019ï�,\u0001gø„y…Lv\f",
      "×i l\f",
      "ËW\u001d",
      "Ë7·oþ\u001avULŒ�÷\u000f…\u000b",
      "íøk¨©ûª3J®\n",
      "üy\u001e",
      "H‹¹è\\ÝîZI>«¿m©Äšã)Ì¯‚r\u000b",
      "oÅ€è›\n",
      "ÒW\u001d",
      "Ò7·£l˜zÆÌ~a&»s�¶Ã¤aû`�\u000ea\u0011¢+`?Ïã:e\u0003ŒÅ¤Ï.ºðÚ\u0003;3¦`SÃüfW�¨]P\u000e°¾Ùp}Õq}óFñÖ\u001bs~;«0q9º\u001e",
      "Â�|¡}\u0017\u0007AG§ŠµxÈgþÆöe}\u001b4\u0010÷¸ZOùk\u000fœìcÍzbRNº„ùD\u0001Ý7\u001b¼¯:¼oÞHÞ\n",
      "!\f",
      "‹‡.\u0018¶\u0004wðâ|!~\u000739\u0007�WÍÙÏó@f:ÔE\u0011eq—kõ±ÇMfVÑêd‚y\u001ba¹i\u0000ùÍ†òë:ûÝó&îÒ\tÈ_‘õ¯«\u0014ÑÎp“~±e\u0013sÙØÍ\u0005—£3…ûU&¥l©¼2°qÙ¹�ø\u001e",
      "8n\u001d",
      "�*º(R¸Œ£—\u0018�~³AýªCýæMÝ­\u0004Ú³Ÿ9�+³:\u000eÈ\u001e",
      "ÈX\u0014\u000b",
      "d{ÁQ9§å„=Ï\u0003Iœƒ\u001d",
      "ÉlŽ²ºÔ¹)n©”\u0018\u001c",
      "\"\b€u\u000e¡-\u001c",
      "à~³áýªãýæ�Þ¥C\u001e",
      "&\u001blsâ\u0001\u001c",
      "Hí±\u0007òÊÀ;,™e3Í5\u0013yž\u0007²ì�i‹\u0010,m4\u000f«Ù\u0003ç\n",
      "†\bûZã3WŠR4Å@Ú\u0018è¯:èoÞœ^˜=l7ÃžB´ùm€ü‘/î/{Åa\u00052#¶Y�ð<\u000f\\õ|=/ê\u0000\u001d",
      "ÜîVìG,-§UÍTþ-4÷\u0003ôo6ì_uìß¼q½+¬’\u0006ûrÀôq9Ð�=�¸i¼\u001aæÿ\u0010šåƒ¦ýŠEQê’÷ÅºSÇ×;\u000fL7hþÂ.±ì\u0010\u0018õ÷Í\u0001\u00008\u001b\u0002°:\u0002pîGÛdrô¿6¾¸ÎÛ�=�µÑDÒgú~ç\u0007ïé¡\u0000ËÊ³aþ\u0015\n",
      "\u0012Ÿ\u000e¾\u001f˜p\u001fWæ.Ð€ëaÆ{€\u0001Î†\u0003¬Ž\u0003œ\u000fº—-vx:L¦BuÇ§Þ\u0003iå²C\u001e",
      "\u001d",
      ";lYàßâåµ!!²I'ˆ!»\u001e",
      "\u0013ç�‰½dfa\u001f)Zháq\u0013h\u001bC\u0003VG\u0003Î\u0007à{#8‚%ˆµ%ß£÷±\u0007’ÝÂ\u0005˜X(žç‡Kc?°Ñ\u0007Nz!¡ªÃnÚ×yàÂp³Ì¿/çG¸P\u0003qc�ÀÎBºçMçeê\"KŒt9Á\u001d",
      "�ï±\u0007æÕíqd²£ ;½~ëW0Š;–\u0002Ž\u0005³n‚cŸ^\u0004£²[\u0016þ§†é\u000b",
      "\u0001\u00138\u001b(°:(p>\u001c",
      "_v\u0014ÂËët³T×mà±\u0007f¨-%Ë*±{Aö>ðó@‚\u0005é\u0019ÅŸƒQ\u001d",
      "7Å“–Ì\u0018,cÑ…™6Ñ•\u0011��³A\u0003»<‰{\u001e",
      "»\u0010›Üáå¦�$H4Ïšx�\u0014öÂ`)¼æ\u0005%s1ÓC\bfcu2?Ù€‚\u0011:;Ç‹7Ì¢Z¦ÅÑÛ\u0010&g\u0006�àl(Á®Ïæ=�S\u0002^…øPò:»8gÅc\u000f\u0014á¯ÑX\u0002ÆV&®qg>¤à�…±:\u0016•Æº\u0012?Å\u0013ß\"¯�™\u0002¬ÌLÑV\f",
      "XÁÙÀ‚ÕÁ‚óØ…ØÌù�\u0004DÔÉ„Q—\u0010ö\u001e",
      "(ìØ•éÚaÓ�\u000f)¶›\u0018,,ÑÏ,£ÆaR\u001d",
      "Nò•/üpb\u001c",
      "\f",
      "\u0002•eË9rM\u0005Ìàl Áê ÁùMïÅ÷!I[™\u0004]dx Æ¦ü’ª�·ÈÌ…ö)Û}SƒñS|Ñ}òê\u0018eïã×\u001e",
      "ø•ûGœ\u0015ÓCJü\u0012\u0003mcÀÁŽžsÏc—a³¹WÇ\"]ùˆîtxì�™ùÏ�ÕÀl¨Ñ|¶ûF\u0007\u000b",
      "‹×¹ sÎdìº‹œª+\u0019Ô?uòÒ\n",
      "å[@\u000fÎ\u0006\u001f¬\u000e\u001fœÇæËà#”½¸é@U‡‹Üãx 2zÔØ¨\u0010‹Ë¿Ä-mæ:P\u0013¯}²£Ü�qñˆY»…s—�÷\u00112C\u0002‚p6\bau\bá<v\u001d",
      "öÄY“2³\u0007é5ôgMÛwâ O^:[\bN\u001fÝ?\u0010áN6=Sp™\u0015Ö|ví\u0005%^IåÂê”*¡²\t0ÂÙp„Õq„óAú29Mx1&â¶Ý­?Ž°Q¼™Åíçaé�šKØ\f",
      "òÛqFNV²ù�xõœdª\u0011\u0016j›=l6˜\u0003˜p64au4á<v;&(H&\u00063UozÀÛÆÿ2Ü+Ð3L�cy¾›à…\u0013^ˆÂÌ;\u001d",
      "‚Å¹ùÇ\tGáÂgÃúÆ_w„Û0\u00106†(¬Ž(œÇ.Áf½\u001d",
      "k�\u0019-\u001c",
      "6ïù±Ç1)��cfª\u0014—ÆñÌã’5ì\u0000Wˆ«¢íâ,á±]6�\u0018trAä%ÕÐŸ\u00110…³�\n",
      "»¶l÷üÆûÂJd(‘”n|öðçÌE\u0015Ö–Ùa`…®<¢àà‚Ù73\u0011üÇT~õ„°¹=6Œø\u0014Xá\u0018*£D1Ó€+œ\n",
      "XX\u001d",
      "X8Ï]=Ù|•MŒ\n",
      "»F¹\t\u001e",
      "F_�\u0013§\u0006ééØ³~‚[ÒðN‘¥s… >gé¿\u0007Î•a³\\\f",
      "lX\u0011Þ†\u0001X8\u001b²°£GÜó›ñ[oe±Y:\u0017(4°Ó¥\u0017Z8\n",
      "a¨\u0017ât¸Â¼ç\u001e",
      "ÇË°®\u000e|ë.¬¾¢f?�†>~\b¶\\`¦xt�\u0006lálàÂêàÂyî\u0004^\u0016ð\u0015v�bÞ¦¯QÜtaÖ\u0015\f",
      "\u001aµ\n",
      "öœ§–ïq_×ýhÊfÙ¬¼ñ‹tgØ¼)¾¸bY(\u001e",
      "¾Ã@Ñ\u0018¾°:¾pž;\u001e",
      "„éAŒ²C\u000fT©ß…GÏäF ó€(­Ýg\u001f¼0\f",
      "ÉQ\u001bK\u0010V¦¸…W\u0015y\"ž_—¡\u001c",
      "¢2\u0003¾p6€au€á<w4\b&9ÙÞ™Ýl<\u001fz�Ã›)l‚Ê,~ÖÉøW¸õL£g„~«å.ôzf#‹Y\n",
      "ÈÒ°¼ÈÔ¡\n",
      "\u001c",
      "0†³�\f",
      "«ƒ\f",
      "ç7í·AÏÔL¿Ø\u0018‹\u0000ífØŽìî0rHe”ì}Q\u00072Œ«‚*\u001fCpJ&Ÿ#5O\t9i§8â˜xÕÃ\u0010M€\u0019Î†3¬Ž3œçÎša7�™WCøò\u0001çú\u001e",
      "Ç\tÂî(ËƒñÃ±°g¸å\f",
      "´«¬”h:F¼æž'\u0007\u0019\u0013+\u000b",
      "‡Ðè\u001d",
      "Ž&\u0018¨\u0019\u0003\u001bvWÒ=Ï\u001d",
      "\tâç°.D±X§ÏÞßt`¬QŒëÐ�L¹pÝ%ó¼ä\f",
      "Ÿˆ×ýNÑs3<)Èt±ò£NZ!Ñ\f",
      "\u00039c€Ãê€ÃynYÁÖéTÇIûÈ6\u0011ý±ÇáÍ°}tcîPö!¶y©\u0019NŽµ¸\t¦‚Ï;Ù�“ÛÊ¡Êì”M\f",
      "ÐçùI€\u001c",
      "\u0016ƒ\u001c",
      "v±¼»¤ã)É«\u001b1;ódç…œqXË“hT,»‘\\€÷)érÑ@sÂú#7\u0002F­=eÎ\u0003\u0019=_\u00148¶\u0002\u001fQo1\t�Ãb�Ã®Õì]ÒV\u0015Ì\u0002f°™5É.\u0003ç±Çñ²'m8c#R„X›BÒå¡Qý\u0002j\u000eö¼²kô<�`9\u0006-X®ÿƒueføYÎˆ�\u000e«ƒ\u000eK:ªB™EÖ!l{\u0017C<ã\u001aI­™\f",
      "¯Å\u0012¶¶½\u001c",
      "è0{\t0Ö’\u001bû…~x‡rÍ°\u0010É4V\u0007õh‚ŸÕŒ\u0018è°«x¹Ë›ý;x‡“ãÍ\u0004%×¯î!\u0017sxâüäQ„{<ÙpÝS\u000es¸\u0013â€—Ø+;)Y'Çë<�et«Ù­|\u00116¢\t~\u00163b¨Ãê¨Ã’vÖ.–\u001e",
      "™ØÄêàíØsT.ê0\u00047^\u001e",
      "Î#z²­Õ$é[ºp%íšä\f",
      "—kþ:Ïci&\u0016(ŒÂLvXpÕK@\u001d",
      "\u0016C\u001d",
      "VG\u001d",
      "–´svSc#¦\n",
      "uLw·u]ÈE\u001d",
      "žE™’\n",
      "«\u001d",
      "–¸?fêy…º ‰<#\tTq3¼âNDƒWÚõ5Jø–\u0000:,\u0006:¬\u000e:,oöï Í´RB\u000b",
      "ûÕÚœâ‡\\Ðáeß´Õ¼ªÙD«§¤«\u0002ªV’h\u000b",
      "³M›\u000b",
      "rŸ\u0007\u0012íH\u0003“¬›¸‰¡\u0004Ða1Ðaç7»KÚb¦OÖm\u0015†GÄµP}ìq”™•\u001d",
      "žX+•ŠsæË¡\u000e—\u001b£XlrÄ\"\n",
      "—Qóíƒ\u0013c\u001a+JÜC¬²\u0004Ôa1Ôa\u0007\u000b",
      "¼KÚ)Àš˜\u000b",
      "¹r¡qÖXÅ½Çñœá×\u0016B�‡kg(éJ\u0015nDc\n",
      "Y­ÓQŒ_{ L”L\u0006\u0019ä\u0005S–Â{â³–\u0011Ã\u001c",
      "VÇ\u001c",
      "–7ú\u0017&Ó\u0002�AWTÞrþ\u001c",
      "=®\u0019V€CyHáoîæwµO «‰Y­™Ä\u0016ëÇß\u0003çÒ2d�\tË�\"\u0017°\u0004Èa1ÈauÈay£\u001bô6¥?ïúš¼\u001c",
      "Ýã8ÁÄN±D\u0010iv„L9Ìa,ÑÁ”•ÙW3\u0002·DóN\u0013VÒÝI2ê¹µ¨\u0015™\u0004Èa1ÈauÈaÉ»\bi5!d\u000f9Véø\t^-Ÿ\n",
      "½2°M`È¹lvÉW’0l0\u0006Ê`_ùÎ\u0014¯=\u0010\u0013Äõ[\u0019…!ó(¼(\u0002Þ°\u0018Þ°ëø}—¼Áxd\bâ’ Éi¸Pàc�£Ì¤_�û…M“ý+”3C\\­“j”q,+Ž^{à\n",
      "•c=àd›\u0012\u0003@%À\n",
      "‹Á\n",
      "»¦ÐwÉ;W\u0017V\u0004\u0013\u0013x�–l\u0003|�=n¥¨ÓÝ‚K\u0007£l˜õ¹Ç­t(Þñ‰Á‘Ò�Ù»\u0007²‘\u000b",
      "Yaš\u0012ÏR\n",
      "\u0017i f\f",
      "lØ•>Ü%\u001f.\u001e",
      "Û\u0012.\u0017)Ãwî.Ìåš!ÍcÆ4øÕÝ\f",
      "¯<\u001aÖo$M\f",
      "½¹ÔÝ×\u001e",
      "8n\u0010úÌr¬Ø%4€£\u0019\u0006rÆÐ†]Ùñ]r=‹…\t£ì\u0004Ò]BÛ\u001e",
      "Å‚&¶GK$CôêÅÌf\n",
      "¯î°í«~Z¦«7}]\u001fKÐpMÂnhyD>n\tXÃbXÃêXÃ’·š\u0011\u00162áð\u0018S|»ôÇ\u001e",
      "G‘B\u001e",
      "a‡q\u000f«Þ%'ìqëœa\u001f7®†ÆKÑÍpç\u0007Kg¡Ñ¤â®\u001aïÂ@Í\u0018Ô°k—v—¼Ót\u001bc\n",
      "Ì¶†xœ.…f�cOâ±^Nbi»Ë/ÙãÖ9#ìÇ),š©Îs!ù*|*¤Ù\u0011”Î\u0006\"Ñ\f",
      "\u00035c@Ã\u000e,s—¼‰1,tîd7­\u001e",
      "™~†'Ô„\u0015ÊúùÁÈ©‹‡Êá\f",
      "×Û‚ÏÑ¼ÂÿØÄ„=Žå\u001b8g\u0006«;\u0013K\u0017¢\t\u0006rÆ`†Õa†å\n",
      "û%RŽ¡#ú­™Tî\u0017é‘3¬ÙM\u0014 «-€›à·jn]\n",
      "æ\u0012Ùº\u000eÞ*ß°ÅøÁ”¢®ÇhS\t(Ãb(Ãê(Ã\"'GwàÂe©c\".ßNð=ŒÍÕø…fâû\u001e",
      "Îû$rùf\n",
      "ö\u001f©Å8½>Ü…rªÃ\u0013¥\u0003›¨Ðg\u001e",
      "�3\u0001cX\f",
      "cØu\u001e",
      "¹‹œb¦Á{ð«\u0005FrIP{\u001c",
      "k´iÜ°É2öŽ…Â<÷¸Õg®uV\u0018ÔNw�Û…rr�\u000b",
      "\u001b¥1ñŠ`ÌHÏ\u0004ˆa1ˆauˆa9 ßÉ´€\ts�œ|gRlÀ0¯.\u001c",
      "´$�±>Ô\u001d",
      "3r¹fx[®*\u0011|ªk¤w\u001e",
      "È€¶Ð\u0007Ljk�:^I@\u0018\u0016C\u0018vx§»ÈV\u0015²úÛkažasÕ2{\u001c",
      "gHuÞÊ¤Tq\n",
      "“ö¸•”ÐóW\u0002\u0000Lw—4»\u0007\u000ef¨&–î3vš#\u0017°\u0004€a1€au€a‘\u001d",
      "i\"�‚`uö\u0001ìÞý´ùÂÜ®´ ÇWº¥›àV3“<Va\u001b$âõì/öÚ\u0003y¾ÁF¡¯‡½vÂÛ>À\u000b",
      "‹Á\u000b",
      "»Ÿü.oÈ/®8²ã™U—*«ÆÝ\u0004OæL'†�t'r–ý+¼œ3ìPIê)S\u0013üAz>\u0018·\u0004–Maïøù½\"ÐÌ0Ð3†.¬Ž.,²\tx“TšÌûžE\u0011~‘¶ëœ�\u0005ÇŽÚ¼ÁÜ](W¨)±êkqlz±‘æ×\u001e",
      "È\u0010×d¡Bf6ë˜‘ž\tàÂbàÂêàÂ\"[Ïtú\u0010ˆÜN\f",
      "ð¹\töý\n",
      "\u0013]™ä“¯Þ—n‚ý¼B¶Zƒ¼€1Tœ)ýÚ\u0003éØ«$\u0015\u000b",
      ",äVC9\u0013°…Å°…]ƒ™»ÈvÎ0@M0þX­\u0003�Q±AÀs\u0015\n",
      "²Ÿ}¢÷Ý™¾r…šØ´c\u0015b’1ì/ÃCÞcÅá(L\u0001ÿ¡TØÌ0Ð3†,¬Ž,,²ë³Ù,šõK…\u0019�Ž\u0019±ÇIb&3m¸U�æ\bC{Ürãs‰*‹�æ\u0007\u0007›l¿\u0010oÌ–WÃP\u0016P\u00053\f",
      "¸Âb¸ÂŽæ|\u0017ÝåÙ°á˜+W©\n",
      "]šå\u001e",
      "¶Â¡ø>XO…<6w\u0019ê¥g˜ÝNzKb÷gwÎèvÏ`Ë3í›ñ�–BË7€\n",
      "‹�\n",
      "«ƒ\n",
      "‹îX\u0013Ý[‰Eê�6šŸaÞ3ÄÕµ\bÙøVž�¸Ç-IÊnÔ“íõ´8üõ\u001e",
      "8V\u001e",
      ")[Ú�Èø½I½™a g\f",
      "SX\u001d",
      "SXt\u0017\u001c",
      ")ë–;;þ²€Þ�¤z\u0004\n",
      "Ûýà¸åOï‹\u000e÷¸õ\u000e\u0013yïl™§Ž’ýÚ\u0003y2/\f",
      "\f",
      "\f",
      "\u0015ÆÓ¢\t\u0006zÆ\u0010…Õ\u0011…EO¬‰X.\u0016UÒ)m=q�=n%5eæa¥^«}ÓÏ=l\u001d",
      "¤½±¨ˆ\u001d",
      "h¦\u0003__Ÿ\u000b",
      "Ó„ª\u001bF$\u0013k£»0à\t‹á\t«ã\t‹žX“°?E!{\u001d",
      "'�»*Þã„h\u001aRhñKÀ0t¨]Ñ+s†UÒ�\u0006\u0018‹;Å\t¶óÁdÂ²\u001bÄ×]\u0018îÂ@Ï\u0018œ°‹ùÜEw°‰—[a\u001a ò\u001c",
      "uÁ&=z†}H”ý�h`¹Û^¿é™N(Zb3ÅéÊ\u000eäÐ‰)dx§Ð¶ÏQ/(\t`Âb`Âê`Â¢Û?£m5bÄ¯ÈÝè<Pz2�sÁáÈ³�A\u0019¿J¯L`\u0012¢X¼„küƒ\u000fQ�f2\u000b",
      "‘d!¦Î„ï0Ð3\u0006%¬\u000e%,zéŠD�mã/îÝ3zZt³I\\g€Œž\u0000w\u0017ê¥gòz7ÄÚg\u0017Ÿ{É\u0001\tcr\u00136¤`†øÙÂm\u0018è\u0019\u0003\u0012vÍßîr€¾”WÌ\u0003aÒ±s�=ö¸•®N\u0004[fñâ\u0003†z\u001581\u000eÓ\u0019ô],W7Ãñ¾íÛÄQK^4£ß%Hu–€$,†$\\\u001c",
      "IXtûg\u001a\u001b<´…‰j®mêc�cj!í\u001c",
      "b£aèx'¢^þ™LO÷\n",
      "U0›ÏÍp0~1šW•µ6a2·\u0004$a1$a'œîRŽ®ÀÙ!ìÁŠ•âRï\u001e",
      "{\u001c",
      "5)–òê\n",
      "0i:Ù\u0019–KÐ$ú\u00063;\tø.Å¯ëƒYJA_�TfPGÛ0\u0000\t‹\u0001\t\u0017\u0007\u0012–²ã>_\u00178_\u000fW¡3\n",
      "Ë\u00114„²\u0017ÖÞ\u0017–f¹\u0019^\u000eš¼\u001c",
      "¯,<\u0010—áÿÚ\u0003\tAÇ5ŒÛ¿*“2£}\u0018p„Åp„‹ã\bKÙ\u000eš¼`GLud�Ù]‡ïq¼,\u0006kå\u000b",
      "5uõá˜òÍCS™ÏÈä[qyI/9\\â^q”RÀÃ,\n",
      "s�%À\b‹Á\b;Òí]Ê\u000e8%’ÿ\bI&\u0004Ð¿B½\u0016)½™4ä|>ÕS\u000eD¸Þ˜.Ö[_ì0gú\u001e",
      "(1V\u0003µ-^öj\u001d",
      "\u001aÍ/\u00104†!ì \u000ew)ÛOÂzƒÊˆV%‹ÊIÒrR�™º<¹kØœË]†åJž\u0019\\1+\u0013¬7;ð%\u0017“˜¤a\u000eÅíSÃÔ‹\u0000!,\u0006!\\\u001c",
      "BXÊŽûTbè*ï£V\\ÝÙc�ã]A¶¡à eÆ¬;I\u000fA˜dÖU%±\f",
      "\u0010ïcÛ\u000fÄÑŒkpN^õ)¬£”€ ,† ì˜cw)[Ð\f",
      "¬§!¬ydY…³}Ë\u00114Ä*6¬»²øín†í¼C\f",
      "\"Ú&Óãè%ÛE$f\">sgØÇw†wE h\f",
      "@¸8€°”\u001d",
      "÷a¯\u0003f‡öU“íïŠ£h\n",
      "›\"%¶hÆzö«ô\n",
      "8áp„zeý“|H\u0010*§f{uHYmOS\u000e£\u0015\u0001?X\f",
      "?ØÕ\bÜ¥œÀ\u000f\f",
      "9æüã\\k¾÷Ã\u001e",
      "GÓ�íeW³£îº‚<¥\\ù3¹\b“»X0ëºž½Î\u0003…ù*¬Ö^µÁ¡£4à\u0007‹á\u0007\u0017Ç\u000f–rJ§™©¤L\u0013\u0018t\u001e",
      "¹\u0019¾ÇQM3mwñh\u001c",
      " ä)‡\u001fLª4n“¹\u000e]\u0017I~É\u0005$žl\u001fÒ\u0017Á'G|/\t\u0000Âb\u0000ÂÎ�p—o\\à‘Ø÷\u0006ß»»PÒãŒƒ¸c\u001bx(jœ\u001f¾ˆRê…£aurŸ‹\u0016äøJ¯ó@¢ÓØ \u0018wa+\u0012ž4\u0001@X\f",
      "@¸8€°\\\\à²:/\u0015¶_õáŠz\"NÌÇo¼\n",
      "33kÝ\u0004/\u0018\n",
      "�QZ\n",
      "yæ\u000fáŠý@\u0012]èld\u0007\"œÒá+\f",
      "\u0004�á\u0007\u0017Ç\u000f–ƒ\u0005†ÁN\u000f¨2AÞ5Ø~ìqœ!Ñ\t„t®î�n†ß0{•]Ü3‹+¦ã_œ\u0007b†\u00032Ÿ\u0015ÝË‡\u0019Í0\u00104\u0006\u001fìH±w9\u0014_HÍ”qè\u00156¢t9ù{ÜJ¶\u001fD€\u0011cb°§Ô+�¦b\u000b",
      "NžÞ«{œ›àûyD±W6N„%ùC¦¤™` h\f",
      "=¸8z°|§\u0002c«óNd“)wÎìqŒ..ÌIb„ß\u0011=å\u001b=xñ‰Ê˜ìÜió>^ç�åÆ¤ý…`\u001a„_E3\f",
      "\u0014�¡\u0007\u0017G\u000f–zj¦Y Àà²Â€qÜÙ3\u000eçÌZvÂŒEGlÊ7x0\t�ÂŽ<‰\u0006§›aÝ‹4\t›¾\b\u0001Ee†ï0P4\u0006\u001e",
      "ìâ\u0010wy3|ó\u0002>Ô´juÈ\u0006v3<!'å}ÏÐ\n",
      "Ý›Î®ø\u0006\u000fæ¯\u0005mÔGò=\u0016^ç�«…\u001e",
      "]˜µþHà53\f",
      "\u0014��\u0007;TÀ]êUe„“ŸÝqÈ)¶‹êqÆ1_\u0002Ò€\u000b",
      "5é\u0007'Ô7vp]@pLrz²î·Ï­Ü=1B5£†�\u0012°ƒÅ°ƒ]¹Õ]6Â\u0017\u0007\u001a­\u0017\u001c",
      "ìcôb« \u001e",
      "g\u001c",
      "#7]’²\u0011\u0000\tên‚— á/ µ1¯ª:ÌÎy Ö\u000eË¾™\u0006•¿—�š\t\u0006zÆ ƒ‹C\u0007Ë\u001bà»XÆ88\b…èŸ\"Ûõè™ÕJžün2çý\u001aÝz&“Œ%«s;]QN“Ö£gÈ5¥)Í*ãp†\u00019X\f",
      "9ØõH»Ë›ß‹\u0019òù$^`\u000b",
      ":tÉ\u0019F9“aµ³\u000f\u0000ÛkÙ\t\u001e",
      "n0ïBœZ\u0004ËAåÚä«×y ö\u0006ì*6\teÖJäŸ\t°Áb°ÁÅaƒ¥\u001d",
      "UAÏ\u0012{XŽåVw\u0013Ìg‰6b�Ê‚5;Î¼|£\u0006—Õ£‚7\"{Tº\tž\u000f.t†°]41°ÑM\u0011`ƒÅ`ƒ]™À]š\\3dþ\u0005éMµÚD›Ç\u00197olñÄ\f",
      "\u0013rP|¢Þ¡\u0006sÑ'i•;\u000b",
      "v²³\f",
      "÷\u0003¡Hqdá\u001ad_ˆ\u001e",
      "µy’€\u001a,†\u001a\\\u001c",
      "5X6\n",
      "˜Ù­XzPN¸õ³wÐ´CŸYÍ|HÞb}µ;f¾Qƒa\n",
      "‘IÛHLði^×\u0007³žB\u0019¿O­…E†\u00015X\f",
      "5Øù¦ï²aÀJ¤³\u000eÚØ\tÿqÖ};\u001e",
      "š¯lÌu{¹–¬OiWB0–1;­\n",
      "Â\u0006­R|}û`&±Â>¦\u0015\u0016\u001f3�œ1Ìàâ˜Á²QÀõFF\u0019[W\u000f¶þq7E;\u000ešÄVŒ\u0010\u0004cú¶¦O9È`\b±Ò˜l\u0003“©xƒ§T\u001bÓ›Ø®\t[Pãs&P3†\u0018\\\u001c",
      "1XÚ)[bÎcj\u001d",
      "o¹fWŒ~Æ±Jˆ%¢« LìæzJ»ü3‰†BÇ=1Ø*ÒÍð¨\u0019nÁÑØ¼µŒÐ¨\b€Áb€Á®Óù]ÚIô%¸€!\bšgŽ¦{Æ\n",
      "l®Ô±”\u0017 Æ¦6>¥]þ\u0019\u001c",
      "\u001d",
      "¸ßp4¯Ø¯›a¿Ö\u000e\u001d",
      "ì‰­ƒ¿÷d33\f",
      "äŒ\u0001\u0006»Dß»´‹)ƒ“ZXLÀ.…~†WÄ‰%!…îTùà'=¼`\u001c",
      "\\]!} ‘È,ó«ô|p!LW¡\b`¯„e”\u0001/X\f",
      "/¸8^°l\f",
      "0‘ÈÐÐÌ\b©\u001fê›Ú©ÕžÌlŸuÕåú€S»\n",
      "œújSÎôÍäBê¯ó@V²‘7Â�ÿIÊs€\u000b",
      "\u0016ƒ\u000b",
      ".\u000e\u0017,›\u0002Œ\tÒäeZd\u001b¾!à\u0019Ç\u001e",
      ")}51†-'\u000eë!ý*p‚éH\u0007\u0007kÄ›Ï/éGGá¸\u0015¦D°YY˜\u0011\u001c",
      "Ð‚ÅÐ‚‹£\u0005K?P™uð±\u0000@Ruø 3Ž�nH\u0004bj\u0013¶£»î\u000f,˜àd\u0002Ý‰\u0001oâ\u0018Wç�l\\Â®,2)r£]\u0018°‚Å°‚]$ú.\u001b\u0001Œ\t²Hy°W\u0011o|7Áãža|ˆYë… \u001a\u00173Ü¨`,fö\u0005‚la;@÷Ë¾ä\u001b{\u0018v1‹*úbºF3\f",
      "ôŒA\u0005\u0017‡\n",
      "–~\n",
      "—:½Ü8Ê´û˜üãŒc\n",
      "\u0006Þž0Yc~ð!\u001e",
      "Rp\"�„Iq³’Kçlû\u000b",
      "=ÜhñjYeo\u0011?_\u0002R°\u0018R°kÆ{—~ü.y²8¦´%´ü\f",
      "Ëž!ä\u0000¾:7¢ËÝ|îa«ç8³b\n",
      "Þ\u001e",
      "Î\u0010o6õ#g–£€Î™2r\u000e_a g\f",
      "'¸8N°ôãv\u0019]ñJØ\u001bSœ¯ññm\u001c",
      "V]ƒù(\u0005æ¸×3\u001b\u0013ÌÄ8ü\b5áf\u001d",
      "ôÓ¸\u0019\u001e",
      "AÓtv²\n",
      "…d‘p\u001b\u0006‚Æ`‚‹Ã\u0004K?•Kä•th'²-?œ3W…Ódûf6Í!¾ÜÍ°�E:™b<'¤Aõ=€Ï\u0003Ù\u0019Œ¾5šÝ-‡\u0015é\u0001%X\f",
      "%ØåeÝå‚ÿ&æ\u0010,žžKP{œaø!\u0018¥€2g\tžEó=÷¸ß0¯–²�ecl`î\u0017é7÷\f",
      "^!\t^Rs\u0018÷\n",
      "\u0018Áb\u0018ÁÅ1‚e³z\u000b",
      "É\u001e",
      "ƒ)^½V§]\u001fr!‚©Âx2ðk¹æ\u0000r\u0010Á‰\u0019+\u0013w^©°6ý1sÜBÌ²lì×Æ¦\u0011ám\u001fÈ\u0019Ã\b.Ž\u0011,ýÈŠÙp)\u0011áÅ»ÂOð$Ð,\b\u001b#\u000b",
      "lkíwáåžÉ¼X\u0007\u001b¬©«˜z�\u000f†½VÙIf\u0012\n",
      "\u0013¿Â\u0000\u0011,\u0006\u0011\\\u001c",
      "\"XÆÑ3,&PÆs½/õq†\n",
      "\u001e",
      "�‹¹GÏ´kë$ãŠ6±o\u0015é-l\u0017h“>^rñ�YfH·^«\u0012{ò\u0003>°\u0018>°ë‹y—qä\f",
      "}‚ô¸p~Þ\u00015Žœ¡cžÕuL½pzíÐ�Ù#\u00187\u0000­vRWÝ&\u001c",
      "‡=SóÊI¢uÕB'p@\u0007\u0016C\u0007vIæw\u0019r�2“˜ÛAæ–\u0013¤ãòÎd¥G\t†Ý§ºƒÍ\u0006^=HÈAakšá\u001bÿÊÅ\u0006^H¦\u0005Žø¡¨ÏL0P3†\n",
      "ìì½»ŒKÍ\u0010\u001c",
      ":™>#Î÷ù�ol`r‘j†­S]bãs�ûj$Ó˜Î\u0001%�ŸÃ¯ÑÓ÷ â\u000f¼ÃÄ2ð°²\"`\u0003‹a\u0003\u0017Ç\u0006–qAeð^p\u000fŠâ(umåB\u0003óîž²RµÓ‡]xygÒ\u0002\b\u0013A#ÎáÿÚ\u0003™0@H÷\"²C¦†3\f",
      "äŒA\u0003\u0017‡\u0006–Mè-,\u0000è�-Å\b>rñ´�\u0010fá\u0001Î\n",
      "¼AÜfÃjó§ŒË=C\u0012.y/�‘rwÙï\u000ff �vS[U\u000f‘^\u000b",
      "ÈÀbÈÀ.Oç.ã¸g”õ×\u0019&\u000e\u0004¤'@íqó\u0006#5�eù–é\u0015é¸Ü3|q8f¸ Üj~�\u0007¦›fÒûVoê\u001e",
      "²Y\u00022°\u00182pqd`Ù€^vøÁ\u0016ü:EœúxœqtÏ(].<=>¸\u0010Çåž¡\u001c",
      "˜lê\n",
      "sÏ5ª<\u000fÌ7¦\u000fáòaoÙ\u0016&“\u0006d`1d`—ñx—qd\u0005“ºI\u0001H8A>\\\u0015cŸ¸šðµÙüt8\u0018ÖSÆå�a3\u0013,?*Àê\n",
      "ßës±\t•‰ðeý\u001fÑ\u0004\u00039cÈÀÅ‘�e\\I,«\u0018\u0015Ç?Û\f",
      ";£â\"\u0003ÃJe|}°XÇÛ…ã›{¦\u0013\u0002ˆ•/\u001f˜¤ç�z\u00136:ƒì‘4K˜§\u0017 �Å �‹C\u0003Ë<Q\u001f\u0006•\u0013c�µ}Èž™GÏðgXd–ékÞž{ÜêË1˜kÏDrr@ì\f",
      "÷\u0003±v(c6j(š` g\f",
      "\u0019¸82°Ì#+XÐ©dx11Ë\u001d",
      "¤óÈ™LÂAeùº8ˆëSæ·zm\u0016ƒ°‡ÁÔéË™ç©×\u001e",
      "\n",
      "XØwì\u0007,Œ™a g\f",
      "\u001aØ\u0015lÞe\u001e",
      "]AlUf\u0007ÊIaáfxê›È‰bà-1\u0007Å]\u0015\u001b\n",
      "ÌÕÌ6\u001f•�!Kr­\u0000Î\u0003¹v ‚g[He‰¶a€\u0006\u0016ƒ\u0006.\u000e\n",
      ",óxIè> D.1•Í¿Ã“=Ãd\u0003™t¾³g�›¡žm¸2‹\u0017ò+\n",
      "Ÿ\\r}pc\u0002<ë\u001e",
      "˜Û\u001e",
      "Î0\u00104\u0006\n",
      "\\\u001c",
      "\u001aXæÉb\u0011Æ\u0014°P™\n",
      "âàÇr±�YC£}qv’7}\u000f\u001b¸Ýè&P\\‡0ˆ<wõ<PØŽ‹V!Yù#j­\"\u0001\u001bX\f",
      "\u001b¸86°\\ˆ^’|eµ]Ên=Î8Ìpõwd­\u001e",
      "Ë±Ý\f",
      "/AÃHZÇÏÆr¢\u000fûðäí°½#K\n",
      "‰3¬Q8&`\u0003‹a\u0003»\u001aŽ»Ì“>CÖï {¾7ñ9^›\n",
      "Ì\u001e",
      "!­&vF üÇ]\u0016óR4d™qÁ³\u0011…ë‡ûíƒ™\u0019¸Êîå?)†\n",
      "àÀbàÀÅÁ�å‚ô\u0012ÙÑØ\u001c",
      "½à\u0012s²{Ã�i´'¶”�l¡îïŠo\u0015NmåS¤Áh³»\n",
      "¿Á�™\u001f.m²A`˜ñ\u001c",
      "À�ÅÀ�]ZÌ].F¯’\u0013ØXÇKÔ�›à�\u0003/ˆË\"U6‡ò~Ê�\u0003/ªYÇµÎ¼\u0003×põõíƒYîŸ`^‘'\u001fÂÊ\u00028°\u00188pqp`¹(½J€!\u000e4v×òU÷óªpÂŠZÉ\u0004¸ã<xõà�ç\n",
      "öz¢�Â$“\u000fïð\u0010hØ«¯²ÒKHçýa†\u001aà�Õà�‹Ã\u0003ë7J/ïúN@\u0017ÓæÌ\f",
      "õÂ\u0003³?ƒ®Â¹–]ÀI\u000f\u001e",
      "˜·\n",
      "T<-‹áš\u000e½ö8Ø)ÌÙé\"+9!X£\u001aÀ�ÕÀ�]kè»¦o‚\u0006×\u001b[´O¦\u0014¸ù]\u0000\u001a–Í’iQ›Ë.~ê78pf5\u001bs-IÐµ.¶=p�‰ˆ_´®\u000b",
      "vFýð4€\u0003«�\u0003\u0017\u0007\u0007ÖÍèÅeÈÄ\u0018‚\u0007Èc²\u0019Bú\n",
      "\u000e¼Fa¿f‚ÑÝ\f",
      "/A“aJ�J�'Õþ\u0014¯=°/\u000fÔj\u0017@¸OtUh@\u0007VC\u0007.Ž\u000e¬\u0017ö\u0017‡µ.äÃ$\u001e",
      "ÝÍðxr\u001a; AG\n",
      "iìv\u0017jº\n",
      "œ\n",
      "1 ƒ°šáƒ\u0015{`cR>1\u0013B4¸DÙ²\u001aà�Õà�‹Ã\u0003ë…ý­t\n",
      "®J×ârD\u001fßÆ±f„�H…•\u0015ÖË¦é\u00124s•·³ºv8ÇÉK\u000f—8³Ée‡òaSžè®Ð€\u000f¬†\u000f\\\u001c",
      "\u001fXÓñÐ\f",
      "v\u0017#C—þM¿\u000fOúîê÷³Ê\f",
      "q¤ZQªßøÀ¬\\bél%dÜ\n",
      "\u001a=`b\u0012î˜ÞÉ|ë\u0012eÐh\u0000\bV\u0003\b.\u000e\u0010¬é\u00124�érëÜ\u0013—©÷mÜäª[©µ˜«õ²é7@0ÛLÃjÊì\u001c",
      "c7ìK\u000f™˜17–ÇA�N�WégA£\u0006\u0010\\\u001c",
      " XÓqÑ°%\u0006\u001b_³HÍ¿Â3Œ¾|¶\n",
      "go>Wu¯é\u00124ìkÍö[ÔGÖ\u0014{í�LW\u0019«ˆº¶UT\u0014Mð³ QÃ\u0007v~„»¦“–KmÕYbÍ\u0004^¿\n",
      "O¯¥Æ”ZvZKµ;G©¦KÐ°…që+^ñé²8\u000f,�F¼'¤Ï�î¡\u0001!X\n",
      "!¸8B°¦+ð³ŠÖI\t\u0015u\u001d",
      "pÏ8\u0002âØXkòV´ÆôS\u000f!˜eü²’àÙÖÇnë×·çu¬Qf^`ñ‡nD\n",
      "\bÁj\bÁÅ\u0011‚5Ÿ<\u0016â'a\u0019\u0012ó'\u000eMzÆ%Ö¼ð4\u0012&Öº˜¡æKÏÀT ë…ÝÂÅQ\u0011÷@\b\u001a\b#¡õH\u0000f�îû€\u0010¬†\u0010ìZ_Þu£\u0017K\u0014‹$‘$â’%\u001e",
      "g\u001c",
      "Û€\u000eÒ=zfÂ”»ïsþ¶\n",
      "\u00193¤‡0ù\n",
      "®o\u000fdKîÄ\u0004\\œF‘³[\u0003D°\u001aDpqˆ`ÍGÑŒ¾úï4&êY#ùqÆ­–Ã¬nbíjþ0ÃKÑÐ‡SX\u0015VqU¸Uz=\u0010+‚ÏZM‡Zt\u001b\u0006ˆ`5ˆ`\u0017¨½ë7ô/›ž1I\u0000ç¶+<8ã2¥\u0018Ýš\u0004åÙ;î©‡\u0010ÜnÂnÕì\u0015Ž/î`^çyé†óe°I®®\u000eUÑ\u0004\u0003Ac\bÁÅ\u0011‚õ\"ÿ&–1fB�ØôÀMð8T\u0012yìì‚B}à&xé\u0019VÄ±«(9Ü6åèužÇþ[SY„»\u0018oA\u001a›\u0006€`5€àâ\u0000Áš�žét_wv\u0012o.=íqÆ%æËVúf\bœwMG4Ó3ü)Xu >CèÛó˜ØØ\tO€�/á&\f",
      "äŒ!\u0004\u0017G\bÖ|ÒXÈ:çV �Û&‰>Î¸Ìƒtà\"d²ý°\u0005aOÍ\u0017�\u0006+\u0018¬N\u0006ÍZš¯ó@Î0'’„'Ù\u0017á\u001a\n",
      "äŒ!\u0004\u0017G\bÖ|t\n",
      "SyØt\n",
      "¢\"9ÒÕ\u0019G×4Í\u00002âRrÝà5_z&}!\n",
      "`Ò\u000e×~åµ\u0007Ž\u001b4\u000f{>3\u0015EbÃ) \u0004«!\u0004»Ü¦»æ“@Ó\n",
      "íÔÂ\n",
      "]µïæqÆ‘V¶\u0012·Ø´Ò¥,>5_z†u^tø×æká_z\u0010ÁÌ`ÀµS\u0012\t&\u0011'I\u0003D°\u001aDpqˆ`ÍGÏ°€\u0012+\u0005–6^¥ŸáÑ\u001fÜY°˜V¢†ó“ê7D0KÙ`.àÆdz“›áU)ž±ði=�š¢ž°\u001a ‚Õ ‚‹C\u0004«\u001c",
      "AC¯æÀûcœÖ:^\u001e",
      "z!}u®k‹>\u001a×\u0005é©ß\u0018Á\u0010<�)<gH!°3”+Ö¥+’ÌR5‰‚j\u001a0‚Õ0‚‹c\u0004ëFõ²�&¡?£rÓ¸4¯=nÞxj4¨:ÁÖq¨š§~c\u0004ã$\u0012V×VÈ6Wî{>˜Ý`pã\u0004`~t”b¢\u0001#X\n",
      "#¸8F°Êq½\f",
      "\u0006l”îØì“hö¸/²6.Â†\u0015ß†wBÉ%hØî\u0016\u0007)k{ªõj½Î\u0007\u000b",
      "sŒ\u001bQ×)ãèŠNš\u0000\u0012¬\u0006\u0012\\\u001c",
      "$Xå¸h\u0012;øµ•!ãÊ‚\u001f{Ü¼aï±èŠî÷êã\u0015z Á,íÆª \u0003†÷§Ÿá‰9-\u000f\u0000¬šÌèat[\u0004�`5�`×[ë®r\u0014Í*�ILãeúª›áÎya'\"ÒR!D’[|OýF\tž„ ³Ôu¥¤¸\u0019žœ`X\u0014tu³�g\n",
      "ÏÒ€\u0012¬†\u0012\\\u001c",
      "%XåH\u001a\u0006Pè¿`“\u0013×™c�\u001bLEaüž¥KÙÝ¯O=”`r\u0003qêB\u00190ñÙ!ZÎ\u0007ÓËÞ™Ô\u0001¥ÑR”  \u0001%X\n",
      "%¸8J°Êq½0S§3a1ÓÿçfØö*%L‰�ÝV«P¿J/J0c�ìíN¨ž7,ö\u0007\u0013tÂö[Ì‚o\u0011\u001aB\u0003H°\u001aHpq�`•+—…é\u0012¤­3\u0013Â/ÒÓ\n",
      "›Ô�D/[ƒNw\u0017þ¡\u0004\u000f:µ\u0006\f",
      "M\u0002Ž«Mdx�\u0007²S\u0010ƒà•Í�S”Pª\u0001%X\n",
      "%¸8J°Ê\tý°@EØ\u0018–<(ç„’£@„\u001d",
      "ðVœ¥'GJÒC\t&Ó‘ùi‰ÎIq­ðÎ\u00073\u0019™T:V�Ç-Ò5 \u0004«¡\u0004\u0017G\tV91'òÎ1‚õ\u001e",
      "~~;@´N\u0003b�*\u0013+ü&¼\"Nx%4k+±§\u001fæw))ˆÄ<qä¶Þ£¾¾\u001a0‚Õ0‚‹c\u0004«^©¹‚]…C²âˆwzF/=SWcŽÞa\u0018Yƒè¹Ç±q1áu:—\u001bØ\u0017�œ\u0007\u0012‘Á\u0006ÀÌæ€É\u0019½À€\u0011¬†\u0011\\\u001c",
      "#XõÈ\n",
      "¶AmÌ\u0016%ÕÝ�2\u0007é›ÉJ%\u000b",
      "¡kr\bÌ§\u001e",
      "Fðd¶¶@ áŒaÄÌÍð|0\u001bI0v³ÀØ‘#8`\u0004«a\u0004\u0017Ç\bÖÍþÍì×XYx\u000b",
      "\u0013Øù%\u001e",
      "{Üê(‡\n",
      "ƒŸ»@ »T¶=Ž\u001d",
      "Ò±\"p át¦Fò3<µâ¸\b3e«®`W4Ã@Ï\u0018Hpq�`Õ#+Øí»`å±ŠÄÛ†\u0017L¸\u0013:Ïû\u0010\u0017œË·ÔC\t&Š¶¶E†P6‚p3¼’w˜j]i{´ï'³™a g\f",
      "%ØÑïªÇS\u0002s\tz‡(\u001fi®–r�[mog^\u0019/¹V×¸b�ã>Lºª\\Yää\u0012J¿}.ŒÇÉE‘Ém\u000b",
      "·a g\f",
      "$Ø53¸ë†ÿrM±\u001f\u001d",
      "kê‡KR~ìqýÆÔ\u0005˜Èô7zÀì\u001e",
      "Æù±n„�L:n\u0001ï¡ùþ¹\u0004#²�Z\u001f9Òk\u0001#X\n",
      "#¸8F°êQ3¸\u0003 QêÂ#ú áa\t³½âÌE™$Ô\u001c",
      "÷Q\u000f#\u0018ïšr€÷+í'wÙë–G\u0003§ÑÂ•U6‘Š|P\u0001#X\n",
      "#¸8F°êåy¡öÏL!$£ÁÍp\u0007ˆØƒ\u0005Ò|µ·h¶Ìä©zÉ\u0019\u0018šüâ¬öu>ö×õ@| \u000ef’IE£zf\n",
      "\u0018Áj\u0018ÁŽÓxW=Ž—Ä\f",
      "ìúEo¶—óãÛ8²Hèõ'©Û1‚õ0‚\u0007[�°y1Ö|w¨Ì×\u001e",
      "Hy”3®a–u\u000f�_a f\f",
      "#¸:F°êÉ\t®DNcyjÊ.@ôø6Ž\u0007:ŒC\u0006Á\u001c",
      "@Wõ\n",
      "8á†ƒ‘ÂÎÒÓEc_{à$QS‰\u000b",
      "ìœàŒÎÑ\u0000\u0011¬\u0006\u0011ìp#w-ÇMBŒub\u000f\u0010,\u001a‡\u0015Øã 31DpÖHež«Û…å\n",
      "81ÒÔÙÿ�ÒÕÝ…e÷ŽR,y*W*š\u001c",
      "\n",
      "Ò\u0000\u0011¬\u0006\u0011\\\u001d",
      "\"XËE‚á5O\f",
      "`Öa‰‡\u001e",
      "”0»\u0006Tzºyðº®\u000eZ.=ƒ-È†]Jê’\n",
      "$¿öÀ\u0001#e9\u001d",
      "ò`ì4Œû\u0006ˆ`5ˆ`×Uê®å¸IðæòºMfr¼¨‡\u001e",
      "”0kI\u0007Û+ve¯B7Ã­g\u0016-™Œ“DD‹\u000fÝ_ˆàT¨wXk‚ý\u0011Ý\u0015\u0001\"X\n",
      "\"ØynïZŽ¬ÀM„é-¯Ë‡¸ïA\tãw`‡\tÜsÉ#‡Ÿ{\u001c",
      "\u0015\u001b\u001bÂN%�Ö‘\u0018^z1‚‰KY‡-K~Ã\t\u0006rÆ0‚«c\u0004ëFõæ\u0015¦…8Æ\u0005ÝÅ.æÇ\u001e",
      "ÇD›Æ6ŒøKR_î»ÇýF\n",
      "®ñJò@ãùìÀ\t{àäyD}Ä\u001c",
      "Oía¸\"`\u0004«a\u0004WÇ\bÖ\u000b",
      "ÕË„,¶êa5žS¤ïaõÖÖÁÏâNbh�æÞˆ`Y½Ýé¶ \u0001Ó1Ë_{ n{†*3«\u0013\u0018!Ž¼3\u0001\"X\n",
      "\"¸:D°\u001e",
      "D0·ÁW\f",
      "‚T\u0001ÿ\n",
      "¿Æ)#í_\\R’›¼i¿\u0011Á˜!¦‡­:û\\]šÝ\f",
      "\u000f›x²í<ÏÒ\u0011—�h€\bVƒ\bv­!ïZŽÛ\u0005òŸ}æqß\u0013LâfØ÷\f",
      "±a”ð*Ö)»>\\{\u001c",
      "gÈû\u001bR\n",
      "\u001aþ“í{ØÄøa‰Ñ`mÕüNc43\f",
      "\u0004�A\u0004W‡\bÖƒ\b¦«oµ‰Ã=^}ªÞ{œ®qLvË�9³~\u001bŽ3C\\>©±�=ù¿~\u001bîn\u000b",
      "ì…W\b8çA\u0017\u001f4� 1ˆàê\u0010Áz!‚™W²Èh,Nò«ô=Ž€–>I\u000b",
      " ævä„=Ž')�Ê«£\u0001›Íú}¸›8±‰\u000eÓÿ\u001a›«Ìh†\u0001\"X\n",
      "\"ØYrw½\u0010Áx7�þÌ6ŠzÉ¶ÇÑMiÞpK·f£\u001fÏ=n�4K;d:ì’·}ënz\u0000\n",
      "Œ…C¤\n",
      "¤wÄ Ñ\u0000\u0011¬\u0006\u0011ì2WïZ·R\u0019m4vNUv¼we\\{\u001c",
      "v×d] ÎÑô£ËhÏ0Ÿw8ˆSZÍÙñ\"Ý*=\u001fLÿ;Ý�¬\u001e",
      "\u0012yh\u0002F°\u001aFpuŒ`­Ûó’¨'V¯\t¢Æ]Äi#}o\u0014v°™…Ò›+ÅÛã8C˜��¦&=5®lûú`f\u00010÷´1O<4ï\u0003F°\u001aFpuŒ`­§Ù5Îtn±u’Úd¢Ç\u001e",
      "—iñ±/eÎlsd·×s�ã\f",
      "™Ï71®‘yê4[Ý.\u001f\n",
      "\u001f&¸¯¶4-2�\u0002H°\u001aH°#0Þµî¶”t¯±mêÄ‰Z-\u0007ä±ÇeRv*OŽÎ¬\u001e",
      "\u001fS«—‡†YW´\u0019æ\u0007ÉVOÑö`›ŒÎ¦ä­Æó\u000b",
      "\u0004�A\u0004W‡\bÖº\u001d",
      "/•Õ[4ÜÙÃÎ\u001d",
      "¤ïar›¸ºéìV¦‰:\u000f[½ü3øâÂj\u0002öÈuäÎ=�\u00199D\u000eOˆ»:s˜¨\u0017\u0000‚Õ\u0000‚«\u0003\u0004kÝ­!3;1B³\u0011\u001a 6À÷Øã2½»�3©-ôž÷\u0003×Ë?ƒ\u0005'«ù2³mœž©Û?3IÎÍ#3Nž¢jQ\n",
      "\u0000Áj\u0000ÁÕ\u0001‚µîD\u0016!ûˆ¨åÂVÍ~\u000fö½\u0007ISéØÍ,&ÿ0Ã~f˜\u001bsF0¬~Jê®GHAó\u0010Ø–g+!!X\u0003B°\u001aBpu„`­§Ç¶0ØC—\u0011�\u000f¿Hß\u000eš\u001bñU9±•8îg›BýÔz9h\u0012£Õ™ý¬ÆtÍcÎ\u0003¹J¡Ë+{á\u0011¡\u001bÍ0Ð3\u0006\u0011\\\u001d",
      "\"Xëî¥”2ó9Ù°‘+ÕŸ2_ã˜òL8$'˜hèø«âêJ)\u0002Ã#­ÛüC®^=Jª²s%i´ý‡;êÇ)\u0006Œ`5Œàê\u0018ÁÚ¶®Paf>û´J\u001a~™n¦/[12�ƒ=Hqä¸ƒ´]UÛ¬êQnkf\u001b:ÉÖN¨‹\u0010160Æ11Ã*§€\u0012¬†\u0012ìÄæ]Ûö”Ð\u00156Vé6ýKn‚yOp%%$¢§\u0019mq\u0013Ü\u001e",
      "šº:†âÇ\"ÎÚõLzé\u0005\tÖ/Oþ€Ô\n",
      "§\u0017¨\u0019ƒ\b®\u000e\u0011¬mW\u001a�¼ú™Cüâ·õÓ{?‚}� ¡é”`\u001b\u0006ç\u0006>„`\"_ g„E{ùƒa¸\tÁ¤å3›´ÌÕ{.²í\u0003B°\u001aBpu„`m§Ð¨´Õ\f",
      "�`K\u0007µxìq\u0005\n",
      "™½–d\u0014z@mùàSÛ•\u0010œ\u0006\u00144Ì\u0004²Í¬:zí�Œj'R\b3™f\u0012Ö\u0019\u0006„`5„àê\bÁÚv\u000f'Ö·²A\u001f\u0016jÿà¾x�c>ß —��“Ü\\Ç\u0003=„àz£Ó¬q\u0019—Ò\u001d",
      "_v\u000fd5\u001bÕèJ�Ìß-W3Ã@Î\u0018D°ÃvÜõ�ê]%äx-+Ž9²Ï\bÞH_\\÷\u0015çíd2³ïfõÔƒ\b¦+‡}tØ2ï\u0003k]/61íL:8(”âU\u001a\b\u001aÃ\bv‘²»¶-h˜:Ã.~DkM_y°‘¾·9;n’Ä6\u0013ô\u0005¸\u0019^%Û…”ÌÉ\u001e",
      "[­û$¯vÒg–#•\u0019¸)•ðº\u000f\u0018Áj\u0018ÁÕ1‚õ�êm76\u0001­\u000b",
      "fÛ)²Ü\f",
      "ß%Û¸îÙ*”g%“ÓÍ°Ÿ\u0019b\u0012¬®]-Â­\u001d",
      "öÚ\u0003™ ´z®aIH\u000b",
      "{PkÀ\bVÃ\bv�\n",
      "ïÚNWJ\\lD\u0004ë\"Ê9Ów#}‰‚ÂBV˜Lì\u001d",
      "ãïÂqfÈÕL»�e{®gãy Òé�Û\u0017W\u000fÝ\u0000á>\f",
      "\u0004�a\u0004WÇ\bÖ¶»lçFàèÂ¾ákù\u0019^‚¦“�¾|·ÝÖf=õ@‚ëMx\n",
      "\u0014\u0018\n",
      "Ê–žn†W\u0006\n",
      "Û²áwÅ.”¨³¨\u0006�`5�àê ÁÚwä\u0007»«°�ý¤·Ë¿ÃÍô½q¯æÂÆ©¹5ûjžú\n",
      "\u0012¼BÄìØ€ûÂ\"Ð^zA‚Ù[ 2P7æ÷rx3Ã@Ï\u0018H°ësw×¾ý$XqdNµ¯Þ{n\u001f¾Ç±Ä‰\u0005é«ñMòþÆ§\u001e",
      "J01ã0¯èÀ †Æ]ˆýäÐd˜\u0015ƒ$ë45ôv\u0007˜`5˜àê0ÁÚ·£„É¤ÌÞMÌGò\u0017â{\\bñ\u0001óbVuVsÑ²ç\u001e",
      "¸º\u001aÒ!Gó¾³úÞMñdï4¶\u0018`\u001b0Ö/†ë4P5†\u0013ì¾Ñ]ûö”$zJhÝ'ö¦pºí=\u000e§ijyp3v&Þû\u0019^ª†.zÜ\u0003_\u0016µ»\u00117'˜EÄ4Ÿ*u`\u000b",
      "C£\u0001'X\n",
      "'¸:N°ö]>Í¾Òä#ÒÎwýž\u001e",
      "{\u001c",
      "}\u0018J¥\"PÓÄ\\º\u0019nUÃ* Ì¼\u001c",
      "%eÁÛNß@Á³1Ò3'ÛÉFº-\u0000\u0005«\u0001\u0005W\u0007\n",
      "Ö¾£?ÌŽ„\t\u0000«•\u0015£.4º¹¾|×+µ\u0002/ò\u0007èÈžáUçÄ{®\u0013‚Yš÷vïç)‰\u001aƒ€©:~h¹c&\u0018ˆ\u001aÃ\tv…äwíÛYÒ\u0013;~±¤^GöiBïq°Çk#‚\u000f'\b±\u000fÞÝÝ¯ºí>WUú \u0015ÁÖ=¼ô\u0002\u0005ÏÌp\u0013Ž0f:†§i j\f",
      "(Ø9\bïÚ·›†¬¤J†?É\u000f>Qè=ŽG\n",
      "_3Ãºøî.?ú¹\u0007rŠŒÀ5¦•Âjð•Ûý”XIc¡\u0002\u0003%?´˜7S\f",
      "d�A\u0005W‡\n",
      "Ö¾ãNe\n",
      ">Šy\u0002C\\\u001bÒÇ\u001e",
      "'ô‹\u000b",
      "ó‚Wç\u001e",
      "_QÙ¯J§”Ùw\u0007OÅ\u0007¸\u0012OÉ8,\u001a‚¶°Xã&¿\u001a°‚Õ°‚«c\u0005kß²\u0006ëI¸%R'NÄ_ú[ÖŒU}Ððm\n",
      "\u0017 SnýòÓ01N\u0017“6¹–Î¯=�¹\u0003t•Òíƒ­’¢°L\u0000\u000b",
      "V\u0003\u000b",
      "v¿å]ÇÖ5L¯“�?+ÁòîÖßpßÕN§á\n",
      "âÖÈ.\u001bþ©ã*u‚†e®\t1õÕs>ö\u0003qš’–I€yþÁ\u0003kf\u0018è\u001aC\u000b",
      "®Ž\u0016¬cëšŽÅIÇJbÑ‘_¦›î{c\u0003R2a©\n",
      "’¿ó\u000f.¸Ý¸\u001e",
      ":!ž39\u0012Áë<PéX­Ì>]Ù\f",
      "‘S?À\u0005«Á\u0005W‡\u000b",
      "Ö�íM7¶É!–‰†°½é\u001e",
      "gÜm\u001d",
      "¤“í<\u0016¯ËÍð*u¢±¬Ìg\u001bXüÎÎß\u000fÄ\u001d",
      "Ë$ÜAˆO\u001c",
      "µ\bpÁjpÁÕá‚uœ’ìB“¡¬ZBßƒäŒÃI\u00033˜½\u000fYwî]5ãÊ\f",
      "Î,ûZI—?4ÚÚ\u0013<¢\u0006\u000b",
      "&ñh–\u001a¶ Ñ€\u0016¬†\u0016\\\u001d",
      "-XGù6A2\u001a:«`\u001c",
      "\u000fy�[-,;»KW²óÅÖ†=õà‚Çm\u0011¦Hãþ\u0010‚{�O.7É¬Kd0Kz˜v\u0019à‚Õà‚]'ô»Ž-jØðº\u00124É\u0000¢Gµl\f",
      "ð¢`()-\n",
      "Ö$I—þ¬©ç5BáA¦3tž\u001d",
      "2ã¥\u0017ª¸-HD¡Œ�¸Ý\u001a\u0010ƒÕ\u0010ƒ«#\u0006ë\u0005îe>\u0012ó®\u0006¾�ëð°Ç‘ƒQ\u0016\tžAÔä{Šï�+|¸LÎ.+iÃÝ\u0017ãxk\u0006ÛµÓéFhAx_\u0004ºÆ ƒ«C\u0006ë›ÜËû‹\n",
      "˜XßH”±?k¶®I¬\u0005MË4OÐêŽÇºG®@>^agú%÷ˆ_ª§§\u0013C—dp\u0014ùOH\u0011\u00014X\n",
      "4¸:h°Ží¯Á-ÀFMyåê:¦î\u001e",
      "‡kŸùƒÒ™wÓ=èì¹\u0007¾ãÜ¼õÙ\u0012Âõ�xí�\f",
      "r0é¸,²D\u001c",
      "'\n",
      "°Áj°ÁÕaƒõMï­XV� m6hO®\u0013óc�ƒvëØ¶¤üÒ„ò(…qeÔ�¶S¿šãùÖc{ �-\"%¨—\bo‰2j\u0002l°\u001alpuØ`}Ó{éŒÇ+Æ�¹(ìîÊØ�ß\u001bÃDlÞÐH^°h†ç\u001e",
      "·’¢\bÍ˜u”¢¾oúy Ó9Y–\u0002û‰Ôˆh~�¬1Ô`§Ÿî:O%Ó¬i2·‡ûËç@Ïí®¡ó‘ŽNlœ\u0015Ñw3Ü\t5,ô!_žÕ±)Û\u001c",
      "‚×\u001e",
      "H…ÇÎ‘™YCÔ7Ñ\u0014\u0003]c°ÁÕaƒuîL]�å\u0004ã�qÄæ \u0010�=Ž!6lS\"»¾ª^Ý\f",
      "åÌPX\u0018Ë&y\n",
      "*ÕÝ\u0017û�}\u0011#;\u0013üf)!9)À\u0006«Á\u0006»Zñ»ÎÓt»/¬\u0010\u000eH’öü\f",
      "··&-$Y¢\u000e!\u0011ÒÍp'Ô°a\u000e#âP§©\f",
      "›'ñÚ\u0003Ù�‡)<üÝXZ\u001d",
      "nÃ@Ù\u0018lpuØ`�GÙ\f",
      "Võ2\u000e4«kãûØãhÒ±\u0017.nOâ¯ìr~îq+\tzaÜ2%¡x”Â<1¨Ä$@Úc]¾ç‡š\u0019\u0006ÂÆ`ƒ«Ã\u0006ë7l0)\u0003«“â‡ù}�*8\u001e",
      "“æÕ��1P§i64˜ey´ª…Á³æz„¼ÎÇÖ\u001b£\u001b¤Ëg.åÈ“\u0011@ƒÕ@ƒ«ƒ\u0006ë<ÒB˜‹ÇD l0o\u0004¿Ç±\u001ay\f",
      "\f",
      "$Ô\u00196°ó·Í+¥¦6ˆA,f\"\t|ÕÚþ`œ¤„Ä°g\u000e¹‘Ñ}\u001f@ƒÕ@ƒ«ƒ\u0006ëü&,\bÈáq‹ÅåümóŠT\t\u00038d\"³öÐÍð*yšP€l�Çº\u001a¯K÷\u0007CM5&šÍ\u0005\u000f\u000e½Q\u00015X\n",
      "5¸:j°ÎSH­²JYÙ×¥y4Ô{\u001c",
      "\tóPÔ¤J\u0010~âðäú�\u001a¬tKÈÊ9”\u000f3¼ºx¯ünÆgf\u000b",
      "3õ\u0003j°\u001ajpuÔ`ÝÔ`vž �Á\u001e",
      "ÒÅõñ}è�ü²t\u0014o\u001bß©zöîSçå©!‡…°j\f",
      "s}¢^çƒÙ\u001b\u0003[P.J\u000b",
      "œÂ%€\u0006\u0017\u0003\n",
      "v\u0015…÷’Ž®¨ôßNvNSuLšr ¿\\Q¸Ÿûj âœÂ%]Ž\u001aü^LŒªìÁã:Ã—‹BÜØ¬™e\u0012ƒQ¨h†Ÿ\u0015M1Øàê°ÁåÂ\u0001g\u0016æ¬\u0014aüžÖ´Øã&ÛLA…åÕ‰ÙáÂž%]L\u001aò\u0011\u0012nð•\n",
      "n\u0005Íùàvk%ãl\u001e",
      "¼ëG”\u0014U\u0002lp1Ø`§’ïåÂ\u00013zØ…gÈpÙà�3Ž©m“÷&ñJÃÙ\u0015å\u001b6˜\u0019Õì¸Â&Öî(ýöÁì­ËŸ\"36\u0013\\÷%À\u0006\u0017ƒ\n",
      "v%…÷rá€¡1q˜­ôDq×á\u0019\u0007ƒˆNBú8Gw^ƒg9ØàE<nÌ¾d†©Í\u000ex•‹W<;K›Ù\" IÔ\u0001°\u0004Øàb°ÁÕaƒK:\u000e“^Øwb$¢EÜeqÆá\u001d",
      "âë²U=Sdm‰Ñ³¤+üÄûžÇ.ûT¸îcç�„b2å¿¬l¥\u001c",
      "\\‡%À\u0006\u0017ƒ\n",
      "®\u000e\u001b\\.l0lBö�È‰ARkYœqùÖW3\u0001RVÕ%˜–C\n",
      "\u001e",
      "Ìa©ä,—ÅAt\u0013|?\u000fº€E\u0019ƒ¼…Ñ£V\u0016% \u0006\u0017C\n",
      "®Ž\u001a\\Ò¥hX`ÏÞ ?\u0000šöü\u000ee/\u0011×…—2ÙÅÚ^\u0015%]Dš\\WŸé…\u0006q\u0015Aç�ó¶\u0018žl˜ÈöA�YQ\u0002hp1Ðàê Á%�Ì\u0016%Œ\u0006z“-›\u001c",
      "êòŒK·Õv¬°r�õ•n†ÛE“Ø§rÐePI�·Æïy gÈè(´L¯Q\u0001p\t ÁÅ@ƒ\u001d",
      "¨ä^Òñ“0õjá§ˆvðÇÌ7Èž`\u0000Ž\u0004\u0018ÀV’îa_•\u0016}\u0005\tØîÁµ\bØ\u0003ñ;@Åã ¥ÅÖ¿gm™\t~–3Å0ƒ«c\u0006—Íîå�­¬ž\u0010\\LÓÕt•‹ñKO\u0018^IOêÂIÏ=ŒÞ\u000b",
      "]dP\u001c",
      "ÎÅ¹�_{\u001c",
      "ÍGÜNLé¯«Cr0¿\u0000\u0019\\\f",
      "2Øå†ÜK>¢\"�UíDø¡\u000b",
      "ö?Î¸Ì\u001b“}‘3‰¬Î\u0015¼Çñ\n",
      "Â††e<'!Ñ®²r\u000fdã\u000fæqr}R�Fz-@\u0006\u0017ƒ\f",
      "v&û½ä£fØ\u0006“Û\u0005\u0002Ë÷Â=ã„\u0011`eyó²ûÜ1šó·5:Ø ˜éÔÙ±ËÎ\u0003é6!\n",
      "\n",
      "WE¯Q\u000f„\u0012\u0010ƒ‹!\u0006WG\f",
      ".\u001bÜ\u000b",
      "i�ÍÅŽâBF³µ)Î8˜ös5\u0015O¸¹†k&S\u000e1˜Ò5áb«_jÆ*îo\u001f<•1õÚ‰ \u000b",
      "LŠ\u0012\u0000ƒ‹\u0001\u0006W\u0007\f",
      ".\u001bÜËZøÁV lwòi�\u001e",
      "-Cƒ—m·‰\u0001¶Á›gÉWÔ‰Y¸�>ªµ4Ü\u0004¯\u000ff.d¥�½åðž\bˆÁÅ\u0010ƒ«#\u0006—Mî�¼\bYŒœø­œ3¿\\„_‚}'\u00057Æ9Fâ\u001e",
      "Ç{\u0002\u001a¥0™ŸôC'eòñÍ¬0\u001e",
      "«\u0010Ø@)ºé\u0003bp1ÄàêˆÁåMîå÷‘µÛé¼\u0010oRä#e*Ntv—b’Œ+É+‡\u0018¼è\u0001ô\u0001§ÞÙ\u001bØÍ°îÝ/\u0004\\\u0012SÄœ€ð\u0015\u0006ZÆ ƒ�_ú^òiÕ„óŽŸ‚ýÎvàn†\u0017†OuÁ\f",
      "\tÌp¾‹’/ï\f",
      "\u0001¤Œ`\n",
      "ÖðùwØö\f",
      "\u0013™¦‰G\u0011>=<g\u00021c�ÁÕ!ƒK>­šð�{Yí¨²Ãëíal\u0005\u0001\u00193Ù{<%\u001f¾/ùªwbõR«°\u001c",
      "§¸(øë<°Óî-_{P#~`\t€ÁÅ\u0000ƒ«\u0003\u0006—7·—±!Ü„x7ô|Ú|ìÇ\u001e",
      "Æü:–\u0011’2ˆÍj}×Ï=Ž{�\u001d",
      ": £û$»Ö¿À+Ö$cI#æåD‰¥%à\u0005\u0017Ã\u000b",
      "®Ž\u0017\\ÞØ^Nð«ƒE¢uíú\u001bîq\\¢4–2ûŠ'ßÃb�ã\f",
      "a\u001f\f",
      "v»d\u001f©\u000fÇÌ\u0011QÂÂ©¦3Ã\u001aˆX³%à\u0005\u0017Ã\u000b",
      "vÝ>ïå�íe”–rbNb{‹·(äÊyY´j†N²ã€?‹|ãÑ\u0010ÐŽß¢\u0011VâÖ¨\u001c",
      "§�âî\u0019Ü$ƒD›0à\u0005\u0017Ã\u000b",
      "v�Þîå�íÅ\f",
      "‹àjî¸œÉprïpã}3\f",
      "€ÊÞWlí\\\\9PùÆ\u000b",
      "f~wfjÅ�·øžá‘QŒ\n",
      "\u000b",
      "aÅ\u0014\u0005á\f",
      "\u00039cxÁ.…ð^6¶—\u0000RÞ†ÜŒÍ9è\u001fg\u001c",
      "‘dt&3!…ùÒn†rÞ¡’¢\u0005Ë—~*ÛË‘3¬cÄ2®Ä\u001bÌèª\bxÁÅð‚«ã\u0005\u0017Ñë\u001d",
      "v\u0012\u001bØT£ù“tã}qÛ']èëå@tûP®ÔàÕ¿»²�ws}?^ç�lOÆÞ†‰±ò\u0010sY\u0002^p1¼`—Ìr/ol//CÅÕ,Ë…à.ÍÇ\u001e",
      "Ç<\n",
      "æ£ã·b·GûÅŸE®‚'\\—9Kêµ\u0012Wêfx|3�Ž\u0002lÁI¬Kø\u000e\u0003AcxÁÕñ‚‹\u001c",
      "A\u0003«Œeõ‹¦ëíB¹\u0004\n",
      "m¸Ô&‹¿\\º^9¼àÂFÅ™=\u0015x„X—Âë<��ÌÈšbº'+;£\u0019\u0006‚Æð‚]\n",
      "Ä½Èq’àÞJXx0Ó¨ŸÜ\f",
      "O®MmË£\u0004�•\u001d",
      "7óY\u000e/¸ÜX@ÕVqAr@‰×y \u0003†+Õ�€\n",
      "\u001d",
      "‘í\u001b\u0000ƒ‹\u0001\u0006W\u0007\f",
      ".rœ$$p¥Ì²×äªè\u001e",
      "å\u0002\u000b",
      "3™�×&Ï\u0011\u001b\u0019x–\u0003\f",
      ".Lï®«Ëh-îèz�\u0007V&ŸÎ¶ú\u001f�\u0003\u0019Í0�4\u0006\u0018ìÈÄ÷²¹½°+R¥áÁ’øl]š�r�…ñ#0^È\u0002%_ü[ä*xâñÏ»‡vˆõ5¾Î\u0003+;\tÀ”&{ˆpáh†�¦1Ààê€ÁEN\u001a\u000b",
      "·Í€yˆÏË®¯ø\u0019‡“†™.xá|3ÞÃv�ÁåÖ\tC.T¤êš*¼Î\u0003Ë�áÇ*¸)ò\u001c",
      "Q@­\u0004Èàb�ÁÕ!ƒË…îí\u0004Ø\u000b",
      "³š³ó‡?Ê…\u0016Î„©—RX—á5Íf\u0006ó�\n",
      "æ?\u0017è`ú½�¡ž‚§.Œˆ\u000e:�S<Ã@Ó\u0018f°Ó›÷¢'?·Aá³3\u0017Cj\u000eû|Æ¥\u001bã\u0014lI˜ÚpDÌgÑo‰Ál_Ã’BÈy—åu\u001e",
      "È\u0004b�D†AKièƒ\n",
      "˜ÁÅ0ƒ�Ãù^ô¸^\u001aôæÿ××™íH’ÛPôW\f",
      "¿OM,”\"\u0004Ø~ÈÌzôG´áž\u0019ÃK\u000fÆ\n",
      "ø÷Í£L1ÊºE¿u¡‰Šb,\u0012ÅåÜF'‹GnZ�ùÀ\u0016ö\u0013»\u0007?ÌâæáˆiP\u0016GµjÛyFóìÍ{üÂÂlÀÑÇ\u0014ªŸB²Ý\"a\u0006ÛÄ\f",
      "\u0016)‚›í‘{¡5­,Ð“|/—µô²ƒzEç©{ª-B¶_õ¦JI{i°HÛ'Ï0:ƒ=H|\u0002Ñ\u000f†‡2\u000f“˜fb\u0006\u000b",
      "�ëfƒÝÛ‡\u001d",
      "v@\\Õ6Õ\u0004\n",
      ";†wz�¬¢Ñ+aé~•›\u001a\u0012©°²�\"�ïñûì�Ý\u0010”»\u0007\u001bÙø¯%È`›�ÁE�Á6Ð½\u001b\u0013t;Y|\u000f³v¡}„Ýþ¶¬èÛ�w_¥•ú1ì:íc¡\u001c",
      "ƒè\u0007²¤âà5Âí§Â\u001d",
      "UÈ\u000eãÈ<L\"š‰\u0019\\„\u0019l{Ì\u001c",
      "ÕÅï6„4¿íó®yÿhÇäè‰–å©Çß\u000fÈàV|ÝêôšOf\u000eã÷ùvO²Ø¯Ý\u0017ñìè” ƒmB\u0006\u0017A\u0006Û\u001e",
      "©\u0017æd\b,80ÈD^Øùñ—^Dcª×v\u0019\u001c",
      "µýJÑ°zxÜM\u001e",
      " \n",
      "28~aER\u0001I\u0016(gÇ’>Â$ ™˜ÁE˜Á¶ÇÄ‘Ÿ˜¨@¬}Êxî\bþ`GË\u0019qJópYÃîýCCðÙÉ  �çÀç=~_E°Ý_ÎJ\u001e",
      "zË†d,A\u0006Û„\f",
      "®‚\f",
      "¶\u000b",
      "\u0005Üz\u0007bñ­|_>Ye\"ž1š?\u000b",
      "Sêë¡ñÌ~õ\u0003Ó¡\u0007ÎyñïK˜Áñ\u000b",
      "Qóè\u0011)'Ó–&J\u0013f°MÌà*Ì`»˜Ád®\u001bp\u0018Ú¸ÄÃ`\u0006·þ2Ó½~.2^ú\u0018vxØ\u0011\u0010í\u0019i\n",
      "7).Ü<Td–ÓOc€Š²sEÂ\f",
      "¶‰\u0019\\…\u0019l\u0016•¤\n",
      "\u00194Šwìúrr\n",
      "Ä¯ßf†=6Jü\u0002—\u001ff\u001d",
      "’¸{Dç÷\f",
      "T¶t\"Æu=Ú÷Ã(�=ûÿ)Û'Ä`›ˆÁUˆÁ6ˆÁ0‘)ç‚g3IlÞ‡\u001d",
      "ýJÛI±©ò:ë¹)ˆÁÛ\u001bk\f",
      "iq?ºo\"¤\u001a\u0017†uÞŒŽ>xá–-3\t1Ø&b°ôŽßÌ®q#þÿ Õí·R\u0016R\u000b",
      "\u0005\u0004ë‰†\u0005\f",
      "nÕ\u001e",
      "¯ \u0006Còô�ž\u001a‹!�,\u001e",
      "î#qB»ó‚ÂÄ\n",
      "r*ó0‰f&dp\u0015d°YD3\u0004™À+û¹V¿Â�®©Lz-H¾¯‡¶å›]íÀ¾\u0010ù6¿öZ¥\f",
      "þ\u000eCHuGŸ,¥[qIûƒ\u0012d°MÈà*È`³ˆgèŠ„¡ÀÇ.\u0003•ÃŽlÃÚ˜Å£õgNs<,�Á8Hƒ?bí‡âÙ†!\u000b",
      ".bnL³±\u001f¦\u000e&áÌ„\f",
      "\u0016\n",
      "ÐÍ,Úbà%µŽ.ZEØù>ìz²¡\"aá\u001f¬R¤\u001fÃ®×}\u000fæˆO\u0012_Ÿ´ÏX”º\u0010çðMÅ\u0018ûMwû\u0004\u0019l\u00132X˜V7³ˆgx4'›WÛ¥-æ>ìê\u001b#‰4äŸ­ÏÿŠ‡\u001f\u0010{°êý\n",
      "l\u00045ú’¾J],Hçºx@p4è´™‡I<3!ƒ« ƒÍ\"ñÒÓ\u0007¾\n",
      "Ðk©…ß—]¡K\u0003™ß¥¶‚h‚xx):Á’¨$ÄIøÈvo‘\u0019òÿ'Ü7ÐÉ[ºY$\u0001Í„\f",
      "®‚\f",
      "¶\u000b",
      "\u0019L£¬Ÿˆž%J}†c\u0010ŠÎ\u00042Ý‹ñ|t)ý ºMEÍ\u000fb=\u0001*!›E@s\u0000\\<7¦š³ÁmKˆÁ6\u0011ƒ«\u0010ƒ­DÞ\u0005=¸f~Ã‹ïûò\u0019¾ì\n",
      "‡…\n",
      "ð&Yãe~é\u001fÃ®«ÿm\n",
      "Ú\u0013Í–\u0002ex�\u000b",
      "û�€ÔR¸³%Up´„\u0018l\u00131¸\n",
      "1ØJÄ3~·Ñ¯`b¾êgø²«oÛî6«GÝ•xZ^Òråg\u000eæ\u000eZ\u001fw•v°÷¸0µ©\u0013aÅÚƒîÔÃ$¢™ˆÁ‚\u001b»Y‰ü\f",
      "jbŒòúaNô{îÃ®ø\u001d",
      "çPÈ\u0017CÍI^ÒrågÀÕ\u0014¿kþhš0‘ãÂÍoíŽ\u00121¹»–‘»-!\u0006ÛD\f",
      "®B\f",
      "¶\u0012µ¤\n",
      "Í‰Þ¿µˆVÂ}Øù“A(\f",
      "Ñ#8íºY”«‡f¡Žl�ZNá\u0010¼\u000fCªà›o&\u001e",
      "ÃuZ{ú\f",
      "“ˆf\"\u0006W!\u0006[ {).›\u001fb�\u001d",
      "“Þ˜û°£Ë÷\\ž\n",
      "E\u0007\n",
      "úâá¥Qéë2°©õ,E¤#ß‡!e\u0004 Ò\u001bc—€Ì3\u000f“ˆfb\u0006Wa\u0006Û\u000b",
      "ÞËº°ô­°Ñl>ã\u0006ï\u0016la£1C®\u0019:‡„4å\n",
      "iììZ\u001d",
      "\u001bþ}ò\f",
      "ËXiè`XØXV\u0010\u0003™‡IH3QƒE£èfeˆ\u0011ÐC\u0003Ë¯AÄÓ—ôbñÑY\u0007\u0019�\\·\u001c",
      "~\u00074¸w[n+�B\u0010[D\u0011h\u0018vù®J¬\u00010ÒÒ 4�\u0006Û\u0004\n",
      "®\u0002\n",
      "¶2¦¶Ù\bû¡\u001d",
      "¡\u0007-\u001b–ˆh˜­3\u0014\u0013ÎEàÂ�a‡‡gW¹õ8Œ\u0019b}„Gì†œ~‘\u0018Úì£àÅäa\u0012ÑLÐà*Ð`+\u0003FS€\u0014V:M Îêvx¾<\\O2FP²:b@<¼24•B+\u0003h\u000b",
      "\n",
      "éâá96\u000b",
      "Ò³ìÔ\u0007\u0003ãY\u0002#�\u0006Û\u0004\n",
      "®\u0002\n",
      "¶\u000b",
      "Ý‹\u0010.�#d\b5™_b´ÛÝG\u0003ÐC�*TäaÖGEkï1~BYu7Œ€†V6š½|7LE8-A\u0006Û„\f",
      "®‚\f",
      "¶:2/ð\u0011\u0017úô\u001al\u000b",
      "YI_v4·¯Ý7\u0003q$\n",
      "‡Ã®Ÿ~�®šÆÔÔ¢\u0011M�ˆ\u00060ÅR\u0018\u001c",
      "s\u0007³ 4A\u0006Û„\f",
      "®‚\f",
      "¶@\u00063\b»­\u0007\u0005”í“Gø²{&Œ�l×\u0013æ“8¸^\u000ev„-\u001b…Ç¦òŽÖÈÐPhrƒ\u0015¶Wê_\u0012ÏLÌ`Q)¾Y0ƒW\u000e{ä\u001aè¯›ÿðû°Ûß8õ\u0012I/\u0000ôµv? Á=ÇÆsñoÛlÑ…´F<ãA~ãƒõUéÈð\u0017–@ƒm‚\u0006W�\u0006[\u001d",
      "\n",
      "\bh¨žD�†Z¤¾£c`›Áu_\n",
      "àå\u001e",
      "&C÷ÃŽGèÇGÂMD›šv'\f",
      "h°?ÂÊÜÈŠlÉG¾ëäa\u0012ÏLÐà*Ð`«Wœâk[mKÛêÿ´#\n",
      "\u000fÇÀ¶ÑXRø\n",
      "OèRp\u001aÐ`<ô½Â_è\u0002Z@\u001bJkdh\u0018Ô0’´TdR\u000f“xf‚\u0006W�\u0006[\u001d",
      "ñÌÒÖ>Œê+)§`ñð•Q�\u001a¿xÐMìMÔ&\u001e",
      "ŽxÆ¿W”¦}‡õ\u0010éÔ’Ú€\u0006û[Ê™¢=\u0011-™N‡%Ð`› ÁU Áöb÷23Wl£«ÇŸ L\\Þ‡]o&BàŠ\u0001ïEæ„\u001e",
      "Ã\u000ea®\u001d",
      "�€½\u0017Â7\u0011æ\u001a†[\u001f(ê!<SŽ\u0019¿Ä\u0012h°MÐà*Ð`«�×ó�\u0001aFCˆSôñ,`ÀoŒß\u0015h\bÖVÑ¸~„¡»È(ì¾W¦5\u000eÍ`ÔhG~Ví}qå\u001féCL\"š‰\u001a,%ë›Õ˜]BOÆÿ\u0012 Þë|¬½[Ð€ß:ÏÔv\u001a/}gÑýp„4\u0005´€ï\u0016ý\\ñIGb½¦œü&ìþq Ö‘‰IH3aƒ«`ƒ-°Á'úÞŒ�¬œÉÕÅW¬²w™ÛBa~Ýé\n",
      "\u0011\u0017GPÃÇíÇ'ß^;¯FwÄ\u0018tòµÔ—[dgJÍø\u0017–pƒmâ\u0006Wá\u0006Û1‚š•6ì†ê/Êöò)\u000e\u001e",
      "0­\u001a°@ÖÕŽ.n?»\u0018†ÀIHþ\u0003\u001b\\\u0015à=\f",
      "é’¶>”âïmiè�€ƒm\u0002\u0007K§ÀÍŽ1�M—ÇÖ¨á×S2Ô÷a÷\u0003`J²Ø'\bKkZy\u001a†¸¸Ó*„6pû¤Ýëˆ®d�\u0000Ñû¶†¶Gêb\u0012ØLà`\u0019ç¸Ù1H4ˆ!ì§•g‡�\u001c",
      "�\u0007\u000fØÜpa:w\u0005Æ'ÕÈG\u0018º‹¥ósh\u000eƒÐ-.nÃEø§§¿>¤\u0019Òúh\u0002\u000e¶\t\u001c",
      "\\\u0005\u001c",
      "lÇ•©AÝÅW‘ÆŒ±¬¨\u0003\bŒ°\u0018=Û~»\u0011{\u0015ÎÇeÈ\"í\u0007\u0006\u0014ºüà&\u0002ãqå\u0006Ñ—­\u0016ñ¬ÃR\u0017“Ðf\"\u0007W!\u0007Û\u0011#ÙÌ\u001fûÇÈ´“,”÷a÷\u0003}\n",
      "Àv¾Ùªpä0ô§x2gK~«¨°L\\˜\n",
      "Ç\n",
      "¦ÅŸ¤¯wYå\"!\u0007ÛD\u000e®B\u000e¶Aðesò…�!\u0004Èdúž–ñž®ÇÎøsçÂk\u0013û°c=EÈ‹Ãû¾ËôÍ{\\˜E€á\"ÈQGK'\u0013t°Mè`Ñ\u0011¹Ù\u0011sLðoÏ\u0002“c;µ¼6ˆÀå\n",
      "õ’z.\u000b",
      "M\u0016:u8ìXk\u001a£Æ@\u0003>YLë8\".«‡ñ\u001e",
      "ø×^\u0014ÊüK\u0002›‰\u001b,\u0013Ë7;¢é×\u0010ÍØ*gµCÇ\u0010\u0006\u000eøx«Í7sêIç©ý™�0ì»>ËíŽúª4�½Ç•Ë\u001b\u00058_[=°Ú¶L´Ã\u0012n°MÜà*Ü`;®¡l_Ö\u0017ò\t~\u001e",
      "Ð.ýÁ\u0003†–á{þIB\n",
      "0‡¤2†¡Çnìq44 Â¥\u001e",
      "FªæYH¥ñf]ÒI‹„\u001bl\u00137¸\n",
      "7ØŽè¦yÎP3LÝ>™C\u00188à³£\u001füO.p.EA÷\u0011†î!$�µ€ÌþD(/®|¼\u001d",
      "}RŸÔŽ‡¬Y\u00051á\u0006ÛÄ\n",
      "®Â\n",
      "¶3ÊO€¹Oß\u0000h¢ÕöàÁ\u0003ö\u0018oë3y{­‚dx„\u0019\u000eîÌÐÒ…PD\u0005ä=®[éîØ—�²¤ï\u001aÙ[š`ƒmÂ\u0006‹úâÍÎ¨>õKøãë©!up\u001d",
      "\u000e¢ëdÌÐ\"F#ê9aˆºñŽ†\u0015'\u0016d2ÄÅu¬5ëÖ\u00059;\u001e",
      "=w1‰j&np\u0015n°]øÞÃÿl\u0004\u001d",
      "}{’sëÝ‚\u0007ìqÖÉvÈtÄ*1Ä#\f",
      "ý$Üy\u0012þ�­LáëSŒ|\n",
      "5\u0002\u0012Ç;\u0013ØYà–�ƒm\"\u0007W!\u0007Û\u0005ðÝh~dâ©w²Š‹£®Ô\u001bSüÝ#?Ö¤«á\u0011†þ\u0014\u0001Kr?üc\\tØâ¼¦­¨±s�B ;a$ì`›ØÁUØÁvFã¯U$‹\u001b\u000b",
      "e›cØ»\u0005\u0012x+­\u000b",
      "Uø’ª­2�0ä[¤ŠCÉî\u0004›+.FÆf3\u001ar\u000fêþ--æ'ì`›ØÁUØÁ6ø½hKø>GôÝšÎ8\u0007\u000fxëI2_\u001d",
      "ÈÚˆÐÎ#\f",
      "}O\\W\u0014½áÒî»æ¤ÎhªÙh5[Ph�ú–y˜„5\u00139Xfînv^a\n",
      "’ƒ¤µ\u000f:)ÄÅ\u001a.väÂÂxÔ6\u0007x�°ó/±�\u0003\u0006ÈúÉ\u0003ŒŽ\u001a\u001aivÿ\n",
      "=xÝÓáÊ„\u001al\u00135¸\n",
      "5ØÎ\u0000Í0õZ+’ƒ»ê\u0003\n",
      "»\u001fºZ÷A7\u0017…ª:oå�0ô'x\u0016àCÐf6)@¿\u000fÃþ\u0004Qèc.pm¹‹IT3Aƒ«@ƒíŒ¨¦t\u0019îµ¢\u0019 \u0010öa÷ƒŸ%É›’Î>Y%õ\u0011Ž¨¦‡+\u000b",
      "hõ.\u0000¬/i\f",
      "�ï\u000b",
      " éÞ—{d”rK Á6Aƒ«@ƒíŒ\u0001m3\u000fœjç\\lB+\u001d",
      "v<Eš›é\u0010nÖ„Ëý\bÃž®y\u0002Ö{Ë´>Å\u0018!÷/º�úÑ�µeÇ‹„\u001al\u00135XÄ¢oÖ\"¬yêò•JK²º8pÀ}À’žxzáV‘:y„¡?E÷Í\u000fÌ\u000b",
      "•€M‡Õ[€iè‰\u0007†F›bŠÞIÀÁ6�ƒ«€ƒ­ÅØ\u0013Š8\u000b",
      "´B6&yQ\u0007\u000f˜Œ\u00003ÎpÕü]\u0013¹€0Ü*Œ×‚\bRÝà\u0015‰‹¯tÍöö”WèŠÁ-c#[\u0002\u000e¶\t\u001c",
      "\\\u0005\u001c",
      "lƒßËâGj…é£u\u001e",
      "\u0017¾\u000f³îacÉeNvY>ñðÊÖ\u0018¸©åôè\u001a~†xøÊÖø½õHc=û¬|IG.\u0012p°Màà*à`\u001büÞ\n",
      "d©\u0007ˆ¾ÛuYeqq�÷”¬ŽïÎ\u001e",
      "[S8\u0012\u0017÷kµAa{íPŸsNŽ¼\u000fÃ\n",
      "�vÿ¸\u0001ÞÐQ�…n\t9Ø&rp\u0015r°µ«U˜6-Vïeû$\u0000\u001fDàžô\u0000B×‹\u000eºž\u00069¸Òˆ\u000f\u0014¸,À\u0010eW\u001c",
      "(b�ÓI÷ùq™úÚ•‘�ƒm\"\u0007W!\u0007[‹°†î\u000f R°ètxm0�ûb\u00039\u0012©ƒ²Ì ÛG\u0018º‹\u00052F…¢aŠ�xÙmÌvr‚Z\n",
      "šré¸zÂ\u000e¶‰\u001d",
      ",*w7k\u0011ÖtU\u000b",
      "n:iyÙ÷Û\u0015Ö�ø.\u0015¹¿mn\u0011x„�;è_×B|€F•\u001e",
      "õ_†îaóýuG+rigZ\u0010NØÁ6±ƒ«°ƒ­E¾¦õ�Ý\u000f=ô\u0010Ià\u0016Là�Òq¡7”hR$‚ÂÐ_?CjÇO¹\u0005i\u0001]k^‘M¥Aeï==~ßÒî¨\u0004\u001e",
      "l\u0013<¸\n",
      "<ØZ4\u000b",
      "Ÿ°\n",
      "�±\n",
      "Ñ%¾[0�WÚ(\u001a\u0012NÇ¹Ëùö\u0011†þp\u0016Z5aÂ,ÔöÅÃ3^Sô®ž\u0010ï=�~JàÁ6Áƒ«Àƒ­E¾f?6�Ý|ahà\u001e",
      "ÄÅv½¦À¶‘•kç¦ÕÄvåkz»\u001fã\u001c",
      "\"Æú>Ìx›—¥Ïb\u001e",
      "�îýÏ\u001d",
      ",\t<¸Lð`\u0019u¹•%†Ÿvßsý”vvâÞ|‚*\u0001\u0005fIb“^\u001b­\"Âe\n",
      "C*Â\u001c",
      ";™ðg¨j^j†!u\u000eÒ°]\"ÑßŸ$õ]\u0012zp™èÁUèÁe‰)mßÅIR—§\u0014—¸¸^\u001f¢\u001f-VF4à®ÎûE\u0018r\f",
      "F\u0015‹îbÀ\u0017sX3\f",
      "7XØ\f",
      "\u0000x˜äoµ€”~ü÷/_¿~|ùþåOøõËÏ_ÿüå·Ÿÿö¯ÿî\u001f_úþÇß/o¾Ôüö·Ÿ\u0019ÿþþí×þ/ßEþòíû÷oÿ\u001c",
      "?ýòõË_¿þÆO\u001e",
      "%üôíÛ÷ñÃ�~�ÿ|ûíïý:ú/PK\u0003\u0004\u0014\u0000\u0000\u0000\b\u0000\u0000\u0000?\u0000ƒ\u0018j%H\u0001\u0000\u0000&\u0002\u0000\u0000\u000f\u0000\u0000\u0000xl/workbook.xml�QËNÃ0\u0010¼ó\u0015ÖÞi\u001e",
      "j#Z5©ÄKTB€DiÏ&Þ4V\u001d",
      ";²\u001d",
      "Òþ=ëT)pã´3ãÝÑÎz¹:6Š}¡uÒè\u001c",
      "’I\f",
      "\f",
      "ui„Ôû\u001c",
      ">6�×7ÀœçZpe4æpB\u0007«âjÙ\u001b{ø4æÀh^»\u001c",
      "jïÛE\u0014¹²Æ†»‰iQÓKelÃ=Q»�\\k‘\u000b",
      "W#úFEi\u001c",
      "gQÃ¥†³ÃÂþÇÃT•,ñÞ”]ƒÚŸM,*îi{WËÖA±¬¤Âí9\u0010ãmûÂ\u001bZû¨€)îüƒ�\u001e",
      "E\u000eS¢¦Ç?‚íÚÛNª@fñ\f",
      "¢â\u0012òÍ2�\u0015ï”ßÐj£;�+�¦i\u0016:C×Vbï~†\u0002eÇ�ÔÂô9¤SºìidÉ\f",
      "X?à�\u0014¾&!‹ç\u0017í\tå¾ö9Ì³,\u000eæÑ/÷á~cez\b÷\u001e",
      "pBÿ\u0014êšö'l\u0017’€]‹dp\u0018ÇJ®JJ\u0013ÊÐ˜NgÉ\u001c",
      "XÕ)uGÚ«~6|0\bCc’â\u001bPK\u0003\u0004\u0014\u0000\u0000\u0000\b\u0000\u0000\u0000?\u0000–7îºž\u0000\u0000\u0000ã\u0000\u0000\u0000\u0014\u0000\u0000\u0000xl/sharedStrings.xml]ÎQ\n",
      "Â0\f",
      "ÆñwOQòî:ED¤íÐ‰'Ð\u0003”-n…5�K&z{'\"Â\u001e",
      "ÿ¿ðALñŒ�zàÀ!‘…U–ƒBªR\u001d",
      "¨±p½œ—;P,žjß%B\u000b",
      "/d(ÜÂ0‹š¦Ä\u0016Z‘~¯5W-FÏYê‘¦Ë-\n",
      "ÑË”C£¹\u001fÐ×Ü\"Jìô:Ï·:ú@ ª4’XØ€\u001a)ÜG,í\f",
      "\u0007gÄ\u001d",
      "Œ\u0016gô'¾pœC9‡Ó\u001fôô¥{\u0003PK\u0003\u0004\u0014\u0000\u0000\u0000\b\u0000\u0000\u0000?\u0000™\u0000Z[7\u0002\u0000\u0000M\u0006\u0000\u0000\n",
      "\u0000\u0000\u0000xl/styles.xml½UßkÛ0\u0010~ß_!ôž:Î¶°\u0005Ûek\t\u001d",
      ",e�\f",
      "¶GÙ–m�~\u0018I\u000eqÿú�$ÇvFKhaËCt÷é»ïî¤‹’Üž\u0004GGª\n",
      "S2ÅñÍ\u0012#*\u000b",
      "U2Y§øça»ø„‘±D–„+ISÜSƒo³w‰±=§û†R‹@Aš\u00147Ö¶›(2EC\u000517ª¥\u0012v*¥\u0005±àê:2­¦¤4.Hðhµ\\®#A˜ÄY\";±\u0015Ö BuÒB\u0019#„Âò­\u0004pý\u0001£ w§J(å7|\u0016»Ýâþ\u001e",
      "=<lv»Í~�£,‰\u0006±,©”œ4W8\u0000YbžÐ‘p\u0010Œ\u001d",
      "½P\\id¡hê\u0012\u0003\"‰ �qG8Ë5s`E\u0004ã}€W\u000eð}\u000e<Á¤Ò>wÈ\u0010¾óèäò‹k–q~Ù,\u0000YÒ\u0012k©–[pÐ`\u001fú\u0016ÒK¸Î ãyWØµ&}¼ú8\u000b",
      "ð\u000b",
      "äÍ•.a|æ™\u0003”%œV\u0016\u00024«\u001b·ZÕFnÓZ%À(\u0019©•$ÜIž#æ‘È�XŠmãG$œ\u001d",
      "é¬\u001aŽ.r¤Aý*×³|\tW©À9Wy•\u001bhÏ÷2\u0018pD\u0005å|ï”~U\u0017#~ªfã½tÃ-G\u0013\u000ew0ƒLpœþ\\-hÏdß¿I\u0016�ªQÿ¥èø…èxŠF¤my¿U¡¿à}õÄÉÿÂY-\u0005=\u001f\u00019»¨Qš=A¨›ñ\u0002\u0000ª±{—,+\u001c",
      "\u0002—â›?UU8¼\n",
      "¯¬ñ±\u00139Õ[ÿ˜LµýóÊ£á¶f#q1\u0010#ŠÜ»�âGW Ÿ\u0015ŸwŒ[&Ÿ\u0019\u0006Ð,OÓ\u001c",
      "ø]Krx£/²€FI+Òq{\u00187S<Ù;Z²N|\u001e",
      "Y?ØQÙ�5ÙßÝ¯)^û\n",
      "¦?‚ì\u000fPK\u0003\u0004\u0014\u0000\u0000\u0000\b\u0000\u0000\u0000?\u0000\u0018úFT°\u0005\u0000\u0000R\u001b\u0000\u0000\u0013\u0000\u0000\u0000xl/theme/theme1.xmlíYM�ÛD\u0018¾ó+F¾·Ž\u0013;Í®š­6Ù¤…í¶«Ý´¨Ç‰=±§\u0019{¬™ÉnsCí\u0011\t\tQ\u0010\u0017$n\u001c",
      "\u0010P©•¸”_³P\u0004Eê_àõG’ñf²Í¶‹\u0000µ9$žñó~ø\u001d",
      "çêµ\u00071CGDHÊ“¶å\\®Yˆ$>\u000fh\u0012¶­;ƒþ¥–…¤ÂI€\u0019OHÛš\u0012i]Ûúà*ÞT\u0011‰\t\u0002òDnâ¶\u0015)•nÚ¶ôa\u001bËË<%\tÜ\u001bq\u0011c\u0005K\u0011Ú�ÀÇÀ6fv½VkÚ1¦‰…\u0012\u001c",
      "\u0003×Û£\u0011õ\t\u001ad,­­\u0019ó\u001e",
      "ƒ¯DÉlÃgâÐÏ%ê\u001496\u0018;Ù�œÊ.\u0013è\b³¶\u0005r\u0002~< \u000f”…\u0018–\n",
      "n´­Zþ±ì­«öœˆ©\u0015´\u001a]?ÿ”t%A0®çt\"\u001c",
      "Î\t�¾»qegÎ¿^ð_Æõz½nÏ™óË\u0001Ø÷ÁRg\tëö[NgÆS\u0003\u0015—Ë¼»5¯æVñ\u001aÿÆ\u0012~£Óéx\u001b\u0015|c�w—ð­ZÓÝ®Wðî\u0002ï-ëßÙîv›\u0015¼·À7—ðý+\u001bM·ŠÏA\u0011£Éx\t�Ås\u001e",
      "™9dÄÙ\n",
      "#¼\u0005ðÖ,\u0001\u0016([Ë®‚>Q«r-Æ÷¹è\u0003 \u000f.V4Ajš’\u0011ö\u0001×ÅñPPœ\tÀ›\u0004kwŠ-_.me²�ô\u0005MUÛú(ÅP\u0011\u000b",
      "È«ç?¼zþ\u0014½zþääá³“‡?Ÿ<ztòð'\u0003á\n",
      "œ„:áËï>ÿë›OÐŸO¿}ùøK3^êøß~üô×_¾0\u0003•\u000e|ñÕ“ßŸ=yñõg|ÿØ\u0000ß\u0016x¨Ã\u00074&\u0012Ý\"Çè€Ç`›A\u0000\u0019ŠóQ\f",
      "\"L+\u00148\u0002¤\u0001ØSQ\u0005xkŠ™\t×!UçÝ\u0015Ð\u0000LÀë“û\u0015]\u000f#1QÔ\u0000Ü�â\n",
      "p�sÖáÂhÎn&K7g’„fáb¢ã\u000e0>2Éîž\n",
      "mo’B&S\u0013ËnD*jî3ˆ6\u000eIB\u0014Êîñ1!\u0006²{”VüºG}Á%\u001f)t�¢\u000e¦F—\f",
      "èP™‰nÐ\u0018â25)\b¡®øfï.êpfb¿CŽªH(\bÌL,\t«¸ñ:ž(\u001c",
      "\u001b5Æ1Ó‘7±ŠLJ\u001e",
      "N…_q¸T\u0010é�0Žz\u0001‘ÒDs[L+êîbèDÆ°ï±i\\E\n",
      "EÇ&äMÌ¹ŽÜáãn„ãÔ¨3M\"\u001d",
      "û¡\u001c",
      "CŠb´Ï•Q\t^­�l\n",
      "qÀÉÊpß¥D�¯¬ïÐ02'Hvg\"Ê®]é¿1MÎjÆŒB7~ßŒgðmx4™Jât\u000b",
      "^…û\u001f6Þ\u001d",
      "<Iö\täúû¾û¾ï¾‹}wU-¯Ûm\u0017\n",
      "ÖÖçâœ_¼rH\u001e",
      "QÆ\u000eÕ”‘›2oÍ\u0012”\u000eú°™/r¢ùLžFpYŠ«àB�ók$¸ú˜ªè0Â)ˆqr\t¡,Y‡\u0012¥\\ÂIÀZÉ;?NR0>ßófg@@cµÇƒb»¡Ÿ\n",
      "çlòU(uA�ŒÁºÂ\u001aWÞN˜S\u0000×”æxfiÞ™ÒlÍ›P\n",
      "\bg\u0007§Y/DCÆ`F‚Ìï\u0005ƒYX.<D2Â\u0001)cä\u0018\n",
      "q\u001akº­õz¯iÒ6\u001ao'm� éâÜ\u0015â¼\u000b",
      "ˆRm)Jör9²¤ºBÇ •W÷,äã´m�`’‚Ë8\u0005~2k@˜…IÛòUiÊk‹ù´Áæ´tj+\n",
      "®ˆH…T;XF\u0005U~köê$Yè_÷ÜÌ\u000f\u0017c€¡\u001b­§E£åü‹ZØ§CKF#â«\u0015;‹ey�O\u0014\u0011‡QpŒ†l\"\u000e0èí\u0016Ù\u0015P\tÏŒúl! BÝ2ñª•_VÁéW4eu`–F¸ìI--ö\u0005<¿žë�¯4õì\u0015º¿¡)�\u000b",
      "4Å{wMÉ2\u0017ÆÖF�\u001f¨`\f",
      "\u0010\u0018e9Ú¶¸P\u0011‡.”FÔï\u000b",
      "\u0018\u001c",
      "rY \u0017‚²ÈTB,{ßœéJŽ\u0016}«àQ4¹0R\u00074D‚B§S‘ d_•v¾†™S×Ÿ¯3FeŸ™«+ÓâwHŽ\b\u001bdÕÛÌì·P4ë&¥#rÜé Ù¦ê\u001a†ýÿðäã®˜|Î\u001e",
      "\u000f\u0016‚ÜóÌ\"®ÖôµGÁÆÛ©pÎGmÝlqÝ[ûQ›Âá\u0003e_Ð¸©ðÙb¾\u001d",
      "ð\u0003ˆ>šO”\b\u0012ñR«,¿ùæ\u0010tniÆe¬þÙ1j\u0011‚ÖŠx_äð©9»±ÂÙg‹{sg{\u0006_{g»Ú^.Q[;Èä«¥?žøð>ÈÞ�ƒÒ„)Y¼Mz\u0000GÍîì/\u0003àc/H·þ\u0006PK\u0003\u0004\u0014\u0000\u0000\u0000\b\u0000\u0000\u0000?\u0000æªrû$\u0001\u0000\u0000P\u0002\u0000\u0000\u0011\u0000\u0000\u0000docProps/core.xml�’ËjÃ0\u0010E÷ý\n",
      "£½-Ëî\u000b",
      "c;Ð–¬\u001a(4¥¡;!M\u001c",
      "Që�¤ÖÉßWñ+\tdUÐFºwÎÜ\u0019T.ö²�~Á:¡U…H’¢\b\u0014Ó\\¨¦B\u001fëeüˆ\"ç©â´Õ\n",
      "*t\u0000‡\u0016õMÉLÁ´…7«\n",
      "X/ÀE\u0001¤\\ÁL…vÞ›\u0002cÇv ©K‚C\u0005q«­¤>\\mƒ\n",
      "eß´\u0001œ¥é=–à)§žâ#063\u0011�HÎf¤ù±m\u000fà\f",
      "C\u000b",
      "\u0012”w˜$\u0004Ÿ¼\u001e",
      "¬tW\u000b",
      "zåÌ)…?\u0018¸j�ÄÙ½wb6v]—tyo\n",
      "ù\tÞ¬^ßûQc¡Ž«b€ê’³‚Y ^ÛºÄç—°¸–:¿\n",
      "+Þ\n",
      "àO‡ _y\u001b\u0007\u0019ê€G!@1Ä�”Ïüùe½Du–f$Nó8½]\u0013R„s÷ðulyQ\u0002Ê±É¿‰\u0013`È}ù\tê?PK\u0003\u0004\u0014\u0000\u0000\u0000\b\u0000\u0000\u0000?\u0000^º§Ów\u0001\u0000\u0000\u0010\u0003\u0000\u0000\u0010\u0000\u0000\u0000docProps/app.xml�’ÁNë0\u0010E÷|Eä=uR!ôT9F¨€XðD¥\u0016X\u001bgÒX8¶å\u0019¢–¯ÇIÕ�\u0002+²º3su}2¶¸Úµ6ë ¢ñ®dÅ,g\u00198í+ã¶%{ÚÜ�ÿc\u0019’r•²ÞAÉö€ìJž‰Uô\u0001\"\u0019À,%8,YC\u0014\u0016œ£n U8Kc—&µ�­¢TÆ-÷um4ÜxýÞ‚#>ÏóK\u000e;\u0002WAu\u001e",
      "Æ@vH\\tô×ÐÊëž\u000fŸ7û�ò¤¸\u000eÁ\u001a­(ý¤üotôèkÊnw\u001a¬àÓ¡HAkÐïÑÐ^æ‚OK±ÖÊÂ2\u0005ËZY\u0004Á¿\u001aâ\u001e",
      "T¿³•2\u0011¥èhÑ�&\u001f34\u001fiks–½*„\u001e",
      "§d�ŠF9b\u0007Û¡\u0018´\n",
      "HQ¾øø†\n",
      "\u0000¡àcs�SïT›\u000b",
      "Y\f",
      "†$N�|\u0004Iú\u0014qcÈ\u0002>Ö+\u0015é\u0017âbJ<0°\tãºç+~ð\u001d",
      "Oú–½ômP.-��êÁ¸7|\n",
      "\u001b£\bŽë<mŠu£\"Té\u0006Æu�\n",
      "qŸ¸¢íýËF¹-TGÏÏAùÏ‡\u0007.‹ù,OßpçÇžà_oY~\u0002PK\u0001\u0002\u0014\u0000\u0014\u0000\u0000\u0000\b\u0000\u0000\u0000?\u0000a]I:O\u0001\u0000\u0000�\u0004\u0000\u0000\u0013\u0000\u0000\u0000\u0000\u0000\u0000\u0000\u0000\u0000\u0000\u0000¶�\u0000\u0000\u0000\u0000[Content_Types].xmlPK\u0001\u0002\u0014\u0000\u0014\u0000\u0000\u0000\b\u0000\u0000\u0000?\u0000òŸIÚé\u0000\u0000\u0000K\u0002\u0000\u0000\u000b",
      "\u0000\u0000\u0000\u0000\u0000\u0000\u0000\u0000\u0000\u0000\u0000¶�€\u0001\u0000\u0000_rels/.relsPK\u0001\u0002\u0014\u0000\u0014\u0000\u0000\u0000\b\u0000\u0000\u0000?\u0000Du[ðè\u0000\u0000\u0000¹\u0002\u0000\u0000\u001a\u0000\u0000\u0000\u0000\u0000\u0000\u0000\u0000\u0000\u0000\u0000¶�’\u0002\u0000\u0000xl/_rels/workbook.xml.relsPK\u0001\u0002\u0014\u0000\u0014\u0000\u0000\u0000\b\u0000\u0000\u0000?\u0000Uq4×{\u0000\u0000°¹\u0001\u0000\u0018\u0000\u0000\u0000\u0000\u0000\u0000\u0000\u0000\u0000\u0000\u0000¶�²\u0003\u0000\u0000xl/worksheets/sheet1.xmlPK\u0001\u0002\u0014\u0000\u0014\u0000\u0000\u0000\b\u0000\u0000\u0000?\u0000ƒ\u0018j%H\u0001\u0000\u0000&\u0002\u0000\u0000\u000f\u0000\u0000\u0000\u0000\u0000\u0000\u0000\u0000\u0000\u0000\u0000¶�¿\u0000\u0000xl/workbook.xmlPK\u0001\u0002\u0014\u0000\u0014\u0000\u0000\u0000\b\u0000\u0000\u0000?\u0000–7îºž\u0000\u0000\u0000ã\u0000\u0000\u0000\u0014\u0000\u0000\u0000\u0000\u0000\u0000\u0000\u0000\u0000\u0000\u0000¶�4�\u0000\u0000xl/sharedStrings.xmlPK\u0001\u0002\u0014\u0000\u0014\u0000\u0000\u0000\b\u0000\u0000\u0000?\u0000™\u0000Z[7\u0002\u0000\u0000M\u0006\u0000\u0000\n",
      "\u0000\u0000\u0000\u0000\u0000\u0000\u0000\u0000\u0000\u0000\u0000¶�\u0004‚\u0000\u0000xl/styles.xmlPK\u0001\u0002\u0014\u0000\u0014\u0000\u0000\u0000\b\u0000\u0000\u0000?\u0000\u0018úFT°\u0005\u0000\u0000R\u001b\u0000\u0000\u0013\u0000\u0000\u0000\u0000\u0000\u0000\u0000\u0000\u0000\u0000\u0000¶�f„\u0000\u0000xl/theme/theme1.xmlPK\u0001\u0002\u0014\u0000\u0014\u0000\u0000\u0000\b\u0000\u0000\u0000?\u0000æªrû$\u0001\u0000\u0000P\u0002\u0000\u0000\u0011\u0000\u0000\u0000\u0000\u0000\u0000\u0000\u0000\u0000\u0000\u0000¶�GŠ\u0000\u0000docProps/core.xmlPK\u0001\u0002\u0014\u0000\u0014\u0000\u0000\u0000\b\u0000\u0000\u0000?\u0000^º§Ów\u0001\u0000\u0000\u0010\u0003\u0000\u0000\u0010\u0000\u0000\u0000\u0000\u0000\u0000\u0000\u0000\u0000\u0000\u0000¶�š‹\u0000\u0000docProps/app.xmlPK\u0005\u0006\u0000\u0000\u0000\u0000\n",
      "\u0000\n",
      "\u0000€\u0002\u0000\u0000?�\u0000\u0000\u0000\u0000\n"
     ]
    }
   ],
   "source": [
    "# Verificar se existe o arquivo no windows \n",
    "!type teste-df-output.xlsx"
   ]
  },
  {
   "cell_type": "code",
   "execution_count": 123,
   "metadata": {},
   "outputs": [
    {
     "data": {
      "text/html": [
       "<div>\n",
       "<style scoped>\n",
       "    .dataframe tbody tr th:only-of-type {\n",
       "        vertical-align: middle;\n",
       "    }\n",
       "\n",
       "    .dataframe tbody tr th {\n",
       "        vertical-align: top;\n",
       "    }\n",
       "\n",
       "    .dataframe thead th {\n",
       "        text-align: right;\n",
       "    }\n",
       "</style>\n",
       "<table border=\"1\" class=\"dataframe\">\n",
       "  <thead>\n",
       "    <tr style=\"text-align: right;\">\n",
       "      <th></th>\n",
       "      <th>Unnamed: 0</th>\n",
       "      <th>A</th>\n",
       "      <th>B</th>\n",
       "      <th>C</th>\n",
       "      <th>D</th>\n",
       "    </tr>\n",
       "  </thead>\n",
       "  <tbody>\n",
       "    <tr>\n",
       "      <th>0</th>\n",
       "      <td>2018-03-04</td>\n",
       "      <td>-1.388204</td>\n",
       "      <td>-0.407814</td>\n",
       "      <td>2.143587</td>\n",
       "      <td>-1.224904</td>\n",
       "    </tr>\n",
       "    <tr>\n",
       "      <th>1</th>\n",
       "      <td>2018-03-05</td>\n",
       "      <td>-0.470752</td>\n",
       "      <td>0.618018</td>\n",
       "      <td>1.673524</td>\n",
       "      <td>-0.448960</td>\n",
       "    </tr>\n",
       "    <tr>\n",
       "      <th>2</th>\n",
       "      <td>2018-03-06</td>\n",
       "      <td>-0.352221</td>\n",
       "      <td>1.333833</td>\n",
       "      <td>0.871223</td>\n",
       "      <td>-2.243135</td>\n",
       "    </tr>\n",
       "    <tr>\n",
       "      <th>3</th>\n",
       "      <td>2018-03-07</td>\n",
       "      <td>0.384929</td>\n",
       "      <td>0.637056</td>\n",
       "      <td>1.802241</td>\n",
       "      <td>-0.721295</td>\n",
       "    </tr>\n",
       "    <tr>\n",
       "      <th>4</th>\n",
       "      <td>2018-03-08</td>\n",
       "      <td>-0.801361</td>\n",
       "      <td>1.128643</td>\n",
       "      <td>2.666772</td>\n",
       "      <td>-1.300069</td>\n",
       "    </tr>\n",
       "  </tbody>\n",
       "</table>\n",
       "</div>"
      ],
      "text/plain": [
       "  Unnamed: 0         A         B         C         D\n",
       "0 2018-03-04 -1.388204 -0.407814  2.143587 -1.224904\n",
       "1 2018-03-05 -0.470752  0.618018  1.673524 -0.448960\n",
       "2 2018-03-06 -0.352221  1.333833  0.871223 -2.243135\n",
       "3 2018-03-07  0.384929  0.637056  1.802241 -0.721295\n",
       "4 2018-03-08 -0.801361  1.128643  2.666772 -1.300069"
      ]
     },
     "execution_count": 123,
     "metadata": {},
     "output_type": "execute_result"
    }
   ],
   "source": [
    "# Lendo arquivo do excel para um DataFrame\n",
    "newDf2 = pd.read_excel ('teste-df-output.xlsx', 'Sheet1', index_col=None, na_values=['NA'])\n",
    "newDf2.head()"
   ]
  },
  {
   "cell_type": "code",
   "execution_count": 132,
   "metadata": {},
   "outputs": [],
   "source": [
    "# Remover o arquivo do sistema operacional.\n",
    "os.remove('teste-df-output.xlsx')"
   ]
  }
 ],
 "metadata": {
  "kernelspec": {
   "display_name": "Python 3",
   "language": "python",
   "name": "python3"
  },
  "language_info": {
   "codemirror_mode": {
    "name": "ipython",
    "version": 3
   },
   "file_extension": ".py",
   "mimetype": "text/x-python",
   "name": "python",
   "nbconvert_exporter": "python",
   "pygments_lexer": "ipython3",
   "version": "3.7.6"
  }
 },
 "nbformat": 4,
 "nbformat_minor": 4
}
