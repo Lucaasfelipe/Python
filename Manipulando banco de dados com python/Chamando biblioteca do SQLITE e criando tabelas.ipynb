{
 "cells": [
  {
   "cell_type": "markdown",
   "metadata": {},
   "source": [
    "# Manipulação de Banco de Dados com python"
   ]
  },
  {
   "cell_type": "code",
   "execution_count": 1,
   "metadata": {},
   "outputs": [],
   "source": [
    "# Importar o módulo de acesso ao SQLite\n",
    "import sqlite3"
   ]
  },
  {
   "cell_type": "code",
   "execution_count": 2,
   "metadata": {},
   "outputs": [],
   "source": [
    "# Criar conexão com banco de dados.\n",
    "# Se o banco de dados não existir, ele é criado neste momento. \n",
    "con = sqlite3.connect ('C:/Cientista de dados/Python/Manipulando banco de dados com python/escola.db')"
   ]
  },
  {
   "cell_type": "code",
   "execution_count": 3,
   "metadata": {},
   "outputs": [
    {
     "data": {
      "text/plain": [
       "sqlite3.Connection"
      ]
     },
     "execution_count": 3,
     "metadata": {},
     "output_type": "execute_result"
    }
   ],
   "source": [
    "type(con)"
   ]
  },
  {
   "cell_type": "code",
   "execution_count": 4,
   "metadata": {},
   "outputs": [],
   "source": [
    "# Criando um cursor \n",
    "# Um cursor permite percorrer todos os registros no conjunto de dados. \n",
    "cur = con.cursor()"
   ]
  },
  {
   "cell_type": "code",
   "execution_count": 5,
   "metadata": {},
   "outputs": [],
   "source": [
    "# Cria uma instrução SQL \n",
    "\n",
    "sql_create = 'create table Validando' \\\n",
    "'(id integer primary key, '\\\n",
    "'titulo varchar(100), '\\\n",
    "'categoria varchar (140))'"
   ]
  },
  {
   "cell_type": "code",
   "execution_count": 6,
   "metadata": {},
   "outputs": [
    {
     "data": {
      "text/plain": [
       "<sqlite3.Cursor at 0x1d5ce4c8570>"
      ]
     },
     "execution_count": 6,
     "metadata": {},
     "output_type": "execute_result"
    }
   ],
   "source": [
    "# Executando uma instrução SQL no cursor\n",
    "cur.execute(sql_create)"
   ]
  },
  {
   "cell_type": "code",
   "execution_count": 7,
   "metadata": {},
   "outputs": [],
   "source": [
    "# Criando INSERT\n",
    "sql_insert = 'insert into Validando values(?, ?, ?)'"
   ]
  },
  {
   "cell_type": "code",
   "execution_count": 8,
   "metadata": {},
   "outputs": [],
   "source": [
    "# Dados\n",
    "recset = [(1000, 'Ciência de dados', 'Cientista de dados'),\n",
    "         (1001, 'Big data fundamentos', 'Big Data'),\n",
    "         (1002, 'Python', 'Analise de dados')]"
   ]
  },
  {
   "cell_type": "code",
   "execution_count": 9,
   "metadata": {},
   "outputs": [],
   "source": [
    "# Inserindo registros. \n",
    "\n",
    "for rec in recset:\n",
    "    cur.execute(sql_insert, rec)"
   ]
  },
  {
   "cell_type": "code",
   "execution_count": 10,
   "metadata": {},
   "outputs": [],
   "source": [
    "# Gravar os dados\n",
    "con.commit()"
   ]
  },
  {
   "cell_type": "code",
   "execution_count": 11,
   "metadata": {},
   "outputs": [],
   "source": [
    "# criando SELECT\n",
    "sql_select = 'select * from Validando'"
   ]
  },
  {
   "cell_type": "code",
   "execution_count": 12,
   "metadata": {},
   "outputs": [],
   "source": [
    "# selecionar todos os registros e recupera os registros\n",
    "cur.execute(sql_select)\n",
    "dados = cur.fetchall()"
   ]
  },
  {
   "cell_type": "code",
   "execution_count": 13,
   "metadata": {},
   "outputs": [
    {
     "name": "stdout",
     "output_type": "stream",
     "text": [
      "Curso ID 1000, Titulo Ciência de dados, categoria Cientista de dados \n",
      "\n",
      "Curso ID 1001, Titulo Big data fundamentos, categoria Big Data \n",
      "\n",
      "Curso ID 1002, Titulo Python, categoria Analise de dados \n",
      "\n"
     ]
    }
   ],
   "source": [
    "# Mostra os dados\n",
    "for linha in dados: \n",
    "    print('Curso ID %d, Titulo %s, categoria %s \\n' %linha)"
   ]
  },
  {
   "cell_type": "code",
   "execution_count": 14,
   "metadata": {},
   "outputs": [],
   "source": [
    "# Gerando outros registros\n",
    "recset = [(1003, 'Gestão de dados', 'Big Data'),\n",
    "         (1004, 'R fundamentos', 'Análise de dados')]\n",
    "\n",
    "# Insert dos registros. \n",
    "for rec in recset:\n",
    "    cur.execute(sql_insert, rec)\n",
    "    \n",
    "# Gravando os registros na tabela \n",
    "con.commit()"
   ]
  },
  {
   "cell_type": "code",
   "execution_count": 15,
   "metadata": {},
   "outputs": [
    {
     "name": "stdout",
     "output_type": "stream",
     "text": [
      "Curso ID 1002, Titulo Python, categoria Analise de dados \n",
      "\n",
      "Curso ID 1002, Titulo Python, categoria Analise de dados \n",
      "\n",
      "Curso ID 1002, Titulo Python, categoria Analise de dados \n",
      "\n",
      "Curso ID 1002, Titulo Python, categoria Analise de dados \n",
      "\n",
      "Curso ID 1002, Titulo Python, categoria Analise de dados \n",
      "\n"
     ]
    }
   ],
   "source": [
    "# Seleciona todos os registros\n",
    "cur.execute('select * from Validando')\n",
    "\n",
    "# Recupera os resultados \n",
    "recset = cur.fetchall()\n",
    "\n",
    "# Mostra \n",
    "for rec in recset: \n",
    "    print('Curso ID %d, Titulo %s, categoria %s \\n' %linha)"
   ]
  },
  {
   "cell_type": "code",
   "execution_count": 16,
   "metadata": {},
   "outputs": [],
   "source": [
    "# fechar a conexão\n",
    "con.close()"
   ]
  },
  {
   "cell_type": "code",
   "execution_count": null,
   "metadata": {},
   "outputs": [],
   "source": []
  }
 ],
 "metadata": {
  "kernelspec": {
   "display_name": "Python 3",
   "language": "python",
   "name": "python3"
  },
  "language_info": {
   "codemirror_mode": {
    "name": "ipython",
    "version": 3
   },
   "file_extension": ".py",
   "mimetype": "text/x-python",
   "name": "python",
   "nbconvert_exporter": "python",
   "pygments_lexer": "ipython3",
   "version": "3.7.6"
  }
 },
 "nbformat": 4,
 "nbformat_minor": 4
}
